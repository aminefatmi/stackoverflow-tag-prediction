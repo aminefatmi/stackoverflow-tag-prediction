{
 "cells": [
  {
   "cell_type": "markdown",
   "metadata": {
    "id": "NqeJPonsctQ4"
   },
   "source": [
    "# Libraries"
   ]
  },
  {
   "cell_type": "code",
   "execution_count": null,
   "metadata": {
    "id": "2Qhi8nrpfrQO"
   },
   "outputs": [],
   "source": [
    "from wordcloud import WordCloud"
   ]
  },
  {
   "cell_type": "code",
   "execution_count": null,
   "metadata": {
    "id": "Px_j7dz_HudE"
   },
   "outputs": [],
   "source": [
    "import pandas as pd\n",
    "import numpy as np\n",
    "import matplotlib.pyplot as plt\n",
    "import seaborn as sns\n",
    "sns.set_theme(style=\"darkgrid\")\n",
    "%matplotlib inline\n",
    "from matplotlib.gridspec import GridSpec\n",
    "\n",
    "from bs4 import BeautifulSoup"
   ]
  },
  {
   "cell_type": "code",
   "execution_count": null,
   "metadata": {
    "colab": {
     "base_uri": "https://localhost:8080/"
    },
    "executionInfo": {
     "elapsed": 4782,
     "status": "ok",
     "timestamp": 1610705361260,
     "user": {
      "displayName": "Amine Fatmi",
      "photoUrl": "",
      "userId": "03089012490628162303"
     },
     "user_tz": -60
    },
    "id": "_emsmMI3cq-e",
    "outputId": "2d1b69a8-87cc-412d-e6a5-2d80c9229d66"
   },
   "outputs": [
    {
     "name": "stdout",
     "output_type": "stream",
     "text": [
      "[nltk_data] Downloading package punkt to /root/nltk_data...\n",
      "[nltk_data]   Unzipping tokenizers/punkt.zip.\n",
      "[nltk_data] Downloading package stopwords to /root/nltk_data...\n",
      "[nltk_data]   Unzipping corpora/stopwords.zip.\n",
      "[nltk_data] Downloading package wordnet to /root/nltk_data...\n",
      "[nltk_data]   Unzipping corpora/wordnet.zip.\n",
      "[nltk_data] Downloading package averaged_perceptron_tagger to\n",
      "[nltk_data]     /root/nltk_data...\n",
      "[nltk_data]   Unzipping taggers/averaged_perceptron_tagger.zip.\n"
     ]
    }
   ],
   "source": [
    "import nltk\n",
    "nltk.download('punkt')\n",
    "from nltk.tokenize import word_tokenize\n",
    "import string\n",
    "from nltk.corpus import stopwords\n",
    "nltk.download('stopwords')\n",
    "import nltk\n",
    "nltk.download('wordnet')\n",
    "from nltk.stem import \tWordNetLemmatizer\n",
    "from nltk.corpus import wordnet\n",
    "nltk.download('averaged_perceptron_tagger')\n",
    "import re"
   ]
  },
  {
   "cell_type": "markdown",
   "metadata": {
    "id": "n4GuEYGUc1lF"
   },
   "source": [
    "# Read data"
   ]
  },
  {
   "cell_type": "code",
   "execution_count": null,
   "metadata": {
    "id": "HrJSK9P4HwmI"
   },
   "outputs": [],
   "source": [
    "stackoverflow = pd.read_csv('/QueryResults1.csv')"
   ]
  },
  {
   "cell_type": "code",
   "execution_count": null,
   "metadata": {
    "id": "CtcWDVuPITae"
   },
   "outputs": [],
   "source": [
    "stackoverflow2 = pd.read_csv('/QueryResults2.csv')"
   ]
  },
  {
   "cell_type": "code",
   "execution_count": null,
   "metadata": {
    "id": "qzJuxsvEI8M4"
   },
   "outputs": [],
   "source": [
    "stackoverflow3 = pd.read_csv('/QueryResults3.csv')"
   ]
  },
  {
   "cell_type": "code",
   "execution_count": null,
   "metadata": {
    "id": "GjpuYXuCJ79A"
   },
   "outputs": [],
   "source": [
    "stackoverflow4 = pd.read_csv('/QueryResults4.csv')"
   ]
  },
  {
   "cell_type": "code",
   "execution_count": null,
   "metadata": {
    "id": "wSh7412ZMXwX"
   },
   "outputs": [],
   "source": [
    "stackoverflow5 = pd.read_csv('/QueryResults5.csv')"
   ]
  },
  {
   "cell_type": "code",
   "execution_count": null,
   "metadata": {
    "id": "nTTwlNHQM7Wq"
   },
   "outputs": [],
   "source": [
    "stack = pd.concat([stackoverflow2, stackoverflow3, stackoverflow4, stackoverflow5], axis=0)"
   ]
  },
  {
   "cell_type": "markdown",
   "metadata": {
    "id": "-PhLLZM8VWNo"
   },
   "source": [
    "# EDA + Cleaning"
   ]
  },
  {
   "cell_type": "code",
   "execution_count": null,
   "metadata": {
    "colab": {
     "base_uri": "https://localhost:8080/",
     "height": 921
    },
    "executionInfo": {
     "elapsed": 1354,
     "status": "ok",
     "timestamp": 1609686463886,
     "user": {
      "displayName": "Amine Fatmi",
      "photoUrl": "",
      "userId": "03089012490628162303"
     },
     "user_tz": -60
    },
    "id": "uFV1zez4ygI3",
    "outputId": "20bc5843-c1e8-4785-edaf-e596c4258175"
   },
   "outputs": [
    {
     "data": {
      "text/html": [
       "<div>\n",
       "<style scoped>\n",
       "    .dataframe tbody tr th:only-of-type {\n",
       "        vertical-align: middle;\n",
       "    }\n",
       "\n",
       "    .dataframe tbody tr th {\n",
       "        vertical-align: top;\n",
       "    }\n",
       "\n",
       "    .dataframe thead th {\n",
       "        text-align: right;\n",
       "    }\n",
       "</style>\n",
       "<table border=\"1\" class=\"dataframe\">\n",
       "  <thead>\n",
       "    <tr style=\"text-align: right;\">\n",
       "      <th></th>\n",
       "      <th>id</th>\n",
       "      <th>AcceptedAnswerId</th>\n",
       "      <th>Score</th>\n",
       "      <th>ViewCount</th>\n",
       "      <th>Body</th>\n",
       "      <th>Title</th>\n",
       "      <th>Tags</th>\n",
       "      <th>AnswerCount</th>\n",
       "      <th>FavoriteCount</th>\n",
       "    </tr>\n",
       "  </thead>\n",
       "  <tbody>\n",
       "    <tr>\n",
       "      <th>0</th>\n",
       "      <td>16594613</td>\n",
       "      <td>16597402.0</td>\n",
       "      <td>91</td>\n",
       "      <td>12521</td>\n",
       "      <td>&lt;p&gt;The last week I read a lot articles about p...</td>\n",
       "      <td>How to hash long passwords (&gt;72 characters) wi...</td>\n",
       "      <td>&lt;php&gt;&lt;security&gt;&lt;hash&gt;&lt;passwords&gt;&lt;blowfish&gt;</td>\n",
       "      <td>3</td>\n",
       "      <td>50.0</td>\n",
       "    </tr>\n",
       "    <tr>\n",
       "      <th>1</th>\n",
       "      <td>8864</td>\n",
       "      <td>8869.0</td>\n",
       "      <td>85</td>\n",
       "      <td>30721</td>\n",
       "      <td>&lt;p&gt;Is there a difference between &lt;code&gt;NULL&lt;/c...</td>\n",
       "      <td>Difference between NULL and null in PHP</td>\n",
       "      <td>&lt;php&gt;&lt;null&gt;</td>\n",
       "      <td>3</td>\n",
       "      <td>10.0</td>\n",
       "    </tr>\n",
       "    <tr>\n",
       "      <th>2</th>\n",
       "      <td>32968527</td>\n",
       "      <td>32969085.0</td>\n",
       "      <td>88</td>\n",
       "      <td>103439</td>\n",
       "      <td>&lt;p&gt;I tried to upgrade hibernate from 4 to 5 in...</td>\n",
       "      <td>Hibernate-sequence doesn't exist</td>\n",
       "      <td>&lt;java&gt;&lt;spring&gt;&lt;hibernate&gt;</td>\n",
       "      <td>15</td>\n",
       "      <td>18.0</td>\n",
       "    </tr>\n",
       "    <tr>\n",
       "      <th>3</th>\n",
       "      <td>13537</td>\n",
       "      <td>13552.0</td>\n",
       "      <td>97</td>\n",
       "      <td>18118</td>\n",
       "      <td>&lt;p&gt;I've heard of the idea of bootstrapping a l...</td>\n",
       "      <td>Bootstrapping still requires outside support</td>\n",
       "      <td>&lt;compiler-construction&gt;&lt;bootstrapping&gt;</td>\n",
       "      <td>11</td>\n",
       "      <td>59.0</td>\n",
       "    </tr>\n",
       "    <tr>\n",
       "      <th>4</th>\n",
       "      <td>20047</td>\n",
       "      <td>21158.0</td>\n",
       "      <td>82</td>\n",
       "      <td>28561</td>\n",
       "      <td>&lt;p&gt;We're seeing some pernicious, but rare, dea...</td>\n",
       "      <td>Diagnosing Deadlocks in SQL Server 2005</td>\n",
       "      <td>&lt;sql-server&gt;&lt;sql-server-2005&gt;&lt;deadlock&gt;</td>\n",
       "      <td>22</td>\n",
       "      <td>58.0</td>\n",
       "    </tr>\n",
       "    <tr>\n",
       "      <th>...</th>\n",
       "      <td>...</td>\n",
       "      <td>...</td>\n",
       "      <td>...</td>\n",
       "      <td>...</td>\n",
       "      <td>...</td>\n",
       "      <td>...</td>\n",
       "      <td>...</td>\n",
       "      <td>...</td>\n",
       "      <td>...</td>\n",
       "    </tr>\n",
       "    <tr>\n",
       "      <th>1268</th>\n",
       "      <td>5874652</td>\n",
       "      <td>5876747.0</td>\n",
       "      <td>2349</td>\n",
       "      <td>632427</td>\n",
       "      <td>&lt;p&gt;So &lt;a href=\"http://api.jquery.com/category/...</td>\n",
       "      <td>.prop() vs .attr()</td>\n",
       "      <td>&lt;javascript&gt;&lt;jquery&gt;&lt;dom&gt;&lt;attr&gt;&lt;prop&gt;</td>\n",
       "      <td>18</td>\n",
       "      <td>735.0</td>\n",
       "    </tr>\n",
       "    <tr>\n",
       "      <th>1269</th>\n",
       "      <td>7131670</td>\n",
       "      <td>7131683.0</td>\n",
       "      <td>1368</td>\n",
       "      <td>582893</td>\n",
       "      <td>&lt;p&gt;I used to use CShell (&lt;a href=\"/questions/t...</td>\n",
       "      <td>Make a Bash alias that takes a parameter?</td>\n",
       "      <td>&lt;bash&gt;&lt;alias&gt;</td>\n",
       "      <td>20</td>\n",
       "      <td>311.0</td>\n",
       "    </tr>\n",
       "    <tr>\n",
       "      <th>1270</th>\n",
       "      <td>7147270</td>\n",
       "      <td>7147320.0</td>\n",
       "      <td>1107</td>\n",
       "      <td>645639</td>\n",
       "      <td>&lt;p&gt;I currently have three modified files in my...</td>\n",
       "      <td>Hard reset of a single file</td>\n",
       "      <td>&lt;git&gt;</td>\n",
       "      <td>9</td>\n",
       "      <td>255.0</td>\n",
       "    </tr>\n",
       "    <tr>\n",
       "      <th>1271</th>\n",
       "      <td>24319662</td>\n",
       "      <td>24326540.0</td>\n",
       "      <td>1751</td>\n",
       "      <td>999800</td>\n",
       "      <td>&lt;p&gt;So I have a Nginx running inside a docker c...</td>\n",
       "      <td>From inside of a Docker container, how do I co...</td>\n",
       "      <td>&lt;nginx&gt;&lt;docker&gt;&lt;reverse-proxy&gt;&lt;docker-networking&gt;</td>\n",
       "      <td>31</td>\n",
       "      <td>765.0</td>\n",
       "    </tr>\n",
       "    <tr>\n",
       "      <th>1272</th>\n",
       "      <td>24342886</td>\n",
       "      <td>NaN</td>\n",
       "      <td>1088</td>\n",
       "      <td>924096</td>\n",
       "      <td>&lt;p&gt;I want to do some programming with the late...</td>\n",
       "      <td>How to install Java 8 on Mac</td>\n",
       "      <td>&lt;java&gt;&lt;macos&gt;&lt;java-8&gt;&lt;installation&gt;</td>\n",
       "      <td>26</td>\n",
       "      <td>314.0</td>\n",
       "    </tr>\n",
       "  </tbody>\n",
       "</table>\n",
       "<p>100428 rows × 9 columns</p>\n",
       "</div>"
      ],
      "text/plain": [
       "            id  AcceptedAnswerId  ...  AnswerCount  FavoriteCount\n",
       "0     16594613        16597402.0  ...            3           50.0\n",
       "1         8864            8869.0  ...            3           10.0\n",
       "2     32968527        32969085.0  ...           15           18.0\n",
       "3        13537           13552.0  ...           11           59.0\n",
       "4        20047           21158.0  ...           22           58.0\n",
       "...        ...               ...  ...          ...            ...\n",
       "1268   5874652         5876747.0  ...           18          735.0\n",
       "1269   7131670         7131683.0  ...           20          311.0\n",
       "1270   7147270         7147320.0  ...            9          255.0\n",
       "1271  24319662        24326540.0  ...           31          765.0\n",
       "1272  24342886               NaN  ...           26          314.0\n",
       "\n",
       "[100428 rows x 9 columns]"
      ]
     },
     "execution_count": 9,
     "metadata": {
      "tags": []
     },
     "output_type": "execute_result"
    }
   ],
   "source": [
    "stack.head()"
   ]
  },
  {
   "cell_type": "code",
   "execution_count": null,
   "metadata": {
    "colab": {
     "base_uri": "https://localhost:8080/",
     "height": 287
    },
    "executionInfo": {
     "elapsed": 1892,
     "status": "ok",
     "timestamp": 1609510677022,
     "user": {
      "displayName": "Amine Fatmi",
      "photoUrl": "",
      "userId": "03089012490628162303"
     },
     "user_tz": -60
    },
    "id": "aJMrMq6xNeYh",
    "outputId": "5c5220d8-ae69-4774-b9a0-c8b1060a6922"
   },
   "outputs": [
    {
     "data": {
      "text/html": [
       "<div>\n",
       "<style scoped>\n",
       "    .dataframe tbody tr th:only-of-type {\n",
       "        vertical-align: middle;\n",
       "    }\n",
       "\n",
       "    .dataframe tbody tr th {\n",
       "        vertical-align: top;\n",
       "    }\n",
       "\n",
       "    .dataframe thead th {\n",
       "        text-align: right;\n",
       "    }\n",
       "</style>\n",
       "<table border=\"1\" class=\"dataframe\">\n",
       "  <thead>\n",
       "    <tr style=\"text-align: right;\">\n",
       "      <th></th>\n",
       "      <th>id</th>\n",
       "      <th>AcceptedAnswerId</th>\n",
       "      <th>Score</th>\n",
       "      <th>ViewCount</th>\n",
       "      <th>AnswerCount</th>\n",
       "      <th>FavoriteCount</th>\n",
       "    </tr>\n",
       "  </thead>\n",
       "  <tbody>\n",
       "    <tr>\n",
       "      <th>count</th>\n",
       "      <td>1.004280e+05</td>\n",
       "      <td>8.686300e+04</td>\n",
       "      <td>100428.000000</td>\n",
       "      <td>1.004280e+05</td>\n",
       "      <td>100428.000000</td>\n",
       "      <td>100395.000000</td>\n",
       "    </tr>\n",
       "    <tr>\n",
       "      <th>mean</th>\n",
       "      <td>1.310228e+07</td>\n",
       "      <td>1.374503e+07</td>\n",
       "      <td>156.308460</td>\n",
       "      <td>1.527944e+05</td>\n",
       "      <td>8.612867</td>\n",
       "      <td>47.894736</td>\n",
       "    </tr>\n",
       "    <tr>\n",
       "      <th>std</th>\n",
       "      <td>1.322702e+07</td>\n",
       "      <td>1.365817e+07</td>\n",
       "      <td>302.990101</td>\n",
       "      <td>2.386581e+05</td>\n",
       "      <td>7.698627</td>\n",
       "      <td>130.615805</td>\n",
       "    </tr>\n",
       "    <tr>\n",
       "      <th>min</th>\n",
       "      <td>4.000000e+00</td>\n",
       "      <td>7.000000e+00</td>\n",
       "      <td>51.000000</td>\n",
       "      <td>5.660000e+02</td>\n",
       "      <td>0.000000</td>\n",
       "      <td>0.000000</td>\n",
       "    </tr>\n",
       "    <tr>\n",
       "      <th>25%</th>\n",
       "      <td>2.771549e+06</td>\n",
       "      <td>3.018452e+06</td>\n",
       "      <td>64.000000</td>\n",
       "      <td>4.553675e+04</td>\n",
       "      <td>4.000000</td>\n",
       "      <td>14.000000</td>\n",
       "    </tr>\n",
       "    <tr>\n",
       "      <th>50%</th>\n",
       "      <td>8.284506e+06</td>\n",
       "      <td>8.902918e+06</td>\n",
       "      <td>88.000000</td>\n",
       "      <td>8.767700e+04</td>\n",
       "      <td>7.000000</td>\n",
       "      <td>25.000000</td>\n",
       "    </tr>\n",
       "    <tr>\n",
       "      <th>75%</th>\n",
       "      <td>1.952858e+07</td>\n",
       "      <td>2.043608e+07</td>\n",
       "      <td>148.000000</td>\n",
       "      <td>1.712448e+05</td>\n",
       "      <td>11.000000</td>\n",
       "      <td>46.000000</td>\n",
       "    </tr>\n",
       "    <tr>\n",
       "      <th>max</th>\n",
       "      <td>6.530330e+07</td>\n",
       "      <td>6.493439e+07</td>\n",
       "      <td>25113.000000</td>\n",
       "      <td>9.137293e+06</td>\n",
       "      <td>518.000000</td>\n",
       "      <td>11205.000000</td>\n",
       "    </tr>\n",
       "  </tbody>\n",
       "</table>\n",
       "</div>"
      ],
      "text/plain": [
       "                 id  AcceptedAnswerId  ...    AnswerCount  FavoriteCount\n",
       "count  1.004280e+05      8.686300e+04  ...  100428.000000  100395.000000\n",
       "mean   1.310228e+07      1.374503e+07  ...       8.612867      47.894736\n",
       "std    1.322702e+07      1.365817e+07  ...       7.698627     130.615805\n",
       "min    4.000000e+00      7.000000e+00  ...       0.000000       0.000000\n",
       "25%    2.771549e+06      3.018452e+06  ...       4.000000      14.000000\n",
       "50%    8.284506e+06      8.902918e+06  ...       7.000000      25.000000\n",
       "75%    1.952858e+07      2.043608e+07  ...      11.000000      46.000000\n",
       "max    6.530330e+07      6.493439e+07  ...     518.000000   11205.000000\n",
       "\n",
       "[8 rows x 6 columns]"
      ]
     },
     "execution_count": 9,
     "metadata": {
      "tags": []
     },
     "output_type": "execute_result"
    }
   ],
   "source": [
    "stack.describe()"
   ]
  },
  {
   "cell_type": "code",
   "execution_count": null,
   "metadata": {
    "id": "JrvBVwqHOR0E"
   },
   "outputs": [],
   "source": [
    "stack = stack.reset_index().drop('index', axis=1)"
   ]
  },
  {
   "cell_type": "code",
   "execution_count": null,
   "metadata": {
    "id": "Kpc7KF-G6CjY"
   },
   "outputs": [],
   "source": [
    "def parse_html(html):\n",
    "  soup = BeautifulSoup(html, features=\"html.parser\")\n",
    "\n",
    "  # kill all script and style elements\n",
    "  for script in soup([\"script\", \"style\"]):\n",
    "      script.extract()    # rip it out\n",
    "\n",
    "  # get text\n",
    "  text = soup.get_text()\n",
    "\n",
    "  # break into lines and remove leading and trailing space on each\n",
    "  lines = (line.strip() for line in text.splitlines())\n",
    "  # break multi-headlines into a line each\n",
    "  chunks = (phrase.strip() for line in lines for phrase in line.split(\"  \"))\n",
    "  # drop blank lines\n",
    "  text = '\\n'.join(chunk for chunk in chunks if chunk)\n",
    "\n",
    "  return text"
   ]
  },
  {
   "cell_type": "code",
   "execution_count": null,
   "metadata": {
    "id": "H84LGMb-26Rp"
   },
   "outputs": [],
   "source": [
    "stack['Body_c'] = stack['Body'].apply(parse_html)"
   ]
  },
  {
   "cell_type": "code",
   "execution_count": null,
   "metadata": {
    "id": "uyNM_xOP4A7E"
   },
   "outputs": [],
   "source": [
    "stack['Tags_c'] = stack['Tags'].str.replace('>', ' ').str.replace('<','').str.strip()"
   ]
  },
  {
   "cell_type": "code",
   "execution_count": null,
   "metadata": {
    "colab": {
     "base_uri": "https://localhost:8080/",
     "height": 447
    },
    "executionInfo": {
     "elapsed": 51698,
     "status": "ok",
     "timestamp": 1609590701199,
     "user": {
      "displayName": "Amine Fatmi",
      "photoUrl": "",
      "userId": "03089012490628162303"
     },
     "user_tz": -60
    },
    "id": "PWA5ReNA5Rbh",
    "outputId": "89571d1c-a88d-409a-ba07-b347787a69bf"
   },
   "outputs": [
    {
     "data": {
      "text/html": [
       "<div>\n",
       "<style scoped>\n",
       "    .dataframe tbody tr th:only-of-type {\n",
       "        vertical-align: middle;\n",
       "    }\n",
       "\n",
       "    .dataframe tbody tr th {\n",
       "        vertical-align: top;\n",
       "    }\n",
       "\n",
       "    .dataframe thead th {\n",
       "        text-align: right;\n",
       "    }\n",
       "</style>\n",
       "<table border=\"1\" class=\"dataframe\">\n",
       "  <thead>\n",
       "    <tr style=\"text-align: right;\">\n",
       "      <th></th>\n",
       "      <th>id</th>\n",
       "      <th>AcceptedAnswerId</th>\n",
       "      <th>Score</th>\n",
       "      <th>ViewCount</th>\n",
       "      <th>Body</th>\n",
       "      <th>Title</th>\n",
       "      <th>Tags</th>\n",
       "      <th>AnswerCount</th>\n",
       "      <th>FavoriteCount</th>\n",
       "      <th>Body_c</th>\n",
       "      <th>Tags_c</th>\n",
       "    </tr>\n",
       "  </thead>\n",
       "  <tbody>\n",
       "    <tr>\n",
       "      <th>0</th>\n",
       "      <td>16594613</td>\n",
       "      <td>16597402.0</td>\n",
       "      <td>91</td>\n",
       "      <td>12521</td>\n",
       "      <td>&lt;p&gt;The last week I read a lot articles about p...</td>\n",
       "      <td>How to hash long passwords (&gt;72 characters) wi...</td>\n",
       "      <td>&lt;php&gt;&lt;security&gt;&lt;hash&gt;&lt;passwords&gt;&lt;blowfish&gt;</td>\n",
       "      <td>3</td>\n",
       "      <td>50.0</td>\n",
       "      <td>The last week I read a lot articles about pass...</td>\n",
       "      <td>php security hash passwords blowfish</td>\n",
       "    </tr>\n",
       "    <tr>\n",
       "      <th>1</th>\n",
       "      <td>8864</td>\n",
       "      <td>8869.0</td>\n",
       "      <td>85</td>\n",
       "      <td>30721</td>\n",
       "      <td>&lt;p&gt;Is there a difference between &lt;code&gt;NULL&lt;/c...</td>\n",
       "      <td>Difference between NULL and null in PHP</td>\n",
       "      <td>&lt;php&gt;&lt;null&gt;</td>\n",
       "      <td>3</td>\n",
       "      <td>10.0</td>\n",
       "      <td>Is there a difference between NULL and null in...</td>\n",
       "      <td>php null</td>\n",
       "    </tr>\n",
       "    <tr>\n",
       "      <th>2</th>\n",
       "      <td>32968527</td>\n",
       "      <td>32969085.0</td>\n",
       "      <td>88</td>\n",
       "      <td>103439</td>\n",
       "      <td>&lt;p&gt;I tried to upgrade hibernate from 4 to 5 in...</td>\n",
       "      <td>Hibernate-sequence doesn't exist</td>\n",
       "      <td>&lt;java&gt;&lt;spring&gt;&lt;hibernate&gt;</td>\n",
       "      <td>15</td>\n",
       "      <td>18.0</td>\n",
       "      <td>I tried to upgrade hibernate from 4 to 5 in my...</td>\n",
       "      <td>java spring hibernate</td>\n",
       "    </tr>\n",
       "    <tr>\n",
       "      <th>3</th>\n",
       "      <td>13537</td>\n",
       "      <td>13552.0</td>\n",
       "      <td>97</td>\n",
       "      <td>18118</td>\n",
       "      <td>&lt;p&gt;I've heard of the idea of bootstrapping a l...</td>\n",
       "      <td>Bootstrapping still requires outside support</td>\n",
       "      <td>&lt;compiler-construction&gt;&lt;bootstrapping&gt;</td>\n",
       "      <td>11</td>\n",
       "      <td>59.0</td>\n",
       "      <td>I've heard of the idea of bootstrapping a lang...</td>\n",
       "      <td>compiler-construction bootstrapping</td>\n",
       "    </tr>\n",
       "    <tr>\n",
       "      <th>4</th>\n",
       "      <td>20047</td>\n",
       "      <td>21158.0</td>\n",
       "      <td>82</td>\n",
       "      <td>28561</td>\n",
       "      <td>&lt;p&gt;We're seeing some pernicious, but rare, dea...</td>\n",
       "      <td>Diagnosing Deadlocks in SQL Server 2005</td>\n",
       "      <td>&lt;sql-server&gt;&lt;sql-server-2005&gt;&lt;deadlock&gt;</td>\n",
       "      <td>22</td>\n",
       "      <td>58.0</td>\n",
       "      <td>We're seeing some pernicious, but rare, deadlo...</td>\n",
       "      <td>sql-server sql-server-2005 deadlock</td>\n",
       "    </tr>\n",
       "  </tbody>\n",
       "</table>\n",
       "</div>"
      ],
      "text/plain": [
       "         id  ...                                Tags_c\n",
       "0  16594613  ...  php security hash passwords blowfish\n",
       "1      8864  ...                              php null\n",
       "2  32968527  ...                 java spring hibernate\n",
       "3     13537  ...   compiler-construction bootstrapping\n",
       "4     20047  ...   sql-server sql-server-2005 deadlock\n",
       "\n",
       "[5 rows x 11 columns]"
      ]
     },
     "execution_count": 16,
     "metadata": {
      "tags": []
     },
     "output_type": "execute_result"
    }
   ],
   "source": [
    "stack.head()"
   ]
  },
  {
   "cell_type": "markdown",
   "metadata": {
    "id": "Fv44ZyMhdOum"
   },
   "source": [
    "Count number of tags for each question"
   ]
  },
  {
   "cell_type": "code",
   "execution_count": null,
   "metadata": {
    "id": "bLbHQqlFLEzx"
   },
   "outputs": [],
   "source": [
    "stack['Tags_count'] = stack['Tags_c'].apply(lambda x: len(x.split()))"
   ]
  },
  {
   "cell_type": "code",
   "execution_count": null,
   "metadata": {
    "colab": {
     "base_uri": "https://localhost:8080/",
     "height": 498
    },
    "executionInfo": {
     "elapsed": 3710,
     "status": "ok",
     "timestamp": 1609877404650,
     "user": {
      "displayName": "Amine Fatmi",
      "photoUrl": "",
      "userId": "03089012490628162303"
     },
     "user_tz": -60
    },
    "id": "oMxcU3mEkVlU",
    "outputId": "c9c48894-9ae6-4903-c4a1-f26e54beca55"
   },
   "outputs": [
    {
     "data": {
      "text/html": [
       "<div>\n",
       "<style scoped>\n",
       "    .dataframe tbody tr th:only-of-type {\n",
       "        vertical-align: middle;\n",
       "    }\n",
       "\n",
       "    .dataframe tbody tr th {\n",
       "        vertical-align: top;\n",
       "    }\n",
       "\n",
       "    .dataframe thead th {\n",
       "        text-align: right;\n",
       "    }\n",
       "</style>\n",
       "<table border=\"1\" class=\"dataframe\">\n",
       "  <thead>\n",
       "    <tr style=\"text-align: right;\">\n",
       "      <th></th>\n",
       "      <th>id</th>\n",
       "      <th>AcceptedAnswerId</th>\n",
       "      <th>Score</th>\n",
       "      <th>ViewCount</th>\n",
       "      <th>Body</th>\n",
       "      <th>Title</th>\n",
       "      <th>Tags</th>\n",
       "      <th>AnswerCount</th>\n",
       "      <th>FavoriteCount</th>\n",
       "      <th>Body_c</th>\n",
       "      <th>Tags_c</th>\n",
       "      <th>Tags_count</th>\n",
       "    </tr>\n",
       "  </thead>\n",
       "  <tbody>\n",
       "    <tr>\n",
       "      <th>0</th>\n",
       "      <td>16594613</td>\n",
       "      <td>16597402.0</td>\n",
       "      <td>91</td>\n",
       "      <td>12521</td>\n",
       "      <td>&lt;p&gt;The last week I read a lot articles about p...</td>\n",
       "      <td>How to hash long passwords (&gt;72 characters) wi...</td>\n",
       "      <td>&lt;php&gt;&lt;security&gt;&lt;hash&gt;&lt;passwords&gt;&lt;blowfish&gt;</td>\n",
       "      <td>3</td>\n",
       "      <td>50.0</td>\n",
       "      <td>The last week I read a lot articles about pass...</td>\n",
       "      <td>php security hash passwords blowfish</td>\n",
       "      <td>5</td>\n",
       "    </tr>\n",
       "    <tr>\n",
       "      <th>1</th>\n",
       "      <td>8864</td>\n",
       "      <td>8869.0</td>\n",
       "      <td>85</td>\n",
       "      <td>30721</td>\n",
       "      <td>&lt;p&gt;Is there a difference between &lt;code&gt;NULL&lt;/c...</td>\n",
       "      <td>Difference between NULL and null in PHP</td>\n",
       "      <td>&lt;php&gt;&lt;null&gt;</td>\n",
       "      <td>3</td>\n",
       "      <td>10.0</td>\n",
       "      <td>Is there a difference between NULL and null in...</td>\n",
       "      <td>php null</td>\n",
       "      <td>2</td>\n",
       "    </tr>\n",
       "    <tr>\n",
       "      <th>2</th>\n",
       "      <td>32968527</td>\n",
       "      <td>32969085.0</td>\n",
       "      <td>88</td>\n",
       "      <td>103439</td>\n",
       "      <td>&lt;p&gt;I tried to upgrade hibernate from 4 to 5 in...</td>\n",
       "      <td>Hibernate-sequence doesn't exist</td>\n",
       "      <td>&lt;java&gt;&lt;spring&gt;&lt;hibernate&gt;</td>\n",
       "      <td>15</td>\n",
       "      <td>18.0</td>\n",
       "      <td>I tried to upgrade hibernate from 4 to 5 in my...</td>\n",
       "      <td>java spring hibernate</td>\n",
       "      <td>3</td>\n",
       "    </tr>\n",
       "    <tr>\n",
       "      <th>3</th>\n",
       "      <td>13537</td>\n",
       "      <td>13552.0</td>\n",
       "      <td>97</td>\n",
       "      <td>18118</td>\n",
       "      <td>&lt;p&gt;I've heard of the idea of bootstrapping a l...</td>\n",
       "      <td>Bootstrapping still requires outside support</td>\n",
       "      <td>&lt;compiler-construction&gt;&lt;bootstrapping&gt;</td>\n",
       "      <td>11</td>\n",
       "      <td>59.0</td>\n",
       "      <td>I've heard of the idea of bootstrapping a lang...</td>\n",
       "      <td>compiler-construction bootstrapping</td>\n",
       "      <td>2</td>\n",
       "    </tr>\n",
       "    <tr>\n",
       "      <th>4</th>\n",
       "      <td>20047</td>\n",
       "      <td>21158.0</td>\n",
       "      <td>82</td>\n",
       "      <td>28561</td>\n",
       "      <td>&lt;p&gt;We're seeing some pernicious, but rare, dea...</td>\n",
       "      <td>Diagnosing Deadlocks in SQL Server 2005</td>\n",
       "      <td>&lt;sql-server&gt;&lt;sql-server-2005&gt;&lt;deadlock&gt;</td>\n",
       "      <td>22</td>\n",
       "      <td>58.0</td>\n",
       "      <td>We're seeing some pernicious, but rare, deadlo...</td>\n",
       "      <td>sql-server sql-server-2005 deadlock</td>\n",
       "      <td>3</td>\n",
       "    </tr>\n",
       "  </tbody>\n",
       "</table>\n",
       "</div>"
      ],
      "text/plain": [
       "         id  AcceptedAnswerId  ...                                Tags_c  Tags_count\n",
       "0  16594613        16597402.0  ...  php security hash passwords blowfish           5\n",
       "1      8864            8869.0  ...                              php null           2\n",
       "2  32968527        32969085.0  ...                 java spring hibernate           3\n",
       "3     13537           13552.0  ...   compiler-construction bootstrapping           2\n",
       "4     20047           21158.0  ...   sql-server sql-server-2005 deadlock           3\n",
       "\n",
       "[5 rows x 12 columns]"
      ]
     },
     "execution_count": 14,
     "metadata": {
      "tags": []
     },
     "output_type": "execute_result"
    }
   ],
   "source": [
    "stack.head()"
   ]
  },
  {
   "cell_type": "markdown",
   "metadata": {
    "id": "9FzlXUKldX_i"
   },
   "source": [
    "Count the number of characters in body and title"
   ]
  },
  {
   "cell_type": "code",
   "execution_count": null,
   "metadata": {
    "id": "H4-y3y6Hm7aW"
   },
   "outputs": [],
   "source": [
    "stack['Body_length'] = stack['Body_c'].apply(lambda x: len(''.join(x.split())))\n",
    "stack['Title_length'] = stack['Title'].apply(lambda x: len(''.join(x.split())))"
   ]
  },
  {
   "cell_type": "code",
   "execution_count": null,
   "metadata": {
    "colab": {
     "base_uri": "https://localhost:8080/",
     "height": 552
    },
    "executionInfo": {
     "elapsed": 3552,
     "status": "ok",
     "timestamp": 1609877449650,
     "user": {
      "displayName": "Amine Fatmi",
      "photoUrl": "",
      "userId": "03089012490628162303"
     },
     "user_tz": -60
    },
    "id": "S5eYL49fs8TI",
    "outputId": "6c3cedee-085e-4cc7-8299-e9578aa509df"
   },
   "outputs": [
    {
     "data": {
      "text/html": [
       "<div>\n",
       "<style scoped>\n",
       "    .dataframe tbody tr th:only-of-type {\n",
       "        vertical-align: middle;\n",
       "    }\n",
       "\n",
       "    .dataframe tbody tr th {\n",
       "        vertical-align: top;\n",
       "    }\n",
       "\n",
       "    .dataframe thead th {\n",
       "        text-align: right;\n",
       "    }\n",
       "</style>\n",
       "<table border=\"1\" class=\"dataframe\">\n",
       "  <thead>\n",
       "    <tr style=\"text-align: right;\">\n",
       "      <th></th>\n",
       "      <th>id</th>\n",
       "      <th>AcceptedAnswerId</th>\n",
       "      <th>Score</th>\n",
       "      <th>ViewCount</th>\n",
       "      <th>Body</th>\n",
       "      <th>Title</th>\n",
       "      <th>Tags</th>\n",
       "      <th>AnswerCount</th>\n",
       "      <th>FavoriteCount</th>\n",
       "      <th>Body_c</th>\n",
       "      <th>Tags_c</th>\n",
       "      <th>Tags_count</th>\n",
       "      <th>Body_length</th>\n",
       "      <th>Title_length</th>\n",
       "    </tr>\n",
       "  </thead>\n",
       "  <tbody>\n",
       "    <tr>\n",
       "      <th>0</th>\n",
       "      <td>16594613</td>\n",
       "      <td>16597402.0</td>\n",
       "      <td>91</td>\n",
       "      <td>12521</td>\n",
       "      <td>&lt;p&gt;The last week I read a lot articles about p...</td>\n",
       "      <td>How to hash long passwords (&gt;72 characters) wi...</td>\n",
       "      <td>&lt;php&gt;&lt;security&gt;&lt;hash&gt;&lt;passwords&gt;&lt;blowfish&gt;</td>\n",
       "      <td>3</td>\n",
       "      <td>50.0</td>\n",
       "      <td>The last week I read a lot articles about pass...</td>\n",
       "      <td>php security hash passwords blowfish</td>\n",
       "      <td>5</td>\n",
       "      <td>2607</td>\n",
       "      <td>49</td>\n",
       "    </tr>\n",
       "    <tr>\n",
       "      <th>1</th>\n",
       "      <td>8864</td>\n",
       "      <td>8869.0</td>\n",
       "      <td>85</td>\n",
       "      <td>30721</td>\n",
       "      <td>&lt;p&gt;Is there a difference between &lt;code&gt;NULL&lt;/c...</td>\n",
       "      <td>Difference between NULL and null in PHP</td>\n",
       "      <td>&lt;php&gt;&lt;null&gt;</td>\n",
       "      <td>3</td>\n",
       "      <td>10.0</td>\n",
       "      <td>Is there a difference between NULL and null in...</td>\n",
       "      <td>php null</td>\n",
       "      <td>2</td>\n",
       "      <td>292</td>\n",
       "      <td>33</td>\n",
       "    </tr>\n",
       "    <tr>\n",
       "      <th>2</th>\n",
       "      <td>32968527</td>\n",
       "      <td>32969085.0</td>\n",
       "      <td>88</td>\n",
       "      <td>103439</td>\n",
       "      <td>&lt;p&gt;I tried to upgrade hibernate from 4 to 5 in...</td>\n",
       "      <td>Hibernate-sequence doesn't exist</td>\n",
       "      <td>&lt;java&gt;&lt;spring&gt;&lt;hibernate&gt;</td>\n",
       "      <td>15</td>\n",
       "      <td>18.0</td>\n",
       "      <td>I tried to upgrade hibernate from 4 to 5 in my...</td>\n",
       "      <td>java spring hibernate</td>\n",
       "      <td>3</td>\n",
       "      <td>412</td>\n",
       "      <td>30</td>\n",
       "    </tr>\n",
       "    <tr>\n",
       "      <th>3</th>\n",
       "      <td>13537</td>\n",
       "      <td>13552.0</td>\n",
       "      <td>97</td>\n",
       "      <td>18118</td>\n",
       "      <td>&lt;p&gt;I've heard of the idea of bootstrapping a l...</td>\n",
       "      <td>Bootstrapping still requires outside support</td>\n",
       "      <td>&lt;compiler-construction&gt;&lt;bootstrapping&gt;</td>\n",
       "      <td>11</td>\n",
       "      <td>59.0</td>\n",
       "      <td>I've heard of the idea of bootstrapping a lang...</td>\n",
       "      <td>compiler-construction bootstrapping</td>\n",
       "      <td>2</td>\n",
       "      <td>478</td>\n",
       "      <td>40</td>\n",
       "    </tr>\n",
       "    <tr>\n",
       "      <th>4</th>\n",
       "      <td>20047</td>\n",
       "      <td>21158.0</td>\n",
       "      <td>82</td>\n",
       "      <td>28561</td>\n",
       "      <td>&lt;p&gt;We're seeing some pernicious, but rare, dea...</td>\n",
       "      <td>Diagnosing Deadlocks in SQL Server 2005</td>\n",
       "      <td>&lt;sql-server&gt;&lt;sql-server-2005&gt;&lt;deadlock&gt;</td>\n",
       "      <td>22</td>\n",
       "      <td>58.0</td>\n",
       "      <td>We're seeing some pernicious, but rare, deadlo...</td>\n",
       "      <td>sql-server sql-server-2005 deadlock</td>\n",
       "      <td>3</td>\n",
       "      <td>2893</td>\n",
       "      <td>34</td>\n",
       "    </tr>\n",
       "  </tbody>\n",
       "</table>\n",
       "</div>"
      ],
      "text/plain": [
       "         id  AcceptedAnswerId  Score  ...  Tags_count Body_length Title_length\n",
       "0  16594613        16597402.0     91  ...           5        2607           49\n",
       "1      8864            8869.0     85  ...           2         292           33\n",
       "2  32968527        32969085.0     88  ...           3         412           30\n",
       "3     13537           13552.0     97  ...           2         478           40\n",
       "4     20047           21158.0     82  ...           3        2893           34\n",
       "\n",
       "[5 rows x 14 columns]"
      ]
     },
     "execution_count": 16,
     "metadata": {
      "tags": []
     },
     "output_type": "execute_result"
    }
   ],
   "source": [
    "stack.head()"
   ]
  },
  {
   "cell_type": "code",
   "execution_count": null,
   "metadata": {
    "colab": {
     "base_uri": "https://localhost:8080/",
     "height": 282
    },
    "executionInfo": {
     "elapsed": 1538,
     "status": "ok",
     "timestamp": 1609877459542,
     "user": {
      "displayName": "Amine Fatmi",
      "photoUrl": "",
      "userId": "03089012490628162303"
     },
     "user_tz": -60
    },
    "id": "wUVGoV23tXLG",
    "outputId": "310f48c7-ad47-4cbc-a62b-7acf544f0c1e"
   },
   "outputs": [
    {
     "data": {
      "text/html": [
       "<div>\n",
       "<style scoped>\n",
       "    .dataframe tbody tr th:only-of-type {\n",
       "        vertical-align: middle;\n",
       "    }\n",
       "\n",
       "    .dataframe tbody tr th {\n",
       "        vertical-align: top;\n",
       "    }\n",
       "\n",
       "    .dataframe thead th {\n",
       "        text-align: right;\n",
       "    }\n",
       "</style>\n",
       "<table border=\"1\" class=\"dataframe\">\n",
       "  <thead>\n",
       "    <tr style=\"text-align: right;\">\n",
       "      <th></th>\n",
       "      <th>id</th>\n",
       "      <th>AcceptedAnswerId</th>\n",
       "      <th>Score</th>\n",
       "      <th>ViewCount</th>\n",
       "      <th>AnswerCount</th>\n",
       "      <th>FavoriteCount</th>\n",
       "      <th>Tags_count</th>\n",
       "      <th>Body_length</th>\n",
       "      <th>Title_length</th>\n",
       "    </tr>\n",
       "  </thead>\n",
       "  <tbody>\n",
       "    <tr>\n",
       "      <th>count</th>\n",
       "      <td>1.004280e+05</td>\n",
       "      <td>8.686300e+04</td>\n",
       "      <td>100428.000000</td>\n",
       "      <td>1.004280e+05</td>\n",
       "      <td>100428.000000</td>\n",
       "      <td>100395.000000</td>\n",
       "      <td>100428.000000</td>\n",
       "      <td>100428.000000</td>\n",
       "      <td>100428.000000</td>\n",
       "    </tr>\n",
       "    <tr>\n",
       "      <th>mean</th>\n",
       "      <td>1.310228e+07</td>\n",
       "      <td>1.374503e+07</td>\n",
       "      <td>156.308460</td>\n",
       "      <td>1.527944e+05</td>\n",
       "      <td>8.612867</td>\n",
       "      <td>47.894736</td>\n",
       "      <td>3.010425</td>\n",
       "      <td>592.446828</td>\n",
       "      <td>43.251205</td>\n",
       "    </tr>\n",
       "    <tr>\n",
       "      <th>std</th>\n",
       "      <td>1.322702e+07</td>\n",
       "      <td>1.365817e+07</td>\n",
       "      <td>302.990101</td>\n",
       "      <td>2.386581e+05</td>\n",
       "      <td>7.698627</td>\n",
       "      <td>130.615805</td>\n",
       "      <td>1.181280</td>\n",
       "      <td>891.826288</td>\n",
       "      <td>15.911775</td>\n",
       "    </tr>\n",
       "    <tr>\n",
       "      <th>min</th>\n",
       "      <td>4.000000e+00</td>\n",
       "      <td>7.000000e+00</td>\n",
       "      <td>51.000000</td>\n",
       "      <td>5.660000e+02</td>\n",
       "      <td>0.000000</td>\n",
       "      <td>0.000000</td>\n",
       "      <td>1.000000</td>\n",
       "      <td>12.000000</td>\n",
       "      <td>8.000000</td>\n",
       "    </tr>\n",
       "    <tr>\n",
       "      <th>25%</th>\n",
       "      <td>2.771549e+06</td>\n",
       "      <td>3.018452e+06</td>\n",
       "      <td>64.000000</td>\n",
       "      <td>4.553675e+04</td>\n",
       "      <td>4.000000</td>\n",
       "      <td>14.000000</td>\n",
       "      <td>2.000000</td>\n",
       "      <td>209.000000</td>\n",
       "      <td>32.000000</td>\n",
       "    </tr>\n",
       "    <tr>\n",
       "      <th>50%</th>\n",
       "      <td>8.284506e+06</td>\n",
       "      <td>8.902918e+06</td>\n",
       "      <td>88.000000</td>\n",
       "      <td>8.767700e+04</td>\n",
       "      <td>7.000000</td>\n",
       "      <td>25.000000</td>\n",
       "      <td>3.000000</td>\n",
       "      <td>371.000000</td>\n",
       "      <td>41.000000</td>\n",
       "    </tr>\n",
       "    <tr>\n",
       "      <th>75%</th>\n",
       "      <td>1.952858e+07</td>\n",
       "      <td>2.043608e+07</td>\n",
       "      <td>148.000000</td>\n",
       "      <td>1.712448e+05</td>\n",
       "      <td>11.000000</td>\n",
       "      <td>46.000000</td>\n",
       "      <td>4.000000</td>\n",
       "      <td>665.000000</td>\n",
       "      <td>52.000000</td>\n",
       "    </tr>\n",
       "    <tr>\n",
       "      <th>max</th>\n",
       "      <td>6.530330e+07</td>\n",
       "      <td>6.493439e+07</td>\n",
       "      <td>25113.000000</td>\n",
       "      <td>9.137293e+06</td>\n",
       "      <td>518.000000</td>\n",
       "      <td>11205.000000</td>\n",
       "      <td>5.000000</td>\n",
       "      <td>28642.000000</td>\n",
       "      <td>140.000000</td>\n",
       "    </tr>\n",
       "  </tbody>\n",
       "</table>\n",
       "</div>"
      ],
      "text/plain": [
       "                 id  AcceptedAnswerId  ...    Body_length   Title_length\n",
       "count  1.004280e+05      8.686300e+04  ...  100428.000000  100428.000000\n",
       "mean   1.310228e+07      1.374503e+07  ...     592.446828      43.251205\n",
       "std    1.322702e+07      1.365817e+07  ...     891.826288      15.911775\n",
       "min    4.000000e+00      7.000000e+00  ...      12.000000       8.000000\n",
       "25%    2.771549e+06      3.018452e+06  ...     209.000000      32.000000\n",
       "50%    8.284506e+06      8.902918e+06  ...     371.000000      41.000000\n",
       "75%    1.952858e+07      2.043608e+07  ...     665.000000      52.000000\n",
       "max    6.530330e+07      6.493439e+07  ...   28642.000000     140.000000\n",
       "\n",
       "[8 rows x 9 columns]"
      ]
     },
     "execution_count": 17,
     "metadata": {
      "tags": []
     },
     "output_type": "execute_result"
    }
   ],
   "source": [
    "stack.describe()"
   ]
  },
  {
   "cell_type": "markdown",
   "metadata": {
    "id": "nxe-xLYIfGho"
   },
   "source": [
    "## Visualize the data"
   ]
  },
  {
   "cell_type": "markdown",
   "metadata": {
    "id": "XNQIfOMOdl73"
   },
   "source": [
    "**Body length distribution**"
   ]
  },
  {
   "cell_type": "code",
   "execution_count": null,
   "metadata": {
    "colab": {
     "base_uri": "https://localhost:8080/",
     "height": 482
    },
    "executionInfo": {
     "elapsed": 1597,
     "status": "ok",
     "timestamp": 1610707175435,
     "user": {
      "displayName": "Amine Fatmi",
      "photoUrl": "",
      "userId": "03089012490628162303"
     },
     "user_tz": -60
    },
    "id": "p2OlF7tot7GE",
    "outputId": "39efd9d1-a4c6-4084-f8ae-3074b77d4415"
   },
   "outputs": [
    {
     "data": {
      "text/plain": [
       "Text(0.5, 1.0, 'Body length distribution')"
      ]
     },
     "execution_count": 57,
     "metadata": {
      "tags": []
     },
     "output_type": "execute_result"
    },
    {
     "data": {
      "image/png": "[encoded data removed]",
      "text/plain": [
       "<Figure size 864x504 with 1 Axes>"
      ]
     },
     "metadata": {
      "needs_background": "light",
      "tags": []
     },
     "output_type": "display_data"
    }
   ],
   "source": [
    "plt.figure(figsize=(12,7))\n",
    "plt.hist(stack['Body_length'], bins=[i for i in range(0,30000,100)])\n",
    "plt.xlim(0,1000)\n",
    "plt.xlabel('Body length')\n",
    "plt.title('Body length distribution')"
   ]
  },
  {
   "cell_type": "markdown",
   "metadata": {
    "id": "JpkkjodSdqSm"
   },
   "source": [
    "**Title length distribution**"
   ]
  },
  {
   "cell_type": "code",
   "execution_count": null,
   "metadata": {
    "colab": {
     "base_uri": "https://localhost:8080/",
     "height": 482
    },
    "executionInfo": {
     "elapsed": 1008,
     "status": "ok",
     "timestamp": 1610707224486,
     "user": {
      "displayName": "Amine Fatmi",
      "photoUrl": "",
      "userId": "03089012490628162303"
     },
     "user_tz": -60
    },
    "id": "-6JD1MJ13J72",
    "outputId": "faebd6da-7ed8-4947-e715-57df04f24129"
   },
   "outputs": [
    {
     "data": {
      "text/plain": [
       "Text(0.5, 1.0, 'Title length distribution')"
      ]
     },
     "execution_count": 58,
     "metadata": {
      "tags": []
     },
     "output_type": "execute_result"
    },
    {
     "data": {
      "image/png": "[encoded data removed]",
      "text/plain": [
       "<Figure size 864x504 with 1 Axes>"
      ]
     },
     "metadata": {
      "needs_background": "light",
      "tags": []
     },
     "output_type": "display_data"
    }
   ],
   "source": [
    "plt.figure(figsize=(12,7))\n",
    "plt.hist(stack['Title_length'], bins=[i for i in range(0,140,10)])\n",
    "plt.xlim(0,100)\n",
    "plt.xlabel('Title length')\n",
    "plt.title('Title length distribution')"
   ]
  },
  {
   "cell_type": "markdown",
   "metadata": {
    "id": "KaOC8Ybodvfh"
   },
   "source": [
    "**Number of tags distribution**"
   ]
  },
  {
   "cell_type": "code",
   "execution_count": null,
   "metadata": {
    "colab": {
     "base_uri": "https://localhost:8080/",
     "height": 467
    },
    "executionInfo": {
     "elapsed": 1136,
     "status": "ok",
     "timestamp": 1610707268025,
     "user": {
      "displayName": "Amine Fatmi",
      "photoUrl": "",
      "userId": "03089012490628162303"
     },
     "user_tz": -60
    },
    "id": "fVnfyBSL5JHk",
    "outputId": "06e69bdc-1161-4d6b-85e5-7ecce8a55f23"
   },
   "outputs": [
    {
     "name": "stderr",
     "output_type": "stream",
     "text": [
      "/usr/local/lib/python3.6/dist-packages/seaborn/_decorators.py:43: FutureWarning: Pass the following variable as a keyword arg: x. From version 0.12, the only valid positional argument will be `data`, and passing other arguments without an explicit keyword will result in an error or misinterpretation.\n",
      "  FutureWarning\n"
     ]
    },
    {
     "data": {
      "text/plain": [
       "<matplotlib.axes._subplots.AxesSubplot at 0x7fb59c328a90>"
      ]
     },
     "execution_count": 60,
     "metadata": {
      "tags": []
     },
     "output_type": "execute_result"
    },
    {
     "data": {
      "image/png": "[encoded data removed]",
      "text/plain": [
       "<Figure size 720x432 with 1 Axes>"
      ]
     },
     "metadata": {
      "needs_background": "light",
      "tags": []
     },
     "output_type": "display_data"
    }
   ],
   "source": [
    "plt.figure(figsize=(10,6))\n",
    "sns.countplot(stack['Tags_count'])"
   ]
  },
  {
   "cell_type": "markdown",
   "metadata": {
    "id": "3hWuuTGUd-5i"
   },
   "source": [
    "From the countplot above we can say that:\n",
    "  - number of tags is comprised between 1 and 5\n",
    "  - 3 tags questions are the most represented within this dataset"
   ]
  },
  {
   "cell_type": "markdown",
   "metadata": {
    "id": "XqlWOBcLespT"
   },
   "source": [
    "**Tags count vs body length**"
   ]
  },
  {
   "cell_type": "code",
   "execution_count": null,
   "metadata": {
    "colab": {
     "base_uri": "https://localhost:8080/",
     "height": 415
    },
    "executionInfo": {
     "elapsed": 1366,
     "status": "ok",
     "timestamp": 1610707378811,
     "user": {
      "displayName": "Amine Fatmi",
      "photoUrl": "",
      "userId": "03089012490628162303"
     },
     "user_tz": -60
    },
    "id": "Mo811UuK5PJg",
    "outputId": "70f5c0a1-090e-451d-e8d4-a3ba17b5b5af"
   },
   "outputs": [
    {
     "data": {
      "text/plain": [
       "Text(0, 0.5, 'body length')"
      ]
     },
     "execution_count": 62,
     "metadata": {
      "tags": []
     },
     "output_type": "execute_result"
    },
    {
     "data": {
      "image/png": "[encoded data removed]",
      "text/plain": [
       "<Figure size 720x432 with 1 Axes>"
      ]
     },
     "metadata": {
      "needs_background": "light",
      "tags": []
     },
     "output_type": "display_data"
    }
   ],
   "source": [
    "plt.figure(figsize=(10,6))\n",
    "plt.scatter(x=stack['Tags_count'], y=stack['Body_length'], alpha=0.1)\n",
    "plt.xticks([1,2,3,4,5])\n",
    "plt.xlabel('number of tags')\n",
    "plt.ylabel('body length')"
   ]
  },
  {
   "cell_type": "markdown",
   "metadata": {
    "id": "ZhuYJLaHewTN"
   },
   "source": [
    "There is no clear relation between the number of tags and the length of the body."
   ]
  },
  {
   "cell_type": "markdown",
   "metadata": {
    "id": "N0rs4-_RLN69"
   },
   "source": [
    "## Tags"
   ]
  },
  {
   "cell_type": "code",
   "execution_count": null,
   "metadata": {
    "id": "bSmXEaDxWprI"
   },
   "outputs": [],
   "source": [
    "tags_no_lemma=['ios', 'css', 'windows', 'https', 'iis', 'pandas']"
   ]
  },
  {
   "cell_type": "code",
   "execution_count": null,
   "metadata": {
    "id": "aX5KlQp47OAA"
   },
   "outputs": [],
   "source": [
    "def clean_tag(text):\n",
    " \n",
    "  text = text.replace('>', ' ').replace('<','')\n",
    "\n",
    "  # convert to lowercase\n",
    "  text = text.lower()\n",
    "\n",
    "  # remove contractions\n",
    "  rep_word = REReplacer()\n",
    "  text = rep_word.replace(text)\n",
    "  \n",
    "  # split into words\n",
    "  tokens = word_tokenize(text)\n",
    "\n",
    "  # remove punctuation from each word\n",
    "  table = str.maketrans('', '', string.punctuation)\n",
    "  stripped = [w.translate(table) for w in tokens]\n",
    "\n",
    "  # remove remaining tokens that are not alphabetic\n",
    "  words = [word for word in stripped if word.isalpha()]\n",
    "\n",
    "  # filter out stop words\n",
    "  stop_words = set(stopwords.words('english'))\n",
    "  words = [w for w in words if not w in stop_words]\n",
    "\n",
    "  # lemmatization except tags\n",
    "  wordnet_lemmatizer = WordNetLemmatizer()\n",
    "  words_lemma = [wordnet_lemmatizer.lemmatize(w, get_wordnet_pos(w)) for w in words if w not in tags_no_lemma]\n",
    "\n",
    "  # filter non lemmatized words that are in tags_no_lemma\n",
    "  words_tag = [w for w in words if w in tags_no_lemma]\n",
    "\n",
    "  words = words_lemma + words_tag\n",
    "  return words"
   ]
  },
  {
   "cell_type": "code",
   "execution_count": null,
   "metadata": {
    "id": "ffJNG2uUQOeO"
   },
   "outputs": [],
   "source": [
    "def get_wordnet_pos(word):\n",
    "    \"\"\"Map POS tag to first character lemmatize() accepts\"\"\"\n",
    "    tag = nltk.pos_tag([word])[0][1][0].upper()\n",
    "    tag_dict = {\"J\": wordnet.ADJ,\n",
    "                \"N\": wordnet.NOUN,\n",
    "                \"V\": wordnet.VERB,\n",
    "                \"R\": wordnet.ADV}\n",
    "\n",
    "    return tag_dict.get(tag, wordnet.NOUN)"
   ]
  },
  {
   "cell_type": "code",
   "execution_count": null,
   "metadata": {
    "id": "rY45rI6nHH-F"
   },
   "outputs": [],
   "source": [
    "R_patterns = [\n",
    "   (r'won\\'t', 'will not'),\n",
    "   (r'can\\'t', 'cannot'),\n",
    "   (r'[Ii]\\'m', 'i am'),\n",
    "   (r'(\\w+)\\'ll', '\\g<1> will'),\n",
    "   (r'(\\w+)n\\'t', '\\g<1> not'),\n",
    "   (r'(\\w+)\\'ve', '\\g<1> have'),\n",
    "   (r'(\\w+)\\'s', '\\g<1> is'),\n",
    "   (r'(\\w+)\\'re', '\\g<1> are'),\n",
    "]\n",
    "\n",
    "class REReplacer(object):\n",
    "   def __init__(self, pattern = R_patterns):\n",
    "      self.pattern = [(re.compile(regex), repl) for (regex, repl) in pattern]\n",
    "   def replace(self, text):\n",
    "      s = text\n",
    "      for (pattern, repl) in self.pattern:\n",
    "         s = re.sub(pattern, repl, s)\n",
    "      return s\n",
    "\n"
   ]
  },
  {
   "cell_type": "code",
   "execution_count": null,
   "metadata": {
    "id": "O7MdQxdMd1ZM"
   },
   "outputs": [],
   "source": [
    "stack['Tags_cleaned'] = stack['Tags'].apply(clean_tag)"
   ]
  },
  {
   "cell_type": "markdown",
   "metadata": {
    "id": "fdwK39CKfrKH"
   },
   "source": [
    "Count the occurence of each tag."
   ]
  },
  {
   "cell_type": "code",
   "execution_count": null,
   "metadata": {
    "id": "MR1mFrXqeQ6v"
   },
   "outputs": [],
   "source": [
    "tags = {}\n",
    "for i in range(len(stack)):\n",
    "  for j in range(len(stack['Tags_cleaned'][i])):\n",
    "    if stack['Tags_cleaned'][i][j] in tags.keys():\n",
    "      tags[stack['Tags_cleaned'][i][j]] += 1\n",
    "    else:\n",
    "      tags[stack['Tags_cleaned'][i][j]] = 1"
   ]
  },
  {
   "cell_type": "markdown",
   "metadata": {
    "id": "0C3pKkNQfdHT"
   },
   "source": [
    "**Save most frequent tags in a dictionary (>100 appearance)**"
   ]
  },
  {
   "cell_type": "code",
   "execution_count": null,
   "metadata": {
    "id": "sigOHJXFdoeT"
   },
   "outputs": [],
   "source": [
    "best_tags = {}\n",
    "for k,v in tags.items():\n",
    "  if tags[k] >= 100:\n",
    "    best_tags[k] = v\n",
    "  else:\n",
    "    continue"
   ]
  },
  {
   "cell_type": "code",
   "execution_count": null,
   "metadata": {
    "colab": {
     "base_uri": "https://localhost:8080/"
    },
    "executionInfo": {
     "elapsed": 857,
     "status": "ok",
     "timestamp": 1610709115278,
     "user": {
      "displayName": "Amine Fatmi",
      "photoUrl": "",
      "userId": "03089012490628162303"
     },
     "user_tz": -60
    },
    "id": "yjqjpbvIMMNK",
    "outputId": "928c0577-6c6d-426c-94c3-6690b50ff462"
   },
   "outputs": [
    {
     "data": {
      "text/plain": [
       "402"
      ]
     },
     "execution_count": 72,
     "metadata": {
      "tags": []
     },
     "output_type": "execute_result"
    }
   ],
   "source": [
    "len(best_tags)"
   ]
  },
  {
   "cell_type": "markdown",
   "metadata": {
    "id": "q6X69xDWfxHS"
   },
   "source": [
    "There are 402 tags in the dataset that appears more than 100 times."
   ]
  },
  {
   "cell_type": "code",
   "execution_count": null,
   "metadata": {
    "id": "5A0Ao7hair1_"
   },
   "outputs": [],
   "source": [
    "# pd.Series(list(best_tags.keys())).to_csv('/content/drive/My Drive/OpenClassrooms/PStackOverfow_fatmi_amine/top_305_tags')"
   ]
  },
  {
   "cell_type": "markdown",
   "metadata": {
    "id": "Ovd9-kqHf-Mc"
   },
   "source": [
    "**Sort the tags in ascending order with respect to their occurence.**"
   ]
  },
  {
   "cell_type": "code",
   "execution_count": null,
   "metadata": {
    "colab": {
     "base_uri": "https://localhost:8080/"
    },
    "executionInfo": {
     "elapsed": 841,
     "status": "ok",
     "timestamp": 1610709120827,
     "user": {
      "displayName": "Amine Fatmi",
      "photoUrl": "",
      "userId": "03089012490628162303"
     },
     "user_tz": -60
    },
    "id": "hnB762trkDme",
    "outputId": "18f8ad43-0062-43c4-ff16-f6ad620d90df"
   },
   "outputs": [
    {
     "data": {
      "text/plain": [
       "[('git', 3241),\n",
       " ('jquery', 3396),\n",
       " ('css', 3401),\n",
       " ('ios', 3424),\n",
       " ('html', 4151),\n",
       " ('android', 6859),\n",
       " ('java', 9042),\n",
       " ('python', 9582),\n",
       " ('javascript', 9774),\n",
       " ('c', 14204)]"
      ]
     },
     "execution_count": 73,
     "metadata": {
      "tags": []
     },
     "output_type": "execute_result"
    }
   ],
   "source": [
    "tags_sorted = {k: v for k, v in sorted(tags.items(), key=lambda item: item[1])}\n",
    "list(tags_sorted.items())[-10:]"
   ]
  },
  {
   "cell_type": "markdown",
   "metadata": {
    "id": "2PYlr-P3gY13"
   },
   "source": [
    "**Top 20 tags:**"
   ]
  },
  {
   "cell_type": "code",
   "execution_count": null,
   "metadata": {
    "colab": {
     "base_uri": "https://localhost:8080/",
     "height": 448
    },
    "executionInfo": {
     "elapsed": 1534,
     "status": "ok",
     "timestamp": 1610709160184,
     "user": {
      "displayName": "Amine Fatmi",
      "photoUrl": "",
      "userId": "03089012490628162303"
     },
     "user_tz": -60
    },
    "id": "rMiN8MOsIFZl",
    "outputId": "64f13704-4b6d-4def-a005-9b0a3c14bb8f"
   },
   "outputs": [
    {
     "data": {
      "text/plain": [
       "Text(0.5, 1.0, 'Top 20 tags')"
      ]
     },
     "execution_count": 74,
     "metadata": {
      "tags": []
     },
     "output_type": "execute_result"
    },
    {
     "data": {
      "image/png": "[encoded data removed]",
      "text/plain": [
       "<Figure size 720x432 with 1 Axes>"
      ]
     },
     "metadata": {
      "needs_background": "light",
      "tags": []
     },
     "output_type": "display_data"
    }
   ],
   "source": [
    "plt.figure(figsize=(10, 6)) \n",
    "plt.bar(dict(list(tags_sorted.items())[-20:]).keys(), dict(list(tags_sorted.items())[-20:]).values())\n",
    "plt.xticks(rotation=45)\n",
    "plt.title('Top 20 tags')"
   ]
  },
  {
   "cell_type": "code",
   "execution_count": null,
   "metadata": {
    "colab": {
     "base_uri": "https://localhost:8080/"
    },
    "executionInfo": {
     "elapsed": 1284,
     "status": "ok",
     "timestamp": 1610705683534,
     "user": {
      "displayName": "Amine Fatmi",
      "photoUrl": "",
      "userId": "03089012490628162303"
     },
     "user_tz": -60
    },
    "id": "pyC5eABWifdL",
    "outputId": "30fc154b-61c4-4245-ca52-0e130dc76baf"
   },
   "outputs": [
    {
     "data": {
      "text/plain": [
       "0               [php, security, hash, password, blowfish]\n",
       "1                                             [php, null]\n",
       "2                               [java, spring, hibernate]\n",
       "3                   [compilerconstruction, bootstrapping]\n",
       "4                                   [sqlserver, deadlock]\n",
       "                               ...                       \n",
       "100423              [javascript, jquery, dom, attr, prop]\n",
       "100424                                      [bash, alias]\n",
       "100425                                              [git]\n",
       "100426    [nginx, docker, reverseproxy, dockernetworking]\n",
       "100427                        [java, macos, installation]\n",
       "Name: Tags_cleaned, Length: 100428, dtype: object"
      ]
     },
     "execution_count": 27,
     "metadata": {
      "tags": []
     },
     "output_type": "execute_result"
    }
   ],
   "source": [
    "stack['Tags_cleaned']"
   ]
  },
  {
   "cell_type": "code",
   "execution_count": null,
   "metadata": {
    "colab": {
     "base_uri": "https://localhost:8080/",
     "height": 142,
     "output_embedded_package_id": "1d5WFIDEkMRT1_HbctEiaac0MRkamMgAu"
    },
    "executionInfo": {
     "elapsed": 3533,
     "status": "ok",
     "timestamp": 1610705795239,
     "user": {
      "displayName": "Amine Fatmi",
      "photoUrl": "",
      "userId": "03089012490628162303"
     },
     "user_tz": -60
    },
    "id": "5PNA5QteilTI",
    "outputId": "fb973d88-f6b5-4830-c4e4-c81a8e1fe386"
   },
   "outputs": [
    {
     "data": {
      "text/plain": [
       "Output hidden; open in https://colab.research.google.com to view."
      ]
     },
     "metadata": {},
     "output_type": "display_data"
    }
   ],
   "source": [
    "text = stack['Tags_cleaned'].apply(lambda x: ' '.join(x))\n",
    "text = ' '.join(t for t in text)\n",
    "text"
   ]
  },
  {
   "cell_type": "code",
   "execution_count": null,
   "metadata": {
    "id": "6bj7nTe7jMs3"
   },
   "outputs": [],
   "source": [
    "# Create and generate a word cloud image:\n",
    "wordcloud = WordCloud(max_font_size=50, max_words=100, background_color=\"white\", regexp=r\"(?u)\\b\\w+\\b\").generate(text)\n",
    "# regex expression modified to include single letter words sucs as 'c' or 'r'"
   ]
  },
  {
   "cell_type": "code",
   "execution_count": null,
   "metadata": {
    "colab": {
     "base_uri": "https://localhost:8080/",
     "height": 449
    },
    "executionInfo": {
     "elapsed": 2046,
     "status": "ok",
     "timestamp": 1610706661215,
     "user": {
      "displayName": "Amine Fatmi",
      "photoUrl": "",
      "userId": "03089012490628162303"
     },
     "user_tz": -60
    },
    "id": "vMCJElZFjOlo",
    "outputId": "5756e22d-6bba-464d-9389-c1469bf61cec"
   },
   "outputs": [
    {
     "data": {
      "image/png": "[encoded data removed]",
      "text/plain": [
       "<Figure size 1080x720 with 1 Axes>"
      ]
     },
     "metadata": {
      "needs_background": "light",
      "tags": []
     },
     "output_type": "display_data"
    }
   ],
   "source": [
    "plt.figure(figsize=(15,10))\n",
    "plt.imshow(wordcloud, interpolation='bilinear')\n",
    "plt.axis(\"off\")\n",
    "plt.show()"
   ]
  },
  {
   "cell_type": "code",
   "execution_count": null,
   "metadata": {
    "id": "pQD830McNk6Z"
   },
   "outputs": [],
   "source": [
    "# save the top 402 tags in a list\n",
    "top_402_tags = list(best_tags.keys())\n",
    "# top_402_tags"
   ]
  },
  {
   "cell_type": "markdown",
   "metadata": {
    "id": "POIuU-WvLWar"
   },
   "source": [
    "## Body + Title"
   ]
  },
  {
   "cell_type": "code",
   "execution_count": null,
   "metadata": {
    "id": "XuSOOcf47zer"
   },
   "outputs": [],
   "source": [
    "def clean_body_title(text):\n",
    "  # parse html\n",
    "  soup = BeautifulSoup(text, features=\"html.parser\")\n",
    "\n",
    "  # kill all script and style elements\n",
    "  for script in soup([\"script\", \"style\"]):\n",
    "      script.extract()    # rip it out\n",
    "\n",
    "  # get text\n",
    "  text = soup.get_text()\n",
    "\n",
    "  # remove url\n",
    "  text = re.sub(r'^https?:\\/\\/.*[\\r\\n]*', '', text, flags=re.MULTILINE)\n",
    "\n",
    "  # convert to lowercase\n",
    "  text = text.lower()\n",
    "\n",
    "  # remove contractions\n",
    "  rep_word = REReplacer()\n",
    "  text = rep_word.replace(text)\n",
    "  \n",
    "  # split into words\n",
    "  tokens = word_tokenize(text)\n",
    "\n",
    "  # remove punctuation from each word\n",
    "  table = str.maketrans('', '', string.punctuation)\n",
    "  stripped = [w.translate(table) for w in tokens]\n",
    "\n",
    "  # remove remaining tokens that are not alphabetic\n",
    "  words = [word for word in stripped if word.isalpha()]\n",
    "\n",
    "  # filter out stop words\n",
    "  stop_words = set(stopwords.words('english'))\n",
    "  words = [w for w in words if not w in stop_words]\n",
    "\n",
    "  # lemmatization except tags\n",
    "  wordnet_lemmatizer = WordNetLemmatizer()\n",
    "  words_lemma = [wordnet_lemmatizer.lemmatize(w, get_wordnet_pos(w)) for w in words if w not in tags_no_lemma]\n",
    "\n",
    "  # filter non lemmatized words that are in tags_no_lemma\n",
    "  words_tag = [w for w in words if w in tags_no_lemma]\n",
    "\n",
    "  words = words_lemma + words_tag\n",
    "  return words"
   ]
  },
  {
   "cell_type": "markdown",
   "metadata": {
    "id": "97UmgQClgsMk"
   },
   "source": [
    "**Clean body and title using the text processing techniques stated above.**"
   ]
  },
  {
   "cell_type": "code",
   "execution_count": null,
   "metadata": {
    "id": "EsAeIap0HjTa"
   },
   "outputs": [],
   "source": [
    "stack['Body_cleaned'] = stack['Body'].apply(clean_body_title)"
   ]
  },
  {
   "cell_type": "code",
   "execution_count": null,
   "metadata": {
    "id": "dKzeBMjbcPcV"
   },
   "outputs": [],
   "source": [
    "stack['Title_cleaned'] = stack['Title'].apply(clean_body_title)"
   ]
  },
  {
   "cell_type": "code",
   "execution_count": null,
   "metadata": {
    "colab": {
     "base_uri": "https://localhost:8080/",
     "height": 552
    },
    "executionInfo": {
     "elapsed": 755,
     "status": "ok",
     "timestamp": 1609890897139,
     "user": {
      "displayName": "Amine Fatmi",
      "photoUrl": "",
      "userId": "03089012490628162303"
     },
     "user_tz": -60
    },
    "id": "1M80hKFdPC68",
    "outputId": "630e2269-e595-41e7-f71e-839b88253392"
   },
   "outputs": [
    {
     "data": {
      "text/html": [
       "<div>\n",
       "<style scoped>\n",
       "    .dataframe tbody tr th:only-of-type {\n",
       "        vertical-align: middle;\n",
       "    }\n",
       "\n",
       "    .dataframe tbody tr th {\n",
       "        vertical-align: top;\n",
       "    }\n",
       "\n",
       "    .dataframe thead th {\n",
       "        text-align: right;\n",
       "    }\n",
       "</style>\n",
       "<table border=\"1\" class=\"dataframe\">\n",
       "  <thead>\n",
       "    <tr style=\"text-align: right;\">\n",
       "      <th></th>\n",
       "      <th>id</th>\n",
       "      <th>AcceptedAnswerId</th>\n",
       "      <th>Score</th>\n",
       "      <th>ViewCount</th>\n",
       "      <th>Body</th>\n",
       "      <th>Title</th>\n",
       "      <th>Tags</th>\n",
       "      <th>AnswerCount</th>\n",
       "      <th>FavoriteCount</th>\n",
       "      <th>Body_c</th>\n",
       "      <th>Tags_c</th>\n",
       "      <th>Tags_count</th>\n",
       "      <th>Body_length</th>\n",
       "      <th>Title_length</th>\n",
       "      <th>Tags_cleaned</th>\n",
       "      <th>Body_cleaned</th>\n",
       "      <th>Title_cleaned</th>\n",
       "    </tr>\n",
       "  </thead>\n",
       "  <tbody>\n",
       "    <tr>\n",
       "      <th>0</th>\n",
       "      <td>16594613</td>\n",
       "      <td>16597402.0</td>\n",
       "      <td>91</td>\n",
       "      <td>12521</td>\n",
       "      <td>&lt;p&gt;The last week I read a lot articles about p...</td>\n",
       "      <td>How to hash long passwords (&gt;72 characters) wi...</td>\n",
       "      <td>&lt;php&gt;&lt;security&gt;&lt;hash&gt;&lt;passwords&gt;&lt;blowfish&gt;</td>\n",
       "      <td>3</td>\n",
       "      <td>50.0</td>\n",
       "      <td>The last week I read a lot articles about pass...</td>\n",
       "      <td>php security hash passwords blowfish</td>\n",
       "      <td>5</td>\n",
       "      <td>2607</td>\n",
       "      <td>49</td>\n",
       "      <td>[php, security, hash, password, blowfish]</td>\n",
       "      <td>[last, week, read, lot, article, password, has...</td>\n",
       "      <td>[hash, long, password, character, blowfish]</td>\n",
       "    </tr>\n",
       "    <tr>\n",
       "      <th>1</th>\n",
       "      <td>8864</td>\n",
       "      <td>8869.0</td>\n",
       "      <td>85</td>\n",
       "      <td>30721</td>\n",
       "      <td>&lt;p&gt;Is there a difference between &lt;code&gt;NULL&lt;/c...</td>\n",
       "      <td>Difference between NULL and null in PHP</td>\n",
       "      <td>&lt;php&gt;&lt;null&gt;</td>\n",
       "      <td>3</td>\n",
       "      <td>10.0</td>\n",
       "      <td>Is there a difference between NULL and null in...</td>\n",
       "      <td>php null</td>\n",
       "      <td>2</td>\n",
       "      <td>292</td>\n",
       "      <td>33</td>\n",
       "      <td>[php, null]</td>\n",
       "      <td>[difference, null, null, php, sometimes, seem,...</td>\n",
       "      <td>[difference, null, null, php]</td>\n",
       "    </tr>\n",
       "    <tr>\n",
       "      <th>2</th>\n",
       "      <td>32968527</td>\n",
       "      <td>32969085.0</td>\n",
       "      <td>88</td>\n",
       "      <td>103439</td>\n",
       "      <td>&lt;p&gt;I tried to upgrade hibernate from 4 to 5 in...</td>\n",
       "      <td>Hibernate-sequence doesn't exist</td>\n",
       "      <td>&lt;java&gt;&lt;spring&gt;&lt;hibernate&gt;</td>\n",
       "      <td>15</td>\n",
       "      <td>18.0</td>\n",
       "      <td>I tried to upgrade hibernate from 4 to 5 in my...</td>\n",
       "      <td>java spring hibernate</td>\n",
       "      <td>3</td>\n",
       "      <td>412</td>\n",
       "      <td>30</td>\n",
       "      <td>[java, spring, hibernate]</td>\n",
       "      <td>[try, upgrade, hibernate, project, spring, ver...</td>\n",
       "      <td>[hibernatesequence, exist]</td>\n",
       "    </tr>\n",
       "    <tr>\n",
       "      <th>3</th>\n",
       "      <td>13537</td>\n",
       "      <td>13552.0</td>\n",
       "      <td>97</td>\n",
       "      <td>18118</td>\n",
       "      <td>&lt;p&gt;I've heard of the idea of bootstrapping a l...</td>\n",
       "      <td>Bootstrapping still requires outside support</td>\n",
       "      <td>&lt;compiler-construction&gt;&lt;bootstrapping&gt;</td>\n",
       "      <td>11</td>\n",
       "      <td>59.0</td>\n",
       "      <td>I've heard of the idea of bootstrapping a lang...</td>\n",
       "      <td>compiler-construction bootstrapping</td>\n",
       "      <td>2</td>\n",
       "      <td>478</td>\n",
       "      <td>40</td>\n",
       "      <td>[compilerconstruction, bootstrapping]</td>\n",
       "      <td>[heard, idea, bootstrapping, language, write, ...</td>\n",
       "      <td>[bootstrapping, still, require, outside, support]</td>\n",
       "    </tr>\n",
       "    <tr>\n",
       "      <th>4</th>\n",
       "      <td>20047</td>\n",
       "      <td>21158.0</td>\n",
       "      <td>82</td>\n",
       "      <td>28561</td>\n",
       "      <td>&lt;p&gt;We're seeing some pernicious, but rare, dea...</td>\n",
       "      <td>Diagnosing Deadlocks in SQL Server 2005</td>\n",
       "      <td>&lt;sql-server&gt;&lt;sql-server-2005&gt;&lt;deadlock&gt;</td>\n",
       "      <td>22</td>\n",
       "      <td>58.0</td>\n",
       "      <td>We're seeing some pernicious, but rare, deadlo...</td>\n",
       "      <td>sql-server sql-server-2005 deadlock</td>\n",
       "      <td>3</td>\n",
       "      <td>2893</td>\n",
       "      <td>34</td>\n",
       "      <td>[sqlserver, deadlock]</td>\n",
       "      <td>[see, pernicious, rare, deadlock, condition, s...</td>\n",
       "      <td>[diagnose, deadlock, sql, server]</td>\n",
       "    </tr>\n",
       "  </tbody>\n",
       "</table>\n",
       "</div>"
      ],
      "text/plain": [
       "         id  ...                                      Title_cleaned\n",
       "0  16594613  ...        [hash, long, password, character, blowfish]\n",
       "1      8864  ...                      [difference, null, null, php]\n",
       "2  32968527  ...                         [hibernatesequence, exist]\n",
       "3     13537  ...  [bootstrapping, still, require, outside, support]\n",
       "4     20047  ...                  [diagnose, deadlock, sql, server]\n",
       "\n",
       "[5 rows x 17 columns]"
      ]
     },
     "execution_count": 207,
     "metadata": {
      "tags": []
     },
     "output_type": "execute_result"
    }
   ],
   "source": [
    "stack.head()"
   ]
  },
  {
   "cell_type": "code",
   "execution_count": null,
   "metadata": {
    "id": "U-bENdS0gF74"
   },
   "outputs": [],
   "source": [
    "body = {}\n",
    "for i in range(len(stack)):\n",
    "  for j in range(len(stack['Body_cleaned'][i])):\n",
    "    if stack['Body_cleaned'][i][j] in body.keys():\n",
    "      body[stack['Body_cleaned'][i][j]] += 1\n",
    "    else:\n",
    "      body[stack['Body_cleaned'][i][j]] = 1"
   ]
  },
  {
   "cell_type": "code",
   "execution_count": null,
   "metadata": {
    "id": "iNkDlOEphLjs"
   },
   "outputs": [],
   "source": [
    "title = {}\n",
    "for i in range(len(stack)):\n",
    "  for j in range(len(stack['Title_cleaned'][i])):\n",
    "    if stack['Title_cleaned'][i][j] in title.keys():\n",
    "      title[stack['Title_cleaned'][i][j]] += 1\n",
    "    else:\n",
    "      title[stack['Title_cleaned'][i][j]] = 1"
   ]
  },
  {
   "cell_type": "markdown",
   "metadata": {
    "id": "KReZ0rvDg9uD"
   },
   "source": [
    "**Count number of unique words in title, body and tags.**"
   ]
  },
  {
   "cell_type": "code",
   "execution_count": null,
   "metadata": {
    "colab": {
     "base_uri": "https://localhost:8080/"
    },
    "executionInfo": {
     "elapsed": 916,
     "status": "ok",
     "timestamp": 1610709172737,
     "user": {
      "displayName": "Amine Fatmi",
      "photoUrl": "",
      "userId": "03089012490628162303"
     },
     "user_tz": -60
    },
    "id": "6SkQ7gW9SJJI",
    "outputId": "bb85255f-83f1-4f34-d5cc-6d440f062219"
   },
   "outputs": [
    {
     "data": {
      "text/plain": [
       "(24650, 263748, 12677)"
      ]
     },
     "execution_count": 75,
     "metadata": {
      "tags": []
     },
     "output_type": "execute_result"
    }
   ],
   "source": [
    "len(title), len(body), len(tags)"
   ]
  },
  {
   "cell_type": "code",
   "execution_count": null,
   "metadata": {
    "id": "FlINJ0bpigUt"
   },
   "outputs": [],
   "source": [
    "title_sorted = {k: v for k, v in sorted(title.items(), key=lambda item: item[1])}"
   ]
  },
  {
   "cell_type": "code",
   "execution_count": null,
   "metadata": {
    "colab": {
     "base_uri": "https://localhost:8080/",
     "height": 556
    },
    "executionInfo": {
     "elapsed": 1208,
     "status": "ok",
     "timestamp": 1610709389379,
     "user": {
      "displayName": "Amine Fatmi",
      "photoUrl": "",
      "userId": "03089012490628162303"
     },
     "user_tz": -60
    },
    "id": "DL28D3EnHFRK",
    "outputId": "64468651-111d-4cd1-9889-af4bce487514"
   },
   "outputs": [
    {
     "data": {
      "text/plain": [
       "Text(0.5, 1.0, 'Top 20 words in Title')"
      ]
     },
     "execution_count": 78,
     "metadata": {
      "tags": []
     },
     "output_type": "execute_result"
    },
    {
     "data": {
      "image/png": "[encoded data removed]",
      "text/plain": [
       "<Figure size 1080x576 with 1 Axes>"
      ]
     },
     "metadata": {
      "needs_background": "light",
      "tags": []
     },
     "output_type": "display_data"
    }
   ],
   "source": [
    "plt.figure(figsize=(15, 8)) \n",
    "plt.bar(dict(list(title_sorted.items())[-20:]).keys(), dict(list(title_sorted.items())[-20:]).values())\n",
    "plt.xticks(rotation=45)\n",
    "plt.title('Top 20 words in Title')"
   ]
  },
  {
   "cell_type": "code",
   "execution_count": null,
   "metadata": {
    "colab": {
     "base_uri": "https://localhost:8080/"
    },
    "executionInfo": {
     "elapsed": 1615,
     "status": "ok",
     "timestamp": 1610709498115,
     "user": {
      "displayName": "Amine Fatmi",
      "photoUrl": "",
      "userId": "03089012490628162303"
     },
     "user_tz": -60
    },
    "id": "rkah3tzpkQvO",
    "outputId": "6fe56d2d-703a-4a1f-8d4f-da2dfdb270ce"
   },
   "outputs": [
    {
     "data": {
      "text/plain": [
       "[('one', 23741),\n",
       " ('android', 25042),\n",
       " ('value', 25388),\n",
       " ('name', 26045),\n",
       " ('return', 27037),\n",
       " ('would', 28133),\n",
       " ('function', 28523),\n",
       " ('way', 29516),\n",
       " ('new', 30234),\n",
       " ('string', 31427),\n",
       " ('want', 31879),\n",
       " ('work', 31941),\n",
       " ('error', 32192),\n",
       " ('code', 33093),\n",
       " ('try', 34219),\n",
       " ('class', 34378),\n",
       " ('like', 41053),\n",
       " ('file', 42555),\n",
       " ('get', 44371),\n",
       " ('use', 82239)]"
      ]
     },
     "execution_count": 80,
     "metadata": {
      "tags": []
     },
     "output_type": "execute_result"
    }
   ],
   "source": [
    "body_sorted = {k: v for k, v in sorted(body.items(), key=lambda item: item[1])}\n",
    "list(body_sorted.items())[-20:]"
   ]
  },
  {
   "cell_type": "code",
   "execution_count": null,
   "metadata": {
    "colab": {
     "base_uri": "https://localhost:8080/",
     "height": 548
    },
    "executionInfo": {
     "elapsed": 2019,
     "status": "ok",
     "timestamp": 1610724303976,
     "user": {
      "displayName": "Amine Fatmi",
      "photoUrl": "",
      "userId": "03089012490628162303"
     },
     "user_tz": -60
    },
    "id": "XTNToQwZIMjN",
    "outputId": "914d7e13-a39b-4f51-eb9f-ecf049502413"
   },
   "outputs": [
    {
     "data": {
      "text/plain": [
       "Text(0.5, 1.0, 'Top 20 words in Body')"
      ]
     },
     "execution_count": 83,
     "metadata": {
      "tags": []
     },
     "output_type": "execute_result"
    },
    {
     "data": {
      "image/png": "[encoded data removed]",
      "text/plain": [
       "<Figure size 1080x576 with 1 Axes>"
      ]
     },
     "metadata": {
      "needs_background": "light",
      "tags": []
     },
     "output_type": "display_data"
    }
   ],
   "source": [
    "plt.figure(figsize=(15, 8)) \n",
    "plt.bar(dict(list(body_sorted.items())[-20:]).keys(), dict(list(body_sorted.items())[-20:]).values())\n",
    "plt.xticks(rotation=45)\n",
    "plt.title('Top 20 words in Body')"
   ]
  },
  {
   "cell_type": "code",
   "execution_count": null,
   "metadata": {
    "colab": {
     "base_uri": "https://localhost:8080/",
     "height": 1000
    },
    "executionInfo": {
     "elapsed": 374,
     "status": "ok",
     "timestamp": 1609891532170,
     "user": {
      "displayName": "Amine Fatmi",
      "photoUrl": "",
      "userId": "03089012490628162303"
     },
     "user_tz": -60
    },
    "id": "-LPW86dLAz23",
    "outputId": "714a38a9-0583-49d9-c404-c791c787f263"
   },
   "outputs": [
    {
     "data": {
      "text/html": [
       "<div>\n",
       "<style scoped>\n",
       "    .dataframe tbody tr th:only-of-type {\n",
       "        vertical-align: middle;\n",
       "    }\n",
       "\n",
       "    .dataframe tbody tr th {\n",
       "        vertical-align: top;\n",
       "    }\n",
       "\n",
       "    .dataframe thead th {\n",
       "        text-align: right;\n",
       "    }\n",
       "</style>\n",
       "<table border=\"1\" class=\"dataframe\">\n",
       "  <thead>\n",
       "    <tr style=\"text-align: right;\">\n",
       "      <th></th>\n",
       "      <th>id</th>\n",
       "      <th>AcceptedAnswerId</th>\n",
       "      <th>Score</th>\n",
       "      <th>ViewCount</th>\n",
       "      <th>Body</th>\n",
       "      <th>Title</th>\n",
       "      <th>Tags</th>\n",
       "      <th>AnswerCount</th>\n",
       "      <th>FavoriteCount</th>\n",
       "      <th>Body_c</th>\n",
       "      <th>Tags_c</th>\n",
       "      <th>Tags_count</th>\n",
       "      <th>Body_length</th>\n",
       "      <th>Title_length</th>\n",
       "      <th>Tags_cleaned</th>\n",
       "      <th>Body_cleaned</th>\n",
       "      <th>Title_cleaned</th>\n",
       "    </tr>\n",
       "  </thead>\n",
       "  <tbody>\n",
       "    <tr>\n",
       "      <th>0</th>\n",
       "      <td>16594613</td>\n",
       "      <td>16597402.0</td>\n",
       "      <td>91</td>\n",
       "      <td>12521</td>\n",
       "      <td>&lt;p&gt;The last week I read a lot articles about p...</td>\n",
       "      <td>How to hash long passwords (&gt;72 characters) wi...</td>\n",
       "      <td>&lt;php&gt;&lt;security&gt;&lt;hash&gt;&lt;passwords&gt;&lt;blowfish&gt;</td>\n",
       "      <td>3</td>\n",
       "      <td>50.0</td>\n",
       "      <td>The last week I read a lot articles about pass...</td>\n",
       "      <td>php security hash passwords blowfish</td>\n",
       "      <td>5</td>\n",
       "      <td>2607</td>\n",
       "      <td>49</td>\n",
       "      <td>[php, security, hash, password, blowfish]</td>\n",
       "      <td>[last, week, read, lot, article, password, has...</td>\n",
       "      <td>[hash, long, password, character, blowfish]</td>\n",
       "    </tr>\n",
       "    <tr>\n",
       "      <th>1</th>\n",
       "      <td>8864</td>\n",
       "      <td>8869.0</td>\n",
       "      <td>85</td>\n",
       "      <td>30721</td>\n",
       "      <td>&lt;p&gt;Is there a difference between &lt;code&gt;NULL&lt;/c...</td>\n",
       "      <td>Difference between NULL and null in PHP</td>\n",
       "      <td>&lt;php&gt;&lt;null&gt;</td>\n",
       "      <td>3</td>\n",
       "      <td>10.0</td>\n",
       "      <td>Is there a difference between NULL and null in...</td>\n",
       "      <td>php null</td>\n",
       "      <td>2</td>\n",
       "      <td>292</td>\n",
       "      <td>33</td>\n",
       "      <td>[php, null]</td>\n",
       "      <td>[difference, null, null, php, sometimes, seem,...</td>\n",
       "      <td>[difference, null, null, php]</td>\n",
       "    </tr>\n",
       "    <tr>\n",
       "      <th>2</th>\n",
       "      <td>32968527</td>\n",
       "      <td>32969085.0</td>\n",
       "      <td>88</td>\n",
       "      <td>103439</td>\n",
       "      <td>&lt;p&gt;I tried to upgrade hibernate from 4 to 5 in...</td>\n",
       "      <td>Hibernate-sequence doesn't exist</td>\n",
       "      <td>&lt;java&gt;&lt;spring&gt;&lt;hibernate&gt;</td>\n",
       "      <td>15</td>\n",
       "      <td>18.0</td>\n",
       "      <td>I tried to upgrade hibernate from 4 to 5 in my...</td>\n",
       "      <td>java spring hibernate</td>\n",
       "      <td>3</td>\n",
       "      <td>412</td>\n",
       "      <td>30</td>\n",
       "      <td>[java, spring, hibernate]</td>\n",
       "      <td>[try, upgrade, hibernate, project, spring, ver...</td>\n",
       "      <td>[hibernatesequence, exist]</td>\n",
       "    </tr>\n",
       "    <tr>\n",
       "      <th>3</th>\n",
       "      <td>13537</td>\n",
       "      <td>13552.0</td>\n",
       "      <td>97</td>\n",
       "      <td>18118</td>\n",
       "      <td>&lt;p&gt;I've heard of the idea of bootstrapping a l...</td>\n",
       "      <td>Bootstrapping still requires outside support</td>\n",
       "      <td>&lt;compiler-construction&gt;&lt;bootstrapping&gt;</td>\n",
       "      <td>11</td>\n",
       "      <td>59.0</td>\n",
       "      <td>I've heard of the idea of bootstrapping a lang...</td>\n",
       "      <td>compiler-construction bootstrapping</td>\n",
       "      <td>2</td>\n",
       "      <td>478</td>\n",
       "      <td>40</td>\n",
       "      <td>[compilerconstruction, bootstrapping]</td>\n",
       "      <td>[heard, idea, bootstrapping, language, write, ...</td>\n",
       "      <td>[bootstrapping, still, require, outside, support]</td>\n",
       "    </tr>\n",
       "    <tr>\n",
       "      <th>4</th>\n",
       "      <td>20047</td>\n",
       "      <td>21158.0</td>\n",
       "      <td>82</td>\n",
       "      <td>28561</td>\n",
       "      <td>&lt;p&gt;We're seeing some pernicious, but rare, dea...</td>\n",
       "      <td>Diagnosing Deadlocks in SQL Server 2005</td>\n",
       "      <td>&lt;sql-server&gt;&lt;sql-server-2005&gt;&lt;deadlock&gt;</td>\n",
       "      <td>22</td>\n",
       "      <td>58.0</td>\n",
       "      <td>We're seeing some pernicious, but rare, deadlo...</td>\n",
       "      <td>sql-server sql-server-2005 deadlock</td>\n",
       "      <td>3</td>\n",
       "      <td>2893</td>\n",
       "      <td>34</td>\n",
       "      <td>[sqlserver, deadlock]</td>\n",
       "      <td>[see, pernicious, rare, deadlock, condition, s...</td>\n",
       "      <td>[diagnose, deadlock, sql, server]</td>\n",
       "    </tr>\n",
       "    <tr>\n",
       "      <th>...</th>\n",
       "      <td>...</td>\n",
       "      <td>...</td>\n",
       "      <td>...</td>\n",
       "      <td>...</td>\n",
       "      <td>...</td>\n",
       "      <td>...</td>\n",
       "      <td>...</td>\n",
       "      <td>...</td>\n",
       "      <td>...</td>\n",
       "      <td>...</td>\n",
       "      <td>...</td>\n",
       "      <td>...</td>\n",
       "      <td>...</td>\n",
       "      <td>...</td>\n",
       "      <td>...</td>\n",
       "      <td>...</td>\n",
       "      <td>...</td>\n",
       "    </tr>\n",
       "    <tr>\n",
       "      <th>100423</th>\n",
       "      <td>5874652</td>\n",
       "      <td>5876747.0</td>\n",
       "      <td>2349</td>\n",
       "      <td>632427</td>\n",
       "      <td>&lt;p&gt;So &lt;a href=\"http://api.jquery.com/category/...</td>\n",
       "      <td>.prop() vs .attr()</td>\n",
       "      <td>&lt;javascript&gt;&lt;jquery&gt;&lt;dom&gt;&lt;attr&gt;&lt;prop&gt;</td>\n",
       "      <td>18</td>\n",
       "      <td>735.0</td>\n",
       "      <td>So jQuery 1.6 has the new function prop().\\n$(...</td>\n",
       "      <td>javascript jquery dom attr prop</td>\n",
       "      <td>5</td>\n",
       "      <td>831</td>\n",
       "      <td>16</td>\n",
       "      <td>[javascript, jquery, dom, attr, prop]</td>\n",
       "      <td>[jquery, new, function, prop, selector, click,...</td>\n",
       "      <td>[prop, v, attr]</td>\n",
       "    </tr>\n",
       "    <tr>\n",
       "      <th>100424</th>\n",
       "      <td>7131670</td>\n",
       "      <td>7131683.0</td>\n",
       "      <td>1368</td>\n",
       "      <td>582893</td>\n",
       "      <td>&lt;p&gt;I used to use CShell (&lt;a href=\"/questions/t...</td>\n",
       "      <td>Make a Bash alias that takes a parameter?</td>\n",
       "      <td>&lt;bash&gt;&lt;alias&gt;</td>\n",
       "      <td>20</td>\n",
       "      <td>311.0</td>\n",
       "      <td>I used to use CShell (csh), which lets you mak...</td>\n",
       "      <td>bash alias</td>\n",
       "      <td>2</td>\n",
       "      <td>250</td>\n",
       "      <td>34</td>\n",
       "      <td>[bash, alias]</td>\n",
       "      <td>[use, use, cshell, csh, let, make, alias, take...</td>\n",
       "      <td>[make, bash, alias, take, parameter]</td>\n",
       "    </tr>\n",
       "    <tr>\n",
       "      <th>100425</th>\n",
       "      <td>7147270</td>\n",
       "      <td>7147320.0</td>\n",
       "      <td>1107</td>\n",
       "      <td>645639</td>\n",
       "      <td>&lt;p&gt;I currently have three modified files in my...</td>\n",
       "      <td>Hard reset of a single file</td>\n",
       "      <td>&lt;git&gt;</td>\n",
       "      <td>9</td>\n",
       "      <td>255.0</td>\n",
       "      <td>I currently have three modified files in my wo...</td>\n",
       "      <td>git</td>\n",
       "      <td>1</td>\n",
       "      <td>330</td>\n",
       "      <td>22</td>\n",
       "      <td>[git]</td>\n",
       "      <td>[currently, three, modify, file, work, directo...</td>\n",
       "      <td>[hard, reset, single, file]</td>\n",
       "    </tr>\n",
       "    <tr>\n",
       "      <th>100426</th>\n",
       "      <td>24319662</td>\n",
       "      <td>24326540.0</td>\n",
       "      <td>1751</td>\n",
       "      <td>999800</td>\n",
       "      <td>&lt;p&gt;So I have a Nginx running inside a docker c...</td>\n",
       "      <td>From inside of a Docker container, how do I co...</td>\n",
       "      <td>&lt;nginx&gt;&lt;docker&gt;&lt;reverse-proxy&gt;&lt;docker-networking&gt;</td>\n",
       "      <td>31</td>\n",
       "      <td>765.0</td>\n",
       "      <td>So I have a Nginx running inside a docker cont...</td>\n",
       "      <td>nginx docker reverse-proxy docker-networking</td>\n",
       "      <td>4</td>\n",
       "      <td>822</td>\n",
       "      <td>69</td>\n",
       "      <td>[nginx, docker, reverseproxy, dockernetworking]</td>\n",
       "      <td>[nginx, run, inside, docker, container, mysql,...</td>\n",
       "      <td>[inside, docker, container, connect, localhost...</td>\n",
       "    </tr>\n",
       "    <tr>\n",
       "      <th>100427</th>\n",
       "      <td>24342886</td>\n",
       "      <td>NaN</td>\n",
       "      <td>1088</td>\n",
       "      <td>924096</td>\n",
       "      <td>&lt;p&gt;I want to do some programming with the late...</td>\n",
       "      <td>How to install Java 8 on Mac</td>\n",
       "      <td>&lt;java&gt;&lt;macos&gt;&lt;java-8&gt;&lt;installation&gt;</td>\n",
       "      <td>26</td>\n",
       "      <td>314.0</td>\n",
       "      <td>I want to do some programming with the latest ...</td>\n",
       "      <td>java macos java-8 installation</td>\n",
       "      <td>4</td>\n",
       "      <td>779</td>\n",
       "      <td>22</td>\n",
       "      <td>[java, macos, installation]</td>\n",
       "      <td>[want, program, late, javafx, require, java, u...</td>\n",
       "      <td>[install, java, mac]</td>\n",
       "    </tr>\n",
       "  </tbody>\n",
       "</table>\n",
       "<p>100428 rows × 17 columns</p>\n",
       "</div>"
      ],
      "text/plain": [
       "              id  ...                                      Title_cleaned\n",
       "0       16594613  ...        [hash, long, password, character, blowfish]\n",
       "1           8864  ...                      [difference, null, null, php]\n",
       "2       32968527  ...                         [hibernatesequence, exist]\n",
       "3          13537  ...  [bootstrapping, still, require, outside, support]\n",
       "4          20047  ...                  [diagnose, deadlock, sql, server]\n",
       "...          ...  ...                                                ...\n",
       "100423   5874652  ...                                    [prop, v, attr]\n",
       "100424   7131670  ...               [make, bash, alias, take, parameter]\n",
       "100425   7147270  ...                        [hard, reset, single, file]\n",
       "100426  24319662  ...  [inside, docker, container, connect, localhost...\n",
       "100427  24342886  ...                               [install, java, mac]\n",
       "\n",
       "[100428 rows x 17 columns]"
      ]
     },
     "execution_count": 215,
     "metadata": {
      "tags": []
     },
     "output_type": "execute_result"
    }
   ],
   "source": [
    "stack"
   ]
  },
  {
   "cell_type": "markdown",
   "metadata": {
    "id": "Fcv7KZZlFvyM"
   },
   "source": [
    "Concatenate body and title"
   ]
  },
  {
   "cell_type": "code",
   "execution_count": null,
   "metadata": {
    "id": "QNVxNB2SA0mb"
   },
   "outputs": [],
   "source": [
    "stack['Body_title_cleaned'] = stack['Body_cleaned'] + stack['Title_cleaned']"
   ]
  },
  {
   "cell_type": "markdown",
   "metadata": {
    "id": "VYfLYyZqGADo"
   },
   "source": [
    "Count in how many documents each word appears"
   ]
  },
  {
   "cell_type": "code",
   "execution_count": null,
   "metadata": {
    "id": "PGtn17kYBJGj"
   },
   "outputs": [],
   "source": [
    "count={}\n",
    "for i in range(len(stack)):\n",
    "  for w in set(stack['Body_title_cleaned'][i]):\n",
    "    if w in count:\n",
    "      count[w]+=1\n",
    "    else:\n",
    "      count[w]=1"
   ]
  },
  {
   "cell_type": "code",
   "execution_count": null,
   "metadata": {
    "colab": {
     "base_uri": "https://localhost:8080/"
    },
    "executionInfo": {
     "elapsed": 835,
     "status": "ok",
     "timestamp": 1609892053764,
     "user": {
      "displayName": "Amine Fatmi",
      "photoUrl": "",
      "userId": "03089012490628162303"
     },
     "user_tz": -60
    },
    "id": "lEDInNwIB4VM",
    "outputId": "2fcfca31-8296-42c1-cac8-0c9cdb537d82"
   },
   "outputs": [
    {
     "data": {
      "text/plain": [
       "3112"
      ]
     },
     "execution_count": 226,
     "metadata": {
      "tags": []
     },
     "output_type": "execute_result"
    }
   ],
   "source": [
    "count['last']"
   ]
  },
  {
   "cell_type": "code",
   "execution_count": null,
   "metadata": {
    "colab": {
     "base_uri": "https://localhost:8080/"
    },
    "executionInfo": {
     "elapsed": 1058,
     "status": "ok",
     "timestamp": 1609892987626,
     "user": {
      "displayName": "Amine Fatmi",
      "photoUrl": "",
      "userId": "03089012490628162303"
     },
     "user_tz": -60
    },
    "id": "nbeBtao0ClN0",
    "outputId": "0cfac22b-acf7-4a42-caa8-88a5ef25706c"
   },
   "outputs": [
    {
     "data": {
      "text/plain": [
       "[('problem', 10451),\n",
       " ('type', 10512),\n",
       " ('question', 10730),\n",
       " ('also', 10795),\n",
       " ('could', 11120),\n",
       " ('method', 11162),\n",
       " ('add', 11234),\n",
       " ('seem', 11299),\n",
       " ('c', 11445),\n",
       " ('name', 11507),\n",
       " ('look', 11551),\n",
       " ('find', 11743),\n",
       " ('see', 11831),\n",
       " ('set', 12148),\n",
       " ('run', 12388),\n",
       " ('something', 12545),\n",
       " ('value', 12703),\n",
       " ('create', 12927),\n",
       " ('string', 13002),\n",
       " ('function', 13088),\n",
       " ('class', 13308),\n",
       " ('return', 13531),\n",
       " ('make', 14220),\n",
       " ('example', 14439),\n",
       " ('error', 15225),\n",
       " ('follow', 15822),\n",
       " ('know', 16040),\n",
       " ('new', 16357),\n",
       " ('need', 16597),\n",
       " ('one', 17779),\n",
       " ('file', 18090),\n",
       " ('would', 20250),\n",
       " ('code', 21808),\n",
       " ('work', 22782),\n",
       " ('way', 24033),\n",
       " ('want', 24069),\n",
       " ('try', 24659),\n",
       " ('like', 29347),\n",
       " ('get', 30137),\n",
       " ('use', 48616)]"
      ]
     },
     "execution_count": 236,
     "metadata": {
      "tags": []
     },
     "output_type": "execute_result"
    }
   ],
   "source": [
    "title_body_count = {k: v for k, v in sorted(count.items(), key=lambda item: item[1])}\n",
    "list(title_body_count.items())[-40:]"
   ]
  },
  {
   "cell_type": "markdown",
   "metadata": {
    "id": "ste6O3mgGJ2t"
   },
   "source": [
    "Use appears in 48% of the documents. Most of the words are generic apart from 'C'. We can specify max_df = 15% to get rid off words that appears in more than 15% of the documents."
   ]
  },
  {
   "cell_type": "markdown",
   "metadata": {
    "id": "h7kh1tmXZsGx"
   },
   "source": [
    "# Export the cleaned data"
   ]
  },
  {
   "cell_type": "markdown",
   "metadata": {
    "id": "x9Y_pGzShbfa"
   },
   "source": [
    "Save the dataframe into a csv file."
   ]
  },
  {
   "cell_type": "code",
   "execution_count": null,
   "metadata": {
    "id": "XH73hMBGDG61"
   },
   "outputs": [],
   "source": [
    "pd.Series(top_402_tags).to_csv('/top_402_tags.csv')"
   ]
  },
  {
   "cell_type": "code",
   "execution_count": null,
   "metadata": {
    "id": "5paXiEynHAki"
   },
   "outputs": [],
   "source": [
    "stack.to_csv('/stack_cleaned.csv')"
   ]
  }
 ],
 "metadata": {
  "colab": {
   "authorship_tag": "ABX9TyMKqDcmdl8o/G12xqsZS0BE",
   "collapsed_sections": [],
   "name": "PStackOverflow_01_eda_process.ipynb",
   "provenance": [
    {
     "file_id": "1P1RPDzU2AM8nygt4GbYLR3hnZWxPsk_Q",
     "timestamp": 1609875402995
    },
    {
     "file_id": "1fWjjkSY-Z3VssKVwM3Qj4gcHX1N2jE0u",
     "timestamp": 1609584129609
    },
    {
     "file_id": "1FFP7j-2MJnK3_s0NClPlLEj60XfVLvn5",
     "timestamp": 1609422091694
    },
    {
     "file_id": "18CiDRL-iRn8QrGuUCXCFtm8mHBhCtkmG",
     "timestamp": 1608738967039
    }
   ],
   "toc_visible": true
  },
  "kernelspec": {
   "display_name": "Python 3",
   "language": "python",
   "name": "python3"
  },
  "language_info": {
   "codemirror_mode": {
    "name": "ipython",
    "version": 3
   },
   "file_extension": ".py",
   "mimetype": "text/x-python",
   "name": "python",
   "nbconvert_exporter": "python",
   "pygments_lexer": "ipython3",
   "version": "3.7.6"
  }
 },
 "nbformat": 4,
 "nbformat_minor": 1
}

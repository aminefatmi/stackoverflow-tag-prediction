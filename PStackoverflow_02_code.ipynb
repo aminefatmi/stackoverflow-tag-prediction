{
 "cells": [
  {
   "cell_type": "markdown",
   "metadata": {
    "id": "NqeJPonsctQ4"
   },
   "source": [
    "# Libraries"
   ]
  },
  {
   "cell_type": "code",
   "execution_count": 4,
   "metadata": {
    "executionInfo": {
     "elapsed": 691,
     "status": "ok",
     "timestamp": 1610795900150,
     "user": {
      "displayName": "Amine Fatmi",
      "photoUrl": "",
      "userId": "03089012490628162303"
     },
     "user_tz": -60
    },
    "id": "2Qhi8nrpfrQO"
   },
   "outputs": [],
   "source": [
    "from wordcloud import WordCloud"
   ]
  },
  {
   "cell_type": "code",
   "execution_count": 5,
   "metadata": {
    "executionInfo": {
     "elapsed": 1612,
     "status": "ok",
     "timestamp": 1610795902225,
     "user": {
      "displayName": "Amine Fatmi",
      "photoUrl": "",
      "userId": "03089012490628162303"
     },
     "user_tz": -60
    },
    "id": "Px_j7dz_HudE"
   },
   "outputs": [],
   "source": [
    "import pandas as pd\n",
    "import numpy as np\n",
    "import matplotlib.pyplot as plt\n",
    "import seaborn as sns\n",
    "sns.set_theme(style=\"darkgrid\")\n",
    "%matplotlib inline\n",
    "from matplotlib.gridspec import GridSpec\n",
    "\n",
    "from bs4 import BeautifulSoup"
   ]
  },
  {
   "cell_type": "code",
   "execution_count": 6,
   "metadata": {
    "colab": {
     "base_uri": "https://localhost:8080/"
    },
    "executionInfo": {
     "elapsed": 3791,
     "status": "ok",
     "timestamp": 1610795906542,
     "user": {
      "displayName": "Amine Fatmi",
      "photoUrl": "",
      "userId": "03089012490628162303"
     },
     "user_tz": -60
    },
    "id": "_emsmMI3cq-e",
    "outputId": "49766d0c-2571-428a-d641-5f42d8f250b2"
   },
   "outputs": [
    {
     "name": "stdout",
     "output_type": "stream",
     "text": [
      "[nltk_data] Downloading package punkt to /root/nltk_data...\n",
      "[nltk_data]   Unzipping tokenizers/punkt.zip.\n",
      "[nltk_data] Downloading package stopwords to /root/nltk_data...\n",
      "[nltk_data]   Unzipping corpora/stopwords.zip.\n",
      "[nltk_data] Downloading package wordnet to /root/nltk_data...\n",
      "[nltk_data]   Unzipping corpora/wordnet.zip.\n",
      "[nltk_data] Downloading package averaged_perceptron_tagger to\n",
      "[nltk_data]     /root/nltk_data...\n",
      "[nltk_data]   Unzipping taggers/averaged_perceptron_tagger.zip.\n"
     ]
    }
   ],
   "source": [
    "import nltk\n",
    "nltk.download('punkt')\n",
    "from nltk.tokenize import word_tokenize\n",
    "import string\n",
    "from nltk.corpus import stopwords\n",
    "nltk.download('stopwords')\n",
    "import nltk\n",
    "nltk.download('wordnet')\n",
    "from nltk.stem import \tWordNetLemmatizer\n",
    "from nltk.corpus import wordnet\n",
    "nltk.download('averaged_perceptron_tagger')\n",
    "import re"
   ]
  },
  {
   "cell_type": "markdown",
   "metadata": {
    "id": "n4GuEYGUc1lF"
   },
   "source": [
    "# Read data"
   ]
  },
  {
   "cell_type": "code",
   "execution_count": 7,
   "metadata": {
    "executionInfo": {
     "elapsed": 2394,
     "status": "ok",
     "timestamp": 1610795918203,
     "user": {
      "displayName": "Amine Fatmi",
      "photoUrl": "",
      "userId": "03089012490628162303"
     },
     "user_tz": -60
    },
    "id": "HrJSK9P4HwmI"
   },
   "outputs": [],
   "source": [
    "stackoverflow = pd.read_csv('/QueryResults1.csv')"
   ]
  },
  {
   "cell_type": "code",
   "execution_count": 8,
   "metadata": {
    "executionInfo": {
     "elapsed": 1190,
     "status": "ok",
     "timestamp": 1610795920260,
     "user": {
      "displayName": "Amine Fatmi",
      "photoUrl": "",
      "userId": "03089012490628162303"
     },
     "user_tz": -60
    },
    "id": "CtcWDVuPITae"
   },
   "outputs": [],
   "source": [
    "stackoverflow2 = pd.read_csv('//QueryResults2.csv')"
   ]
  },
  {
   "cell_type": "code",
   "execution_count": 9,
   "metadata": {
    "executionInfo": {
     "elapsed": 2280,
     "status": "ok",
     "timestamp": 1610795922773,
     "user": {
      "displayName": "Amine Fatmi",
      "photoUrl": "",
      "userId": "03089012490628162303"
     },
     "user_tz": -60
    },
    "id": "qzJuxsvEI8M4"
   },
   "outputs": [],
   "source": [
    "stackoverflow3 = pd.read_csv('/QueryResults3.csv')"
   ]
  },
  {
   "cell_type": "code",
   "execution_count": 10,
   "metadata": {
    "executionInfo": {
     "elapsed": 2274,
     "status": "ok",
     "timestamp": 1610795924137,
     "user": {
      "displayName": "Amine Fatmi",
      "photoUrl": "",
      "userId": "03089012490628162303"
     },
     "user_tz": -60
    },
    "id": "GjpuYXuCJ79A"
   },
   "outputs": [],
   "source": [
    "stackoverflow4 = pd.read_csv('/QueryResults4.csv')"
   ]
  },
  {
   "cell_type": "code",
   "execution_count": 11,
   "metadata": {
    "executionInfo": {
     "elapsed": 924,
     "status": "ok",
     "timestamp": 1610795925581,
     "user": {
      "displayName": "Amine Fatmi",
      "photoUrl": "",
      "userId": "03089012490628162303"
     },
     "user_tz": -60
    },
    "id": "wSh7412ZMXwX"
   },
   "outputs": [],
   "source": [
    "stackoverflow5 = pd.read_csv('/QueryResults5.csv')"
   ]
  },
  {
   "cell_type": "code",
   "execution_count": 12,
   "metadata": {
    "executionInfo": {
     "elapsed": 710,
     "status": "ok",
     "timestamp": 1610795943082,
     "user": {
      "displayName": "Amine Fatmi",
      "photoUrl": "",
      "userId": "03089012490628162303"
     },
     "user_tz": -60
    },
    "id": "nTTwlNHQM7Wq"
   },
   "outputs": [],
   "source": [
    "stack = pd.concat([stackoverflow, stackoverflow2, stackoverflow3, stackoverflow4, stackoverflow5], axis=0)"
   ]
  },
  {
   "cell_type": "markdown",
   "metadata": {
    "id": "-PhLLZM8VWNo"
   },
   "source": [
    "# EDA + Cleaning"
   ]
  },
  {
   "cell_type": "code",
   "execution_count": 13,
   "metadata": {
    "colab": {
     "base_uri": "https://localhost:8080/",
     "height": 278
    },
    "executionInfo": {
     "elapsed": 864,
     "status": "ok",
     "timestamp": 1610795947917,
     "user": {
      "displayName": "Amine Fatmi",
      "photoUrl": "",
      "userId": "03089012490628162303"
     },
     "user_tz": -60
    },
    "id": "uFV1zez4ygI3",
    "outputId": "7d987a21-5f9c-4565-cf55-f944528320a3"
   },
   "outputs": [
    {
     "data": {
      "text/html": [
       "<div>\n",
       "<style scoped>\n",
       "    .dataframe tbody tr th:only-of-type {\n",
       "        vertical-align: middle;\n",
       "    }\n",
       "\n",
       "    .dataframe tbody tr th {\n",
       "        vertical-align: top;\n",
       "    }\n",
       "\n",
       "    .dataframe thead th {\n",
       "        text-align: right;\n",
       "    }\n",
       "</style>\n",
       "<table border=\"1\" class=\"dataframe\">\n",
       "  <thead>\n",
       "    <tr style=\"text-align: right;\">\n",
       "      <th></th>\n",
       "      <th>id</th>\n",
       "      <th>AcceptedAnswerId</th>\n",
       "      <th>Score</th>\n",
       "      <th>ViewCount</th>\n",
       "      <th>Body</th>\n",
       "      <th>Title</th>\n",
       "      <th>Tags</th>\n",
       "      <th>AnswerCount</th>\n",
       "      <th>FavoriteCount</th>\n",
       "    </tr>\n",
       "  </thead>\n",
       "  <tbody>\n",
       "    <tr>\n",
       "      <th>0</th>\n",
       "      <td>1764970</td>\n",
       "      <td>1770683.0</td>\n",
       "      <td>113</td>\n",
       "      <td>143104</td>\n",
       "      <td>&lt;p&gt;Can linq somehow be used to find the index ...</td>\n",
       "      <td>Find index of a value in an array</td>\n",
       "      <td>&lt;c#&gt;&lt;arrays&gt;&lt;linq&gt;</td>\n",
       "      <td>8</td>\n",
       "      <td>17.0</td>\n",
       "    </tr>\n",
       "    <tr>\n",
       "      <th>1</th>\n",
       "      <td>3585</td>\n",
       "      <td>3601.0</td>\n",
       "      <td>132</td>\n",
       "      <td>147579</td>\n",
       "      <td>&lt;p&gt;I want to create my Rails application with ...</td>\n",
       "      <td>Create a new Ruby on Rails application using M...</td>\n",
       "      <td>&lt;mysql&gt;&lt;ruby-on-rails&gt;&lt;ruby&gt;</td>\n",
       "      <td>19</td>\n",
       "      <td>44.0</td>\n",
       "    </tr>\n",
       "    <tr>\n",
       "      <th>2</th>\n",
       "      <td>8692</td>\n",
       "      <td>NaN</td>\n",
       "      <td>229</td>\n",
       "      <td>296787</td>\n",
       "      <td>&lt;p&gt;What are the libraries that support XPath? ...</td>\n",
       "      <td>How to use XPath in Python?</td>\n",
       "      <td>&lt;python&gt;&lt;xml&gt;&lt;dom&gt;&lt;xpath&gt;&lt;python-2.x&gt;</td>\n",
       "      <td>12</td>\n",
       "      <td>74.0</td>\n",
       "    </tr>\n",
       "    <tr>\n",
       "      <th>3</th>\n",
       "      <td>3713</td>\n",
       "      <td>3777.0</td>\n",
       "      <td>140</td>\n",
       "      <td>284586</td>\n",
       "      <td>&lt;p&gt;I'm writing a web page in ASP.NET. I have s...</td>\n",
       "      <td>Call ASP.NET function from JavaScript?</td>\n",
       "      <td>&lt;javascript&gt;&lt;c#&gt;&lt;asp.net&gt;&lt;onclick&gt;</td>\n",
       "      <td>20</td>\n",
       "      <td>41.0</td>\n",
       "    </tr>\n",
       "    <tr>\n",
       "      <th>4</th>\n",
       "      <td>3748</td>\n",
       "      <td>NaN</td>\n",
       "      <td>415</td>\n",
       "      <td>655648</td>\n",
       "      <td>&lt;p&gt;So I'm using an app that stores images heav...</td>\n",
       "      <td>Storing Images in DB - Yea or Nay?</td>\n",
       "      <td>&lt;database&gt;&lt;image&gt;&lt;theory&gt;&lt;storage&gt;&lt;blob&gt;</td>\n",
       "      <td>56</td>\n",
       "      <td>880.0</td>\n",
       "    </tr>\n",
       "  </tbody>\n",
       "</table>\n",
       "</div>"
      ],
      "text/plain": [
       "        id  AcceptedAnswerId  ...  AnswerCount  FavoriteCount\n",
       "0  1764970         1770683.0  ...            8           17.0\n",
       "1     3585            3601.0  ...           19           44.0\n",
       "2     8692               NaN  ...           12           74.0\n",
       "3     3713            3777.0  ...           20           41.0\n",
       "4     3748               NaN  ...           56          880.0\n",
       "\n",
       "[5 rows x 9 columns]"
      ]
     },
     "execution_count": 13,
     "metadata": {
      "tags": []
     },
     "output_type": "execute_result"
    }
   ],
   "source": [
    "stack.head()"
   ]
  },
  {
   "cell_type": "code",
   "execution_count": 14,
   "metadata": {
    "colab": {
     "base_uri": "https://localhost:8080/",
     "height": 282
    },
    "executionInfo": {
     "elapsed": 950,
     "status": "ok",
     "timestamp": 1610795952053,
     "user": {
      "displayName": "Amine Fatmi",
      "photoUrl": "",
      "userId": "03089012490628162303"
     },
     "user_tz": -60
    },
    "id": "aJMrMq6xNeYh",
    "outputId": "d20a1d6a-d1d6-40bf-a07a-48b34fc9d625"
   },
   "outputs": [
    {
     "data": {
      "text/html": [
       "<div>\n",
       "<style scoped>\n",
       "    .dataframe tbody tr th:only-of-type {\n",
       "        vertical-align: middle;\n",
       "    }\n",
       "\n",
       "    .dataframe tbody tr th {\n",
       "        vertical-align: top;\n",
       "    }\n",
       "\n",
       "    .dataframe thead th {\n",
       "        text-align: right;\n",
       "    }\n",
       "</style>\n",
       "<table border=\"1\" class=\"dataframe\">\n",
       "  <thead>\n",
       "    <tr style=\"text-align: right;\">\n",
       "      <th></th>\n",
       "      <th>id</th>\n",
       "      <th>AcceptedAnswerId</th>\n",
       "      <th>Score</th>\n",
       "      <th>ViewCount</th>\n",
       "      <th>AnswerCount</th>\n",
       "      <th>FavoriteCount</th>\n",
       "    </tr>\n",
       "  </thead>\n",
       "  <tbody>\n",
       "    <tr>\n",
       "      <th>count</th>\n",
       "      <td>1.428920e+05</td>\n",
       "      <td>1.241840e+05</td>\n",
       "      <td>142892.000000</td>\n",
       "      <td>1.428920e+05</td>\n",
       "      <td>142892.000000</td>\n",
       "      <td>142858.000000</td>\n",
       "    </tr>\n",
       "    <tr>\n",
       "      <th>mean</th>\n",
       "      <td>1.254441e+07</td>\n",
       "      <td>1.324966e+07</td>\n",
       "      <td>191.511967</td>\n",
       "      <td>1.823023e+05</td>\n",
       "      <td>9.390099</td>\n",
       "      <td>59.009625</td>\n",
       "    </tr>\n",
       "    <tr>\n",
       "      <th>std</th>\n",
       "      <td>1.297325e+07</td>\n",
       "      <td>1.345424e+07</td>\n",
       "      <td>353.086972</td>\n",
       "      <td>2.737549e+05</td>\n",
       "      <td>8.484979</td>\n",
       "      <td>153.149253</td>\n",
       "    </tr>\n",
       "    <tr>\n",
       "      <th>min</th>\n",
       "      <td>4.000000e+00</td>\n",
       "      <td>7.000000e+00</td>\n",
       "      <td>51.000000</td>\n",
       "      <td>5.660000e+02</td>\n",
       "      <td>0.000000</td>\n",
       "      <td>0.000000</td>\n",
       "    </tr>\n",
       "    <tr>\n",
       "      <th>25%</th>\n",
       "      <td>2.533298e+06</td>\n",
       "      <td>2.771701e+06</td>\n",
       "      <td>72.000000</td>\n",
       "      <td>5.380100e+04</td>\n",
       "      <td>4.000000</td>\n",
       "      <td>17.000000</td>\n",
       "    </tr>\n",
       "    <tr>\n",
       "      <th>50%</th>\n",
       "      <td>7.684378e+06</td>\n",
       "      <td>8.380238e+06</td>\n",
       "      <td>115.000000</td>\n",
       "      <td>1.053300e+05</td>\n",
       "      <td>7.000000</td>\n",
       "      <td>31.000000</td>\n",
       "    </tr>\n",
       "    <tr>\n",
       "      <th>75%</th>\n",
       "      <td>1.871693e+07</td>\n",
       "      <td>1.963743e+07</td>\n",
       "      <td>188.000000</td>\n",
       "      <td>2.082770e+05</td>\n",
       "      <td>12.000000</td>\n",
       "      <td>58.000000</td>\n",
       "    </tr>\n",
       "    <tr>\n",
       "      <th>max</th>\n",
       "      <td>6.530330e+07</td>\n",
       "      <td>6.493439e+07</td>\n",
       "      <td>25113.000000</td>\n",
       "      <td>9.137293e+06</td>\n",
       "      <td>518.000000</td>\n",
       "      <td>11205.000000</td>\n",
       "    </tr>\n",
       "  </tbody>\n",
       "</table>\n",
       "</div>"
      ],
      "text/plain": [
       "                 id  AcceptedAnswerId  ...    AnswerCount  FavoriteCount\n",
       "count  1.428920e+05      1.241840e+05  ...  142892.000000  142858.000000\n",
       "mean   1.254441e+07      1.324966e+07  ...       9.390099      59.009625\n",
       "std    1.297325e+07      1.345424e+07  ...       8.484979     153.149253\n",
       "min    4.000000e+00      7.000000e+00  ...       0.000000       0.000000\n",
       "25%    2.533298e+06      2.771701e+06  ...       4.000000      17.000000\n",
       "50%    7.684378e+06      8.380238e+06  ...       7.000000      31.000000\n",
       "75%    1.871693e+07      1.963743e+07  ...      12.000000      58.000000\n",
       "max    6.530330e+07      6.493439e+07  ...     518.000000   11205.000000\n",
       "\n",
       "[8 rows x 6 columns]"
      ]
     },
     "execution_count": 14,
     "metadata": {
      "tags": []
     },
     "output_type": "execute_result"
    }
   ],
   "source": [
    "stack.describe()"
   ]
  },
  {
   "cell_type": "code",
   "execution_count": 15,
   "metadata": {
    "executionInfo": {
     "elapsed": 814,
     "status": "ok",
     "timestamp": 1610795957737,
     "user": {
      "displayName": "Amine Fatmi",
      "photoUrl": "",
      "userId": "03089012490628162303"
     },
     "user_tz": -60
    },
    "id": "JrvBVwqHOR0E"
   },
   "outputs": [],
   "source": [
    "stack = stack.reset_index().drop('index', axis=1)"
   ]
  },
  {
   "cell_type": "markdown",
   "metadata": {
    "id": "A5HN3l5R-Z3S"
   },
   "source": [
    "## Tags"
   ]
  },
  {
   "cell_type": "code",
   "execution_count": 304,
   "metadata": {
    "executionInfo": {
     "elapsed": 1143,
     "status": "ok",
     "timestamp": 1610812858487,
     "user": {
      "displayName": "Amine Fatmi",
      "photoUrl": "",
      "userId": "03089012490628162303"
     },
     "user_tz": -60
    },
    "id": "BAnkNFsP7T5k"
   },
   "outputs": [],
   "source": [
    "stack['Tag_c'] = stack['Tags'].str.lower().apply(lambda x : x.split('><'))"
   ]
  },
  {
   "cell_type": "code",
   "execution_count": 305,
   "metadata": {
    "executionInfo": {
     "elapsed": 64427,
     "status": "ok",
     "timestamp": 1610813015784,
     "user": {
      "displayName": "Amine Fatmi",
      "photoUrl": "",
      "userId": "03089012490628162303"
     },
     "user_tz": -60
    },
    "id": "Kogg4xS-7YJI"
   },
   "outputs": [],
   "source": [
    "t = stack['Tag_c'].apply(lambda x : pd.Series(x).str.replace('<', '').str.replace('>', '').str.replace('-', ' ')).replace(np.nan, '').values.tolist()"
   ]
  },
  {
   "cell_type": "code",
   "execution_count": 307,
   "metadata": {
    "colab": {
     "base_uri": "https://localhost:8080/"
    },
    "executionInfo": {
     "elapsed": 586,
     "status": "ok",
     "timestamp": 1610813152037,
     "user": {
      "displayName": "Amine Fatmi",
      "photoUrl": "",
      "userId": "03089012490628162303"
     },
     "user_tz": -60
    },
    "id": "SGiMDFchpd6x",
    "outputId": "e5f99cea-b878-4c42-b456-b5d6055f442f"
   },
   "outputs": [
    {
     "data": {
      "text/plain": [
       "['c#',\n",
       " 'billion',\n",
       " 'dollars',\n",
       " ';',\n",
       " 'we',\n",
       " 'do',\n",
       " \"n't\",\n",
       " 'own',\n",
       " 'an',\n",
       " 'ounce',\n",
       " 'C++']"
      ]
     },
     "execution_count": 307,
     "metadata": {
      "tags": []
     },
     "output_type": "execute_result"
    }
   ],
   "source": [
    "txt = \"c# billion dollars; we don't own an ounce C++\"\n",
    "tokens = word_tokenize(txt)\n",
    "\n",
    "mwtokenizer = nltk.MWETokenizer(separator='')\n",
    "mwtokenizer.add_mwe(('c', '#'))\n",
    "mwtokenizer.tokenize(tokens)"
   ]
  },
  {
   "cell_type": "code",
   "execution_count": 308,
   "metadata": {
    "executionInfo": {
     "elapsed": 500,
     "status": "ok",
     "timestamp": 1610813167003,
     "user": {
      "displayName": "Amine Fatmi",
      "photoUrl": "",
      "userId": "03089012490628162303"
     },
     "user_tz": -60
    },
    "id": "SeLNpBUagjTr"
   },
   "outputs": [],
   "source": [
    "# function take list and return list without digits\n",
    "def clean_digit_list(list1):\n",
    "  list2=[]\n",
    "  for e in list1:\n",
    "    string1 = ''\n",
    "    for ee in mwtokenizer.tokenize(word_tokenize(e)): # avoid tokenize c#\n",
    "      if (any(chr.isdigit() for chr in ee)==False) and (ee not in stop_words):\n",
    "        string1 = string1 + ' ' +ee\n",
    "    if string1 != '':\n",
    "      list2.append(string1.strip())\n",
    "  return list2"
   ]
  },
  {
   "cell_type": "code",
   "execution_count": 309,
   "metadata": {
    "colab": {
     "base_uri": "https://localhost:8080/"
    },
    "executionInfo": {
     "elapsed": 512,
     "status": "ok",
     "timestamp": 1610813168568,
     "user": {
      "displayName": "Amine Fatmi",
      "photoUrl": "",
      "userId": "03089012490628162303"
     },
     "user_tz": -60
    },
    "id": "X8CalQoP7FP3",
    "outputId": "b19fd558-de5c-45e2-c172-d28e3176d902"
   },
   "outputs": [
    {
     "data": {
      "text/plain": [
       "['c#', 'ruby rails']"
      ]
     },
     "execution_count": 309,
     "metadata": {
      "tags": []
     },
     "output_type": "execute_result"
    }
   ],
   "source": [
    "clean_digit_list(['c#', 'ruby on rails'])"
   ]
  },
  {
   "cell_type": "code",
   "execution_count": 310,
   "metadata": {
    "executionInfo": {
     "elapsed": 37005,
     "status": "ok",
     "timestamp": 1610813208212,
     "user": {
      "displayName": "Amine Fatmi",
      "photoUrl": "",
      "userId": "03089012490628162303"
     },
     "user_tz": -60
    },
    "id": "-vhtJ8JdXC-y"
   },
   "outputs": [],
   "source": [
    "t1 = pd.Series(t).apply(clean_digit_list)"
   ]
  },
  {
   "cell_type": "code",
   "execution_count": 311,
   "metadata": {
    "executionInfo": {
     "elapsed": 561,
     "status": "ok",
     "timestamp": 1610813211385,
     "user": {
      "displayName": "Amine Fatmi",
      "photoUrl": "",
      "userId": "03089012490628162303"
     },
     "user_tz": -60
    },
    "id": "P_irTBg5EJCu"
   },
   "outputs": [],
   "source": [
    "# %timeit\n",
    "list_tag=[]\n",
    "for l in t1:\n",
    "  for e in l:\n",
    "    if len(e)>0:\n",
    "      list_tag.append(e)"
   ]
  },
  {
   "cell_type": "code",
   "execution_count": 312,
   "metadata": {
    "colab": {
     "base_uri": "https://localhost:8080/"
    },
    "executionInfo": {
     "elapsed": 552,
     "status": "ok",
     "timestamp": 1610813216966,
     "user": {
      "displayName": "Amine Fatmi",
      "photoUrl": "",
      "userId": "03089012490628162303"
     },
     "user_tz": -60
    },
    "id": "Je4btIw4Xmm3",
    "outputId": "25157860-ccad-4827-f320-601f7cd894c6"
   },
   "outputs": [
    {
     "data": {
      "text/plain": [
       "12932"
      ]
     },
     "execution_count": 312,
     "metadata": {
      "tags": []
     },
     "output_type": "execute_result"
    }
   ],
   "source": [
    "len(set(list_tag))"
   ]
  },
  {
   "cell_type": "code",
   "execution_count": 461,
   "metadata": {
    "colab": {
     "base_uri": "https://localhost:8080/"
    },
    "executionInfo": {
     "elapsed": 564,
     "status": "ok",
     "timestamp": 1610817766128,
     "user": {
      "displayName": "Amine Fatmi",
      "photoUrl": "",
      "userId": "03089012490628162303"
     },
     "user_tz": -60
    },
    "id": "J_SW65F6wxDd",
    "outputId": "28807bb3-1b85-43fa-818e-7aafa2188cbd"
   },
   "outputs": [
    {
     "data": {
      "text/plain": [
       "python               15416\n",
       "javascript           14277\n",
       "java                 13619\n",
       "c#                   11317\n",
       "android               9576\n",
       "html                  6091\n",
       "c++                   5677\n",
       "git                   5121\n",
       "jquery                4975\n",
       "css                   4952\n",
       ".net                  4952\n",
       "ios                   4802\n",
       "php                   4590\n",
       "sql                   3407\n",
       "string                3245\n",
       "sql server            3089\n",
       "visual studio         2929\n",
       "mysql                 2837\n",
       "node.js               2729\n",
       "c                     2715\n",
       "ruby rails            2635\n",
       "bash                  2375\n",
       "objective c           2366\n",
       "linux                 2362\n",
       "arrays                2342\n",
       "ruby                  2174\n",
       "asp.net mvc           2151\n",
       "swift                 2000\n",
       "iphone                1885\n",
       "json                  1802\n",
       "windows               1747\n",
       "r                     1686\n",
       "xcode                 1606\n",
       "asp.net               1590\n",
       "django                1585\n",
       "angularjs             1574\n",
       "regex                 1473\n",
       "shell                 1450\n",
       "angular               1369\n",
       "performance           1343\n",
       "list                  1313\n",
       "eclipse               1296\n",
       "reactjs               1288\n",
       "macos                 1286\n",
       "postgresql            1262\n",
       "database              1234\n",
       "pandas                1194\n",
       "twitter bootstrap     1139\n",
       "typescript            1120\n",
       "github                1073\n",
       "dtype: int64"
      ]
     },
     "execution_count": 461,
     "metadata": {
      "tags": []
     },
     "output_type": "execute_result"
    }
   ],
   "source": [
    "pd.Series(list_tag).value_counts()[:50]"
   ]
  },
  {
   "cell_type": "code",
   "execution_count": 315,
   "metadata": {
    "executionInfo": {
     "elapsed": 873,
     "status": "ok",
     "timestamp": 1610813262010,
     "user": {
      "displayName": "Amine Fatmi",
      "photoUrl": "",
      "userId": "03089012490628162303"
     },
     "user_tz": -60
    },
    "id": "WOqiu1IrgFD-"
   },
   "outputs": [],
   "source": [
    "tag_ngrams = []\n",
    "for tag in pd.Series(list_tag).value_counts()[:400].index:\n",
    "  count = len(word_tokenize(str(tag)))\n",
    "  tag_ngrams.append(count)"
   ]
  },
  {
   "cell_type": "code",
   "execution_count": 316,
   "metadata": {
    "colab": {
     "base_uri": "https://localhost:8080/"
    },
    "executionInfo": {
     "elapsed": 382,
     "status": "ok",
     "timestamp": 1610813263106,
     "user": {
      "displayName": "Amine Fatmi",
      "photoUrl": "",
      "userId": "03089012490628162303"
     },
     "user_tz": -60
    },
    "id": "SaacLBx1wo_M",
    "outputId": "76371eb1-43de-4147-c149-50c40694be1c"
   },
   "outputs": [
    {
     "data": {
      "text/plain": [
       "1    315\n",
       "2     80\n",
       "3      5\n",
       "dtype: int64"
      ]
     },
     "execution_count": 316,
     "metadata": {
      "tags": []
     },
     "output_type": "execute_result"
    }
   ],
   "source": [
    "pd.Series(tag_ngrams).value_counts()"
   ]
  },
  {
   "cell_type": "markdown",
   "metadata": {
    "id": "kVLZ9-R_xds8"
   },
   "source": [
    "Only 5 3-grams tags among the top 400"
   ]
  },
  {
   "cell_type": "markdown",
   "metadata": {
    "id": "1rKa1-tLOMtf"
   },
   "source": [
    "Take all single words in top_400_tags and save them in a list"
   ]
  },
  {
   "cell_type": "code",
   "execution_count": 470,
   "metadata": {
    "colab": {
     "base_uri": "https://localhost:8080/"
    },
    "executionInfo": {
     "elapsed": 813,
     "status": "ok",
     "timestamp": 1610818268070,
     "user": {
      "displayName": "Amine Fatmi",
      "photoUrl": "",
      "userId": "03089012490628162303"
     },
     "user_tz": -60
    },
    "id": "aWFUQX1xOToH",
    "outputId": "e9ed154a-1d27-489c-e8c3-3c29e4f7c419"
   },
   "outputs": [
    {
     "data": {
      "text/plain": [
       "413"
      ]
     },
     "execution_count": 470,
     "metadata": {
      "tags": []
     },
     "output_type": "execute_result"
    }
   ],
   "source": [
    "single_word_top_400_tags = []\n",
    "list1 = pd.Series(pd.Series(list_tag).value_counts()[:400].index).apply(lambda x: x.split())\n",
    "for l in list1:\n",
    "  for e in l:\n",
    "    single_word_top_400_tags.append(e)\n",
    "len(set(single_word_top_400_tags))"
   ]
  },
  {
   "cell_type": "code",
   "execution_count": 286,
   "metadata": {
    "executionInfo": {
     "elapsed": 500,
     "status": "ok",
     "timestamp": 1610811785251,
     "user": {
      "displayName": "Amine Fatmi",
      "photoUrl": "",
      "userId": "03089012490628162303"
     },
     "user_tz": -60
    },
    "id": "Wuore2T43Ipw"
   },
   "outputs": [],
   "source": [
    "top_400_tags = list(pd.Series(list_tag).value_counts()[:400].index)\n",
    "# top_400_tags"
   ]
  },
  {
   "cell_type": "code",
   "execution_count": 318,
   "metadata": {
    "colab": {
     "base_uri": "https://localhost:8080/"
    },
    "executionInfo": {
     "elapsed": 595,
     "status": "ok",
     "timestamp": 1610813397277,
     "user": {
      "displayName": "Amine Fatmi",
      "photoUrl": "",
      "userId": "03089012490628162303"
     },
     "user_tz": -60
    },
    "id": "SCKwBQuDgjHs",
    "outputId": "45bc7977-21dd-42a2-8ceb-bc3253c5b344"
   },
   "outputs": [
    {
     "data": {
      "text/plain": [
       "0                                        [c#, arrays, linq]\n",
       "1                                 [mysql, ruby rails, ruby]\n",
       "2                         [python, xml, dom, xpath, python]\n",
       "3                        [javascript, c#, asp.net, onclick]\n",
       "4                  [database, image, theory, storage, blob]\n",
       "                                ...                        \n",
       "142887                [javascript, jquery, dom, attr, prop]\n",
       "142888                                        [bash, alias]\n",
       "142889                                                [git]\n",
       "142890    [nginx, docker, reverse proxy, docker networking]\n",
       "142891                    [java, macos, java, installation]\n",
       "Length: 142892, dtype: object"
      ]
     },
     "execution_count": 318,
     "metadata": {
      "tags": []
     },
     "output_type": "execute_result"
    }
   ],
   "source": [
    "t1"
   ]
  },
  {
   "cell_type": "code",
   "execution_count": 329,
   "metadata": {
    "colab": {
     "base_uri": "https://localhost:8080/",
     "height": 340
    },
    "executionInfo": {
     "elapsed": 584,
     "status": "ok",
     "timestamp": 1610813776008,
     "user": {
      "displayName": "Amine Fatmi",
      "photoUrl": "",
      "userId": "03089012490628162303"
     },
     "user_tz": -60
    },
    "id": "bTHEJPzZgjEd",
    "outputId": "b611f340-2d7b-43e3-9bd2-5e9c5988988e"
   },
   "outputs": [
    {
     "data": {
      "text/html": [
       "<div>\n",
       "<style scoped>\n",
       "    .dataframe tbody tr th:only-of-type {\n",
       "        vertical-align: middle;\n",
       "    }\n",
       "\n",
       "    .dataframe tbody tr th {\n",
       "        vertical-align: top;\n",
       "    }\n",
       "\n",
       "    .dataframe thead th {\n",
       "        text-align: right;\n",
       "    }\n",
       "</style>\n",
       "<table border=\"1\" class=\"dataframe\">\n",
       "  <thead>\n",
       "    <tr style=\"text-align: right;\">\n",
       "      <th></th>\n",
       "      <th>Tags</th>\n",
       "      <th>Tags_c</th>\n",
       "    </tr>\n",
       "  </thead>\n",
       "  <tbody>\n",
       "    <tr>\n",
       "      <th>20</th>\n",
       "      <td>&lt;sql&gt;&lt;sql-server&gt;&lt;database&gt;&lt;performance&gt;</td>\n",
       "      <td>[sql, sql server, database, performance]</td>\n",
       "    </tr>\n",
       "    <tr>\n",
       "      <th>21</th>\n",
       "      <td>&lt;uml&gt;&lt;class-design&gt;&lt;diagram&gt;</td>\n",
       "      <td>[uml, class design, diagram]</td>\n",
       "    </tr>\n",
       "    <tr>\n",
       "      <th>22</th>\n",
       "      <td>&lt;java&gt;&lt;xml&gt;&lt;binary&gt;&lt;binary-data&gt;</td>\n",
       "      <td>[java, xml, binary, binary data]</td>\n",
       "    </tr>\n",
       "    <tr>\n",
       "      <th>23</th>\n",
       "      <td>&lt;javascript&gt;&lt;object&gt;&lt;key&gt;</td>\n",
       "      <td>[javascript, object, key]</td>\n",
       "    </tr>\n",
       "    <tr>\n",
       "      <th>24</th>\n",
       "      <td>&lt;sql-server&gt;&lt;tsql&gt;&lt;duplicates&gt;</td>\n",
       "      <td>[sql server, tsql, duplicates]</td>\n",
       "    </tr>\n",
       "    <tr>\n",
       "      <th>25</th>\n",
       "      <td>&lt;ajax&gt;&lt;webserver&gt;&lt;comet&gt;</td>\n",
       "      <td>[ajax, webserver, comet]</td>\n",
       "    </tr>\n",
       "    <tr>\n",
       "      <th>26</th>\n",
       "      <td>&lt;python&gt;&lt;command-line&gt;&lt;command-line-arguments&gt;</td>\n",
       "      <td>[python, command line, command line arguments]</td>\n",
       "    </tr>\n",
       "    <tr>\n",
       "      <th>27</th>\n",
       "      <td>&lt;javascript&gt;&lt;command-line-interface&gt;&lt;pretty-pr...</td>\n",
       "      <td>[javascript, command line interface, pretty pr...</td>\n",
       "    </tr>\n",
       "    <tr>\n",
       "      <th>28</th>\n",
       "      <td>&lt;ios&gt;&lt;arrays&gt;&lt;swift&gt;</td>\n",
       "      <td>[ios, arrays, swift]</td>\n",
       "    </tr>\n",
       "    <tr>\n",
       "      <th>29</th>\n",
       "      <td>&lt;mysql&gt;&lt;database&gt;&lt;performance&gt;&lt;innodb&gt;&lt;myisam&gt;</td>\n",
       "      <td>[mysql, database, performance, innodb, myisam]</td>\n",
       "    </tr>\n",
       "  </tbody>\n",
       "</table>\n",
       "</div>"
      ],
      "text/plain": [
       "                                                 Tags                                             Tags_c\n",
       "20           <sql><sql-server><database><performance>           [sql, sql server, database, performance]\n",
       "21                       <uml><class-design><diagram>                       [uml, class design, diagram]\n",
       "22                   <java><xml><binary><binary-data>                   [java, xml, binary, binary data]\n",
       "23                          <javascript><object><key>                          [javascript, object, key]\n",
       "24                     <sql-server><tsql><duplicates>                     [sql server, tsql, duplicates]\n",
       "25                           <ajax><webserver><comet>                           [ajax, webserver, comet]\n",
       "26     <python><command-line><command-line-arguments>     [python, command line, command line arguments]\n",
       "27  <javascript><command-line-interface><pretty-pr...  [javascript, command line interface, pretty pr...\n",
       "28                               <ios><arrays><swift>                               [ios, arrays, swift]\n",
       "29     <mysql><database><performance><innodb><myisam>     [mysql, database, performance, innodb, myisam]"
      ]
     },
     "execution_count": 329,
     "metadata": {
      "tags": []
     },
     "output_type": "execute_result"
    }
   ],
   "source": [
    "stack['Tags_c'] = pd.Series(t1)\n",
    "stack[['Tags', 'Tags_c']][20:30]"
   ]
  },
  {
   "cell_type": "markdown",
   "metadata": {
    "id": "HhiDeoHj_QiT"
   },
   "source": [
    "Count the occurence of each tag."
   ]
  },
  {
   "cell_type": "code",
   "execution_count": 331,
   "metadata": {
    "executionInfo": {
     "elapsed": 6595,
     "status": "ok",
     "timestamp": 1610813805348,
     "user": {
      "displayName": "Amine Fatmi",
      "photoUrl": "",
      "userId": "03089012490628162303"
     },
     "user_tz": -60
    },
    "id": "pONHkyu2-eiv"
   },
   "outputs": [],
   "source": [
    "tags = {}\n",
    "for i in range(len(stack)):\n",
    "  for j in range(len(stack['Tags_c'][i])):\n",
    "    if stack['Tags_c'][i][j] in tags.keys():\n",
    "      tags[stack['Tags_c'][i][j]] += 1\n",
    "    else:\n",
    "      tags[stack['Tags_c'][i][j]] = 1"
   ]
  },
  {
   "cell_type": "code",
   "execution_count": 337,
   "metadata": {
    "colab": {
     "base_uri": "https://localhost:8080/"
    },
    "executionInfo": {
     "elapsed": 803,
     "status": "ok",
     "timestamp": 1610814148834,
     "user": {
      "displayName": "Amine Fatmi",
      "photoUrl": "",
      "userId": "03089012490628162303"
     },
     "user_tz": -60
    },
    "id": "DCeYZzep_hGF",
    "outputId": "257ebc8f-fd3c-41ad-9ba0-09e168e591d3"
   },
   "outputs": [
    {
     "data": {
      "text/plain": [
       "[('css', 4952),\n",
       " ('jquery', 4975),\n",
       " ('git', 5121),\n",
       " ('c++', 5677),\n",
       " ('html', 6091),\n",
       " ('android', 9576),\n",
       " ('c#', 11317),\n",
       " ('java', 13619),\n",
       " ('javascript', 14277),\n",
       " ('python', 15416)]"
      ]
     },
     "execution_count": 337,
     "metadata": {
      "tags": []
     },
     "output_type": "execute_result"
    }
   ],
   "source": [
    "tags_sorted = {k: v for k, v in sorted(tags.items(), key=lambda item: item[1])}\n",
    "list(tags_sorted.items())[-10:]"
   ]
  },
  {
   "cell_type": "markdown",
   "metadata": {
    "id": "47CsWjJj_hGK"
   },
   "source": [
    "**Top 20 tags:**"
   ]
  },
  {
   "cell_type": "code",
   "execution_count": 338,
   "metadata": {
    "colab": {
     "base_uri": "https://localhost:8080/",
     "height": 457
    },
    "executionInfo": {
     "elapsed": 823,
     "status": "ok",
     "timestamp": 1610814163846,
     "user": {
      "displayName": "Amine Fatmi",
      "photoUrl": "",
      "userId": "03089012490628162303"
     },
     "user_tz": -60
    },
    "id": "zChADKaf_hGL",
    "outputId": "d185b6b8-48d2-48cb-a7bb-6684c2d57d7a"
   },
   "outputs": [
    {
     "data": {
      "text/plain": [
       "Text(0.5, 1.0, 'Top 20 tags')"
      ]
     },
     "execution_count": 338,
     "metadata": {
      "tags": []
     },
     "output_type": "execute_result"
    },
    {
     "data": {
      "image/png": "[encoded data removed]",
      "text/plain": [
       "<Figure size 720x432 with 1 Axes>"
      ]
     },
     "metadata": {
      "needs_background": "light",
      "tags": []
     },
     "output_type": "display_data"
    }
   ],
   "source": [
    "plt.figure(figsize=(10, 6)) \n",
    "plt.bar(dict(list(tags_sorted.items())[-20:]).keys(), dict(list(tags_sorted.items())[-20:]).values())\n",
    "plt.xticks(rotation=45)\n",
    "plt.title('Top 20 tags')"
   ]
  },
  {
   "cell_type": "markdown",
   "metadata": {
    "id": "RuTP0U6bBhKV"
   },
   "source": [
    "Count number of tags for each question"
   ]
  },
  {
   "cell_type": "code",
   "execution_count": 352,
   "metadata": {
    "executionInfo": {
     "elapsed": 611,
     "status": "ok",
     "timestamp": 1610814501732,
     "user": {
      "displayName": "Amine Fatmi",
      "photoUrl": "",
      "userId": "03089012490628162303"
     },
     "user_tz": -60
    },
    "id": "JU4gdi_eBhKW"
   },
   "outputs": [],
   "source": [
    "stack['Tags_count'] = stack['Tags_c'].apply(lambda x: len(x))"
   ]
  },
  {
   "cell_type": "code",
   "execution_count": 354,
   "metadata": {
    "colab": {
     "base_uri": "https://localhost:8080/"
    },
    "executionInfo": {
     "elapsed": 632,
     "status": "ok",
     "timestamp": 1610814569459,
     "user": {
      "displayName": "Amine Fatmi",
      "photoUrl": "",
      "userId": "03089012490628162303"
     },
     "user_tz": -60
    },
    "id": "QWUx9_z_B4Vz",
    "outputId": "67cb035a-989e-4874-857b-4ee0a7549622"
   },
   "outputs": [
    {
     "data": {
      "text/plain": [
       "3    43031\n",
       "2    38057\n",
       "4    29574\n",
       "5    17168\n",
       "1    14965\n",
       "0       97\n",
       "Name: Tags_count, dtype: int64"
      ]
     },
     "execution_count": 354,
     "metadata": {
      "tags": []
     },
     "output_type": "execute_result"
    }
   ],
   "source": [
    "stack['Tags_count'].value_counts()"
   ]
  },
  {
   "cell_type": "code",
   "execution_count": 353,
   "metadata": {
    "colab": {
     "base_uri": "https://localhost:8080/",
     "height": 467
    },
    "executionInfo": {
     "elapsed": 569,
     "status": "ok",
     "timestamp": 1610814535691,
     "user": {
      "displayName": "Amine Fatmi",
      "photoUrl": "",
      "userId": "03089012490628162303"
     },
     "user_tz": -60
    },
    "id": "dFV8_UHGByHP",
    "outputId": "65856063-6cfd-4f06-8fa8-07cf9ad19b11"
   },
   "outputs": [
    {
     "name": "stderr",
     "output_type": "stream",
     "text": [
      "/usr/local/lib/python3.6/dist-packages/seaborn/_decorators.py:43: FutureWarning: Pass the following variable as a keyword arg: x. From version 0.12, the only valid positional argument will be `data`, and passing other arguments without an explicit keyword will result in an error or misinterpretation.\n",
      "  FutureWarning\n"
     ]
    },
    {
     "data": {
      "text/plain": [
       "<matplotlib.axes._subplots.AxesSubplot at 0x7f40a8ed3a90>"
      ]
     },
     "execution_count": 353,
     "metadata": {
      "tags": []
     },
     "output_type": "execute_result"
    },
    {
     "data": {
      "image/png": "[encoded data removed]",
      "text/plain": [
       "<Figure size 720x432 with 1 Axes>"
      ]
     },
     "metadata": {
      "needs_background": "light",
      "tags": []
     },
     "output_type": "display_data"
    }
   ],
   "source": [
    "plt.figure(figsize=(10,6))\n",
    "sns.countplot(stack['Tags_count'])"
   ]
  },
  {
   "cell_type": "markdown",
   "metadata": {
    "id": "frwF_iVLByHQ"
   },
   "source": [
    "From the countplot above we can say that:\n",
    "  - number of tags is comprised between 0 and 5\n",
    "  - 3 tags questions are the most represented within this dataset"
   ]
  },
  {
   "cell_type": "code",
   "execution_count": 339,
   "metadata": {
    "colab": {
     "base_uri": "https://localhost:8080/",
     "height": 142,
     "output_embedded_package_id": "1GmXBRQdLlasBcDLdwqX6kXbOasiVf4nn"
    },
    "executionInfo": {
     "elapsed": 2397,
     "status": "ok",
     "timestamp": 1610814174637,
     "user": {
      "displayName": "Amine Fatmi",
      "photoUrl": "",
      "userId": "03089012490628162303"
     },
     "user_tz": -60
    },
    "id": "iKRZkNR9_hGL",
    "outputId": "adf325b6-5f5b-4da4-e5eb-b91312740733"
   },
   "outputs": [
    {
     "data": {
      "text/plain": [
       "Output hidden; open in https://colab.research.google.com to view."
      ]
     },
     "metadata": {},
     "output_type": "display_data"
    }
   ],
   "source": [
    "text = stack['Tags_c'].apply(lambda x: ' '.join(x))\n",
    "text = ' '.join(t for t in text)\n",
    "text"
   ]
  },
  {
   "cell_type": "code",
   "execution_count": 346,
   "metadata": {
    "executionInfo": {
     "elapsed": 3123,
     "status": "ok",
     "timestamp": 1610814300256,
     "user": {
      "displayName": "Amine Fatmi",
      "photoUrl": "",
      "userId": "03089012490628162303"
     },
     "user_tz": -60
    },
    "id": "io5gxljw_hGM"
   },
   "outputs": [],
   "source": [
    "# Create and generate a word cloud image:\n",
    "wordcloud = WordCloud(max_font_size=50, max_words=100, background_color=\"white\", regexp=r\"(?u)\\b\\w+\\b\").generate(text)\n",
    "# regex expression modified to include single letter words sucs as 'c' or 'r'"
   ]
  },
  {
   "cell_type": "code",
   "execution_count": 347,
   "metadata": {
    "colab": {
     "base_uri": "https://localhost:8080/",
     "height": 449
    },
    "executionInfo": {
     "elapsed": 1438,
     "status": "ok",
     "timestamp": 1610814301633,
     "user": {
      "displayName": "Amine Fatmi",
      "photoUrl": "",
      "userId": "03089012490628162303"
     },
     "user_tz": -60
    },
    "id": "mOo8pJBn_hGM",
    "outputId": "140ce204-b48a-4ddc-83c5-46a7b1cf5c64"
   },
   "outputs": [
    {
     "data": {
      "image/png": "[encoded data removed]",
      "text/plain": [
       "<Figure size 1080x720 with 1 Axes>"
      ]
     },
     "metadata": {
      "needs_background": "light",
      "tags": []
     },
     "output_type": "display_data"
    }
   ],
   "source": [
    "plt.figure(figsize=(15,10))\n",
    "plt.imshow(wordcloud, interpolation='bilinear')\n",
    "plt.axis(\"off\")\n",
    "plt.show()"
   ]
  },
  {
   "cell_type": "markdown",
   "metadata": {
    "id": "XTmsh4-WDbpW"
   },
   "source": [
    "## Visualizations"
   ]
  },
  {
   "cell_type": "markdown",
   "metadata": {
    "id": "9FzlXUKldX_i"
   },
   "source": [
    "Count the number of characters in body and title"
   ]
  },
  {
   "cell_type": "code",
   "execution_count": 356,
   "metadata": {
    "executionInfo": {
     "elapsed": 1976,
     "status": "ok",
     "timestamp": 1610814816218,
     "user": {
      "displayName": "Amine Fatmi",
      "photoUrl": "",
      "userId": "03089012490628162303"
     },
     "user_tz": -60
    },
    "id": "H4-y3y6Hm7aW"
   },
   "outputs": [],
   "source": [
    "stack['Body_length'] = stack['Body'].apply(lambda x: len(''.join(x.split())))\n",
    "stack['Title_length'] = stack['Title'].apply(lambda x: len(''.join(x.split())))"
   ]
  },
  {
   "cell_type": "markdown",
   "metadata": {
    "id": "XNQIfOMOdl73"
   },
   "source": [
    "**Body length distribution**"
   ]
  },
  {
   "cell_type": "code",
   "execution_count": 359,
   "metadata": {
    "colab": {
     "base_uri": "https://localhost:8080/",
     "height": 482
    },
    "executionInfo": {
     "elapsed": 1496,
     "status": "ok",
     "timestamp": 1610814846007,
     "user": {
      "displayName": "Amine Fatmi",
      "photoUrl": "",
      "userId": "03089012490628162303"
     },
     "user_tz": -60
    },
    "id": "p2OlF7tot7GE",
    "outputId": "1e1c0f39-0f53-4214-af58-22ae49dd1e1a"
   },
   "outputs": [
    {
     "data": {
      "text/plain": [
       "Text(0.5, 1.0, 'Body length distribution')"
      ]
     },
     "execution_count": 359,
     "metadata": {
      "tags": []
     },
     "output_type": "execute_result"
    },
    {
     "data": {
      "image/png": "[encoded data removed]",
      "text/plain": [
       "<Figure size 864x504 with 1 Axes>"
      ]
     },
     "metadata": {
      "needs_background": "light",
      "tags": []
     },
     "output_type": "display_data"
    }
   ],
   "source": [
    "plt.figure(figsize=(12,7))\n",
    "plt.hist(stack['Body_length'], bins=[i for i in range(0,30000,100)])\n",
    "plt.xlim(0,1000)\n",
    "plt.xlabel('Body length')\n",
    "plt.title('Body length distribution')"
   ]
  },
  {
   "cell_type": "markdown",
   "metadata": {
    "id": "JpkkjodSdqSm"
   },
   "source": [
    "**Title length distribution**"
   ]
  },
  {
   "cell_type": "code",
   "execution_count": 360,
   "metadata": {
    "colab": {
     "base_uri": "https://localhost:8080/",
     "height": 482
    },
    "executionInfo": {
     "elapsed": 941,
     "status": "ok",
     "timestamp": 1610814867152,
     "user": {
      "displayName": "Amine Fatmi",
      "photoUrl": "",
      "userId": "03089012490628162303"
     },
     "user_tz": -60
    },
    "id": "-6JD1MJ13J72",
    "outputId": "cb395f17-4534-4bbd-8417-7fcbbb3e129d"
   },
   "outputs": [
    {
     "data": {
      "text/plain": [
       "Text(0.5, 1.0, 'Title length distribution')"
      ]
     },
     "execution_count": 360,
     "metadata": {
      "tags": []
     },
     "output_type": "execute_result"
    },
    {
     "data": {
      "image/png": "[encoded data removed]",
      "text/plain": [
       "<Figure size 864x504 with 1 Axes>"
      ]
     },
     "metadata": {
      "needs_background": "light",
      "tags": []
     },
     "output_type": "display_data"
    }
   ],
   "source": [
    "plt.figure(figsize=(12,7))\n",
    "plt.hist(stack['Title_length'], bins=[i for i in range(0,140,10)])\n",
    "plt.xlim(0,100)\n",
    "plt.xlabel('Title length')\n",
    "plt.title('Title length distribution')"
   ]
  },
  {
   "cell_type": "markdown",
   "metadata": {
    "id": "XqlWOBcLespT"
   },
   "source": [
    "**Tags count vs body length**"
   ]
  },
  {
   "cell_type": "code",
   "execution_count": 361,
   "metadata": {
    "colab": {
     "base_uri": "https://localhost:8080/",
     "height": 414
    },
    "executionInfo": {
     "elapsed": 1946,
     "status": "ok",
     "timestamp": 1610814884039,
     "user": {
      "displayName": "Amine Fatmi",
      "photoUrl": "",
      "userId": "03089012490628162303"
     },
     "user_tz": -60
    },
    "id": "Mo811UuK5PJg",
    "outputId": "e6a447f0-ba18-4cb1-d6bb-f5a7ecaad0bf"
   },
   "outputs": [
    {
     "data": {
      "text/plain": [
       "Text(0, 0.5, 'body length')"
      ]
     },
     "execution_count": 361,
     "metadata": {
      "tags": []
     },
     "output_type": "execute_result"
    },
    {
     "data": {
      "image/png": "[encoded data removed]",
      "text/plain": [
       "<Figure size 720x432 with 1 Axes>"
      ]
     },
     "metadata": {
      "needs_background": "light",
      "tags": []
     },
     "output_type": "display_data"
    }
   ],
   "source": [
    "plt.figure(figsize=(10,6))\n",
    "plt.scatter(x=stack['Tags_count'], y=stack['Body_length'], alpha=0.1)\n",
    "plt.xticks([1,2,3,4,5])\n",
    "plt.xlabel('number of tags')\n",
    "plt.ylabel('body length')"
   ]
  },
  {
   "cell_type": "markdown",
   "metadata": {
    "id": "ZhuYJLaHewTN"
   },
   "source": [
    "There is no clear relation between the number of tags and the length of the body."
   ]
  },
  {
   "cell_type": "markdown",
   "metadata": {
    "id": "POIuU-WvLWar"
   },
   "source": [
    "## Body + Title"
   ]
  },
  {
   "cell_type": "code",
   "execution_count": 365,
   "metadata": {
    "executionInfo": {
     "elapsed": 930,
     "status": "ok",
     "timestamp": 1610815469162,
     "user": {
      "displayName": "Amine Fatmi",
      "photoUrl": "",
      "userId": "03089012490628162303"
     },
     "user_tz": -60
    },
    "id": "25-lzqDjEE7_"
   },
   "outputs": [],
   "source": [
    "def get_wordnet_pos(word):\n",
    "    \"\"\"Map POS tag to first character lemmatize() accepts\"\"\"\n",
    "    tag = nltk.pos_tag([word])[0][1][0].upper()\n",
    "    tag_dict = {\"J\": wordnet.ADJ,\n",
    "                \"N\": wordnet.NOUN,\n",
    "                \"V\": wordnet.VERB,\n",
    "                \"R\": wordnet.ADV}\n",
    "\n",
    "    return tag_dict.get(tag, wordnet.NOUN)"
   ]
  },
  {
   "cell_type": "code",
   "execution_count": 366,
   "metadata": {
    "executionInfo": {
     "elapsed": 560,
     "status": "ok",
     "timestamp": 1610815469163,
     "user": {
      "displayName": "Amine Fatmi",
      "photoUrl": "",
      "userId": "03089012490628162303"
     },
     "user_tz": -60
    },
    "id": "4rlJiKnFEHcX"
   },
   "outputs": [],
   "source": [
    "R_patterns = [\n",
    "   (r'won\\'t', 'will not'),\n",
    "   (r'can\\'t', 'cannot'),\n",
    "   (r'[Ii]\\'m', 'i am'),\n",
    "   (r'(\\w+)\\'ll', '\\g<1> will'),\n",
    "   (r'(\\w+)n\\'t', '\\g<1> not'),\n",
    "   (r'(\\w+)\\'ve', '\\g<1> have'),\n",
    "   (r'(\\w+)\\'s', '\\g<1> is'),\n",
    "   (r'(\\w+)\\'re', '\\g<1> are'),\n",
    "]\n",
    "\n",
    "class REReplacer(object):\n",
    "   def __init__(self, pattern = R_patterns):\n",
    "      self.pattern = [(re.compile(regex), repl) for (regex, repl) in pattern]\n",
    "   def replace(self, text):\n",
    "      s = text\n",
    "      for (pattern, repl) in self.pattern:\n",
    "         s = re.sub(pattern, repl, s)\n",
    "      return s"
   ]
  },
  {
   "cell_type": "code",
   "execution_count": 363,
   "metadata": {
    "colab": {
     "base_uri": "https://localhost:8080/"
    },
    "executionInfo": {
     "elapsed": 567,
     "status": "ok",
     "timestamp": 1610815199380,
     "user": {
      "displayName": "Amine Fatmi",
      "photoUrl": "",
      "userId": "03089012490628162303"
     },
     "user_tz": -60
    },
    "id": "-_hzHVilENZ0",
    "outputId": "9a6916c9-6986-427b-cf3d-813d93fd3b36"
   },
   "outputs": [
    {
     "data": {
      "text/plain": [
       "0    <p>Can linq somehow be used to find the index ...\n",
       "1    <p>I want to create my Rails application with ...\n",
       "2    <p>What are the libraries that support XPath? ...\n",
       "3    <p>I'm writing a web page in ASP.NET. I have s...\n",
       "4    <p>So I'm using an app that stores images heav...\n",
       "Name: Body, dtype: object"
      ]
     },
     "execution_count": 363,
     "metadata": {
      "tags": []
     },
     "output_type": "execute_result"
    }
   ],
   "source": [
    "stack['Body'][:5]"
   ]
  },
  {
   "cell_type": "code",
   "execution_count": 477,
   "metadata": {
    "executionInfo": {
     "elapsed": 575,
     "status": "ok",
     "timestamp": 1610818702580,
     "user": {
      "displayName": "Amine Fatmi",
      "photoUrl": "",
      "userId": "03089012490628162303"
     },
     "user_tz": -60
    },
    "id": "XuSOOcf47zer"
   },
   "outputs": [],
   "source": [
    "def clean_body_title(text):\n",
    "  # parse html\n",
    "  soup = BeautifulSoup(text, features=\"html.parser\")\n",
    "\n",
    "  # kill all script and style elements\n",
    "  for script in soup([\"script\", \"style\"]):\n",
    "      script.extract()    # rip it out\n",
    "\n",
    "  # get text\n",
    "  text = soup.get_text()\n",
    "\n",
    "  # remove url\n",
    "  text = re.sub(r'^https?:\\/\\/.*[\\r\\n]*', '', text, flags=re.MULTILINE)\n",
    "\n",
    "  # convert to lowercase\n",
    "  text = text.lower()\n",
    "\n",
    "  # remove contractions\n",
    "  rep_word = REReplacer()\n",
    "  text = rep_word.replace(text)\n",
    "  \n",
    "  # split into words\n",
    "  tokens = mwtokenizer.tokenize(word_tokenize(text))\n",
    "\n",
    "  # remove punctuation from each word\n",
    "  table = str.maketrans('', '', string.punctuation)\n",
    "  stripped = []\n",
    "  for w in tokens:\n",
    "    if w in set(single_word_top_400_tags):\n",
    "      stripped.append(w)\n",
    "    else:\n",
    "      stripped.append(w.translate(table))\n",
    "\n",
    "\n",
    "  # remove remaining tokens that are not alphabetic\n",
    "  words = [word for word in stripped if (any(chr.isdigit() for chr in word)==False)]\n",
    "\n",
    "  # filter out stop words\n",
    "  stop_words = set(stopwords.words('english'))\n",
    "  words = [w for w in words if not w in stop_words]\n",
    "  words = [w for w in words if w != '']\n",
    "\n",
    "  # lemmatization except top 400 tags\n",
    "  wordnet_lemmatizer = WordNetLemmatizer()\n",
    "  words_lemma = []\n",
    "  for w in words:\n",
    "    if w in set(single_word_top_400_tags):\n",
    "      words_lemma.append(w)\n",
    "    else:\n",
    "      words_lemma.append(wordnet_lemmatizer.lemmatize(w, get_wordnet_pos(w)))\n",
    "\n",
    "  return words_lemma"
   ]
  },
  {
   "cell_type": "code",
   "execution_count": 473,
   "metadata": {
    "colab": {
     "base_uri": "https://localhost:8080/"
    },
    "executionInfo": {
     "elapsed": 501,
     "status": "ok",
     "timestamp": 1610818437686,
     "user": {
      "displayName": "Amine Fatmi",
      "photoUrl": "",
      "userId": "03089012490628162303"
     },
     "user_tz": -60
    },
    "id": "WgEwaGTFFYXS",
    "outputId": "8002393d-78d5-4e13-d8f1-d1377b90b0d8"
   },
   "outputs": [
    {
     "data": {
      "text/plain": [
       "['c#', 'c++', 'asp.net', '.net', 'ruby', 'cat', 'rails', 'android', 'studio']"
      ]
     },
     "execution_count": 473,
     "metadata": {
      "tags": []
     },
     "output_type": "execute_result"
    }
   ],
   "source": [
    "clean_body_title('c# c++ asp.net .net on1 ruby  cats on rails android studio.')"
   ]
  },
  {
   "cell_type": "code",
   "execution_count": 476,
   "metadata": {
    "colab": {
     "base_uri": "https://localhost:8080/"
    },
    "executionInfo": {
     "elapsed": 496,
     "status": "ok",
     "timestamp": 1610818652720,
     "user": {
      "displayName": "Amine Fatmi",
      "photoUrl": "",
      "userId": "03089012490628162303"
     },
     "user_tz": -60
    },
    "id": "6QTOiAfYQ8ME",
    "outputId": "cdb3cef4-5886-4d2f-9b06-e685b13f7a92"
   },
   "outputs": [
    {
     "data": {
      "text/plain": [
       "['use', 'python', 'nltk', 'library', 'tokenize', 'sentencesif', 'code']"
      ]
     },
     "execution_count": 476,
     "metadata": {
      "tags": []
     },
     "output_type": "execute_result"
    }
   ],
   "source": [
    "clean_body_title('I am using Python\\'s NLTK library to tokenize my sentences.If my code')"
   ]
  },
  {
   "cell_type": "markdown",
   "metadata": {
    "id": "97UmgQClgsMk"
   },
   "source": [
    "**Clean body and title using the text processing techniques stated above.**"
   ]
  },
  {
   "cell_type": "code",
   "execution_count": 478,
   "metadata": {
    "executionInfo": {
     "elapsed": 1771554,
     "status": "ok",
     "timestamp": 1610820476846,
     "user": {
      "displayName": "Amine Fatmi",
      "photoUrl": "",
      "userId": "03089012490628162303"
     },
     "user_tz": -60
    },
    "id": "EsAeIap0HjTa"
   },
   "outputs": [],
   "source": [
    "stack['Body_cleaned'] = stack['Body'].apply(clean_body_title)"
   ]
  },
  {
   "cell_type": "markdown",
   "metadata": {
    "id": "-3xQmXXvYur9"
   },
   "source": [
    "1771 s"
   ]
  },
  {
   "cell_type": "code",
   "execution_count": 479,
   "metadata": {
    "executionInfo": {
     "elapsed": 203878,
     "status": "ok",
     "timestamp": 1610820767535,
     "user": {
      "displayName": "Amine Fatmi",
      "photoUrl": "",
      "userId": "03089012490628162303"
     },
     "user_tz": -60
    },
    "id": "dKzeBMjbcPcV"
   },
   "outputs": [],
   "source": [
    "stack['Title_cleaned'] = stack['Title'].apply(clean_body_title)"
   ]
  },
  {
   "cell_type": "code",
   "execution_count": 480,
   "metadata": {
    "colab": {
     "base_uri": "https://localhost:8080/",
     "height": 619
    },
    "executionInfo": {
     "elapsed": 749,
     "status": "ok",
     "timestamp": 1610820841355,
     "user": {
      "displayName": "Amine Fatmi",
      "photoUrl": "",
      "userId": "03089012490628162303"
     },
     "user_tz": -60
    },
    "id": "1M80hKFdPC68",
    "outputId": "e95e3b72-9d33-40e1-e50c-b0f82b915b70"
   },
   "outputs": [
    {
     "data": {
      "text/html": [
       "<div>\n",
       "<style scoped>\n",
       "    .dataframe tbody tr th:only-of-type {\n",
       "        vertical-align: middle;\n",
       "    }\n",
       "\n",
       "    .dataframe tbody tr th {\n",
       "        vertical-align: top;\n",
       "    }\n",
       "\n",
       "    .dataframe thead th {\n",
       "        text-align: right;\n",
       "    }\n",
       "</style>\n",
       "<table border=\"1\" class=\"dataframe\">\n",
       "  <thead>\n",
       "    <tr style=\"text-align: right;\">\n",
       "      <th></th>\n",
       "      <th>id</th>\n",
       "      <th>AcceptedAnswerId</th>\n",
       "      <th>Score</th>\n",
       "      <th>ViewCount</th>\n",
       "      <th>Body</th>\n",
       "      <th>Title</th>\n",
       "      <th>Tags</th>\n",
       "      <th>AnswerCount</th>\n",
       "      <th>FavoriteCount</th>\n",
       "      <th>Tags_c</th>\n",
       "      <th>Tags_count</th>\n",
       "      <th>Body_length</th>\n",
       "      <th>Title_length</th>\n",
       "      <th>Body_cleaned</th>\n",
       "      <th>Title_cleaned</th>\n",
       "    </tr>\n",
       "  </thead>\n",
       "  <tbody>\n",
       "    <tr>\n",
       "      <th>0</th>\n",
       "      <td>1764970</td>\n",
       "      <td>1770683.0</td>\n",
       "      <td>113</td>\n",
       "      <td>143104</td>\n",
       "      <td>&lt;p&gt;Can linq somehow be used to find the index ...</td>\n",
       "      <td>Find index of a value in an array</td>\n",
       "      <td>&lt;c#&gt;&lt;arrays&gt;&lt;linq&gt;</td>\n",
       "      <td>8</td>\n",
       "      <td>17.0</td>\n",
       "      <td>[c#, arrays, linq]</td>\n",
       "      <td>3</td>\n",
       "      <td>208</td>\n",
       "      <td>26</td>\n",
       "      <td>[linq, somehow, use, find, index, value, array...</td>\n",
       "      <td>[find, index, value, array]</td>\n",
       "    </tr>\n",
       "    <tr>\n",
       "      <th>1</th>\n",
       "      <td>3585</td>\n",
       "      <td>3601.0</td>\n",
       "      <td>132</td>\n",
       "      <td>147579</td>\n",
       "      <td>&lt;p&gt;I want to create my Rails application with ...</td>\n",
       "      <td>Create a new Ruby on Rails application using M...</td>\n",
       "      <td>&lt;mysql&gt;&lt;ruby-on-rails&gt;&lt;ruby&gt;</td>\n",
       "      <td>19</td>\n",
       "      <td>44.0</td>\n",
       "      <td>[mysql, ruby rails, ruby]</td>\n",
       "      <td>3</td>\n",
       "      <td>133</td>\n",
       "      <td>57</td>\n",
       "      <td>[want, create, rails, application, mysql, like...</td>\n",
       "      <td>[create, new, ruby, rails, application, use, m...</td>\n",
       "    </tr>\n",
       "    <tr>\n",
       "      <th>2</th>\n",
       "      <td>8692</td>\n",
       "      <td>NaN</td>\n",
       "      <td>229</td>\n",
       "      <td>296787</td>\n",
       "      <td>&lt;p&gt;What are the libraries that support XPath? ...</td>\n",
       "      <td>How to use XPath in Python?</td>\n",
       "      <td>&lt;python&gt;&lt;xml&gt;&lt;dom&gt;&lt;xpath&gt;&lt;python-2.x&gt;</td>\n",
       "      <td>12</td>\n",
       "      <td>74.0</td>\n",
       "      <td>[python, xml, dom, xpath, python]</td>\n",
       "      <td>5</td>\n",
       "      <td>108</td>\n",
       "      <td>22</td>\n",
       "      <td>[library, support, xpath, full, implementation...</td>\n",
       "      <td>[use, xpath, python]</td>\n",
       "    </tr>\n",
       "    <tr>\n",
       "      <th>3</th>\n",
       "      <td>3713</td>\n",
       "      <td>3777.0</td>\n",
       "      <td>140</td>\n",
       "      <td>284586</td>\n",
       "      <td>&lt;p&gt;I'm writing a web page in ASP.NET. I have s...</td>\n",
       "      <td>Call ASP.NET function from JavaScript?</td>\n",
       "      <td>&lt;javascript&gt;&lt;c#&gt;&lt;asp.net&gt;&lt;onclick&gt;</td>\n",
       "      <td>20</td>\n",
       "      <td>41.0</td>\n",
       "      <td>[javascript, c#, asp.net, onclick]</td>\n",
       "      <td>4</td>\n",
       "      <td>168</td>\n",
       "      <td>34</td>\n",
       "      <td>[write, web, page, asp.net, javascript, code, ...</td>\n",
       "      <td>[call, asp.net, function, javascript]</td>\n",
       "    </tr>\n",
       "    <tr>\n",
       "      <th>4</th>\n",
       "      <td>3748</td>\n",
       "      <td>NaN</td>\n",
       "      <td>415</td>\n",
       "      <td>655648</td>\n",
       "      <td>&lt;p&gt;So I'm using an app that stores images heav...</td>\n",
       "      <td>Storing Images in DB - Yea or Nay?</td>\n",
       "      <td>&lt;database&gt;&lt;image&gt;&lt;theory&gt;&lt;storage&gt;&lt;blob&gt;</td>\n",
       "      <td>56</td>\n",
       "      <td>880.0</td>\n",
       "      <td>[database, image, theory, storage, blob]</td>\n",
       "      <td>5</td>\n",
       "      <td>189</td>\n",
       "      <td>27</td>\n",
       "      <td>[use, app, store, image, heavily, db, outlook,...</td>\n",
       "      <td>[store, image, db, yea, nay]</td>\n",
       "    </tr>\n",
       "  </tbody>\n",
       "</table>\n",
       "</div>"
      ],
      "text/plain": [
       "        id  ...                                      Title_cleaned\n",
       "0  1764970  ...                        [find, index, value, array]\n",
       "1     3585  ...  [create, new, ruby, rails, application, use, m...\n",
       "2     8692  ...                               [use, xpath, python]\n",
       "3     3713  ...              [call, asp.net, function, javascript]\n",
       "4     3748  ...                       [store, image, db, yea, nay]\n",
       "\n",
       "[5 rows x 15 columns]"
      ]
     },
     "execution_count": 480,
     "metadata": {
      "tags": []
     },
     "output_type": "execute_result"
    }
   ],
   "source": [
    "stack.head()"
   ]
  },
  {
   "cell_type": "code",
   "execution_count": 482,
   "metadata": {
    "executionInfo": {
     "elapsed": 94681,
     "status": "ok",
     "timestamp": 1610821055665,
     "user": {
      "displayName": "Amine Fatmi",
      "photoUrl": "",
      "userId": "03089012490628162303"
     },
     "user_tz": -60
    },
    "id": "U-bENdS0gF74"
   },
   "outputs": [],
   "source": [
    "body = {}\n",
    "for i in range(len(stack)):\n",
    "  for j in range(len(stack['Body_cleaned'][i])):\n",
    "    if stack['Body_cleaned'][i][j] in body.keys():\n",
    "      body[stack['Body_cleaned'][i][j]] += 1\n",
    "    else:\n",
    "      body[stack['Body_cleaned'][i][j]] = 1"
   ]
  },
  {
   "cell_type": "code",
   "execution_count": 483,
   "metadata": {
    "executionInfo": {
     "elapsed": 10110,
     "status": "ok",
     "timestamp": 1610821071306,
     "user": {
      "displayName": "Amine Fatmi",
      "photoUrl": "",
      "userId": "03089012490628162303"
     },
     "user_tz": -60
    },
    "id": "iNkDlOEphLjs"
   },
   "outputs": [],
   "source": [
    "title = {}\n",
    "for i in range(len(stack)):\n",
    "  for j in range(len(stack['Title_cleaned'][i])):\n",
    "    if stack['Title_cleaned'][i][j] in title.keys():\n",
    "      title[stack['Title_cleaned'][i][j]] += 1\n",
    "    else:\n",
    "      title[stack['Title_cleaned'][i][j]] = 1"
   ]
  },
  {
   "cell_type": "markdown",
   "metadata": {
    "id": "KReZ0rvDg9uD"
   },
   "source": [
    "**Count number of unique words in title, body and tags.**"
   ]
  },
  {
   "cell_type": "code",
   "execution_count": 484,
   "metadata": {
    "colab": {
     "base_uri": "https://localhost:8080/"
    },
    "executionInfo": {
     "elapsed": 637,
     "status": "ok",
     "timestamp": 1610821074505,
     "user": {
      "displayName": "Amine Fatmi",
      "photoUrl": "",
      "userId": "03089012490628162303"
     },
     "user_tz": -60
    },
    "id": "6SkQ7gW9SJJI",
    "outputId": "958c5bc0-9af1-4881-85fa-a88c375dcabf"
   },
   "outputs": [
    {
     "data": {
      "text/plain": [
       "(24781, 264895, 12932)"
      ]
     },
     "execution_count": 484,
     "metadata": {
      "tags": []
     },
     "output_type": "execute_result"
    }
   ],
   "source": [
    "len(title), len(body), len(tags)"
   ]
  },
  {
   "cell_type": "code",
   "execution_count": 485,
   "metadata": {
    "executionInfo": {
     "elapsed": 1160,
     "status": "ok",
     "timestamp": 1610821081424,
     "user": {
      "displayName": "Amine Fatmi",
      "photoUrl": "",
      "userId": "03089012490628162303"
     },
     "user_tz": -60
    },
    "id": "FlINJ0bpigUt"
   },
   "outputs": [],
   "source": [
    "title_sorted = {k: v for k, v in sorted(title.items(), key=lambda item: item[1])}"
   ]
  },
  {
   "cell_type": "code",
   "execution_count": 486,
   "metadata": {
    "colab": {
     "base_uri": "https://localhost:8080/",
     "height": 556
    },
    "executionInfo": {
     "elapsed": 1647,
     "status": "ok",
     "timestamp": 1610821086709,
     "user": {
      "displayName": "Amine Fatmi",
      "photoUrl": "",
      "userId": "03089012490628162303"
     },
     "user_tz": -60
    },
    "id": "DL28D3EnHFRK",
    "outputId": "999df380-5f43-46ae-8714-b3ca67a60a7b"
   },
   "outputs": [
    {
     "data": {
      "text/plain": [
       "Text(0.5, 1.0, 'Top 20 words in Title')"
      ]
     },
     "execution_count": 486,
     "metadata": {
      "tags": []
     },
     "output_type": "execute_result"
    },
    {
     "data": {
      "image/png": "[encoded data removed]",
      "text/plain": [
       "<Figure size 1080x576 with 1 Axes>"
      ]
     },
     "metadata": {
      "needs_background": "light",
      "tags": []
     },
     "output_type": "display_data"
    }
   ],
   "source": [
    "plt.figure(figsize=(15, 8)) \n",
    "plt.bar(dict(list(title_sorted.items())[-20:]).keys(), dict(list(title_sorted.items())[-20:]).values())\n",
    "plt.xticks(rotation=45)\n",
    "plt.title('Top 20 words in Title')"
   ]
  },
  {
   "cell_type": "code",
   "execution_count": 487,
   "metadata": {
    "colab": {
     "base_uri": "https://localhost:8080/"
    },
    "executionInfo": {
     "elapsed": 1758,
     "status": "ok",
     "timestamp": 1610821115878,
     "user": {
      "displayName": "Amine Fatmi",
      "photoUrl": "",
      "userId": "03089012490628162303"
     },
     "user_tz": -60
    },
    "id": "rkah3tzpkQvO",
    "outputId": "c8f523ca-a1ec-4cc5-90a5-7b674a3770f3"
   },
   "outputs": [
    {
     "data": {
      "text/plain": [
       "[('one', 33410),\n",
       " ('android', 34398),\n",
       " ('value', 35349),\n",
       " ('name', 35438),\n",
       " ('return', 37075),\n",
       " ('function', 39315),\n",
       " ('would', 39414),\n",
       " ('new', 41540),\n",
       " ('way', 41968),\n",
       " ('string', 44108),\n",
       " ('work', 44108),\n",
       " ('error', 44278),\n",
       " ('want', 45003),\n",
       " ('code', 45728),\n",
       " ('class', 46472),\n",
       " ('try', 47207),\n",
       " ('like', 57523),\n",
       " ('file', 59673),\n",
       " ('get', 61675),\n",
       " ('use', 114916)]"
      ]
     },
     "execution_count": 487,
     "metadata": {
      "tags": []
     },
     "output_type": "execute_result"
    }
   ],
   "source": [
    "body_sorted = {k: v for k, v in sorted(body.items(), key=lambda item: item[1])}\n",
    "list(body_sorted.items())[-20:]"
   ]
  },
  {
   "cell_type": "code",
   "execution_count": 488,
   "metadata": {
    "colab": {
     "base_uri": "https://localhost:8080/",
     "height": 548
    },
    "executionInfo": {
     "elapsed": 1746,
     "status": "ok",
     "timestamp": 1610821148526,
     "user": {
      "displayName": "Amine Fatmi",
      "photoUrl": "",
      "userId": "03089012490628162303"
     },
     "user_tz": -60
    },
    "id": "XTNToQwZIMjN",
    "outputId": "6c554da8-0a47-4d1c-ec53-0d5cc527f647"
   },
   "outputs": [
    {
     "data": {
      "text/plain": [
       "Text(0.5, 1.0, 'Top 20 words in Body')"
      ]
     },
     "execution_count": 488,
     "metadata": {
      "tags": []
     },
     "output_type": "execute_result"
    },
    {
     "data": {
      "image/png": "[encoded data removed]",
      "text/plain": [
       "<Figure size 1080x576 with 1 Axes>"
      ]
     },
     "metadata": {
      "needs_background": "light",
      "tags": []
     },
     "output_type": "display_data"
    }
   ],
   "source": [
    "plt.figure(figsize=(15, 8)) \n",
    "plt.bar(dict(list(body_sorted.items())[-20:]).keys(), dict(list(body_sorted.items())[-20:]).values())\n",
    "plt.xticks(rotation=45)\n",
    "plt.title('Top 20 words in Body')"
   ]
  },
  {
   "cell_type": "code",
   "execution_count": 490,
   "metadata": {
    "colab": {
     "base_uri": "https://localhost:8080/",
     "height": 568
    },
    "executionInfo": {
     "elapsed": 630,
     "status": "ok",
     "timestamp": 1610821272110,
     "user": {
      "displayName": "Amine Fatmi",
      "photoUrl": "",
      "userId": "03089012490628162303"
     },
     "user_tz": -60
    },
    "id": "-LPW86dLAz23",
    "outputId": "e659d0df-69fe-48d5-cc34-f19f8e5aad40"
   },
   "outputs": [
    {
     "data": {
      "text/html": [
       "<div>\n",
       "<style scoped>\n",
       "    .dataframe tbody tr th:only-of-type {\n",
       "        vertical-align: middle;\n",
       "    }\n",
       "\n",
       "    .dataframe tbody tr th {\n",
       "        vertical-align: top;\n",
       "    }\n",
       "\n",
       "    .dataframe thead th {\n",
       "        text-align: right;\n",
       "    }\n",
       "</style>\n",
       "<table border=\"1\" class=\"dataframe\">\n",
       "  <thead>\n",
       "    <tr style=\"text-align: right;\">\n",
       "      <th></th>\n",
       "      <th>Body</th>\n",
       "      <th>Title</th>\n",
       "      <th>Tags</th>\n",
       "      <th>Tags_c</th>\n",
       "      <th>Body_cleaned</th>\n",
       "      <th>Title_cleaned</th>\n",
       "    </tr>\n",
       "  </thead>\n",
       "  <tbody>\n",
       "    <tr>\n",
       "      <th>0</th>\n",
       "      <td>&lt;p&gt;Can linq somehow be used to find the index ...</td>\n",
       "      <td>Find index of a value in an array</td>\n",
       "      <td>&lt;c#&gt;&lt;arrays&gt;&lt;linq&gt;</td>\n",
       "      <td>[c#, arrays, linq]</td>\n",
       "      <td>[linq, somehow, use, find, index, value, array...</td>\n",
       "      <td>[find, index, value, array]</td>\n",
       "    </tr>\n",
       "    <tr>\n",
       "      <th>1</th>\n",
       "      <td>&lt;p&gt;I want to create my Rails application with ...</td>\n",
       "      <td>Create a new Ruby on Rails application using M...</td>\n",
       "      <td>&lt;mysql&gt;&lt;ruby-on-rails&gt;&lt;ruby&gt;</td>\n",
       "      <td>[mysql, ruby rails, ruby]</td>\n",
       "      <td>[want, create, rails, application, mysql, like...</td>\n",
       "      <td>[create, new, ruby, rails, application, use, m...</td>\n",
       "    </tr>\n",
       "    <tr>\n",
       "      <th>2</th>\n",
       "      <td>&lt;p&gt;What are the libraries that support XPath? ...</td>\n",
       "      <td>How to use XPath in Python?</td>\n",
       "      <td>&lt;python&gt;&lt;xml&gt;&lt;dom&gt;&lt;xpath&gt;&lt;python-2.x&gt;</td>\n",
       "      <td>[python, xml, dom, xpath, python]</td>\n",
       "      <td>[library, support, xpath, full, implementation...</td>\n",
       "      <td>[use, xpath, python]</td>\n",
       "    </tr>\n",
       "    <tr>\n",
       "      <th>3</th>\n",
       "      <td>&lt;p&gt;I'm writing a web page in ASP.NET. I have s...</td>\n",
       "      <td>Call ASP.NET function from JavaScript?</td>\n",
       "      <td>&lt;javascript&gt;&lt;c#&gt;&lt;asp.net&gt;&lt;onclick&gt;</td>\n",
       "      <td>[javascript, c#, asp.net, onclick]</td>\n",
       "      <td>[write, web, page, asp.net, javascript, code, ...</td>\n",
       "      <td>[call, asp.net, function, javascript]</td>\n",
       "    </tr>\n",
       "    <tr>\n",
       "      <th>4</th>\n",
       "      <td>&lt;p&gt;So I'm using an app that stores images heav...</td>\n",
       "      <td>Storing Images in DB - Yea or Nay?</td>\n",
       "      <td>&lt;database&gt;&lt;image&gt;&lt;theory&gt;&lt;storage&gt;&lt;blob&gt;</td>\n",
       "      <td>[database, image, theory, storage, blob]</td>\n",
       "      <td>[use, app, store, image, heavily, db, outlook,...</td>\n",
       "      <td>[store, image, db, yea, nay]</td>\n",
       "    </tr>\n",
       "    <tr>\n",
       "      <th>...</th>\n",
       "      <td>...</td>\n",
       "      <td>...</td>\n",
       "      <td>...</td>\n",
       "      <td>...</td>\n",
       "      <td>...</td>\n",
       "      <td>...</td>\n",
       "    </tr>\n",
       "    <tr>\n",
       "      <th>142887</th>\n",
       "      <td>&lt;p&gt;So &lt;a href=\"http://api.jquery.com/category/...</td>\n",
       "      <td>.prop() vs .attr()</td>\n",
       "      <td>&lt;javascript&gt;&lt;jquery&gt;&lt;dom&gt;&lt;attr&gt;&lt;prop&gt;</td>\n",
       "      <td>[javascript, jquery, dom, attr, prop]</td>\n",
       "      <td>[jquery, new, function, prop, selector, click,...</td>\n",
       "      <td>[prop, v, attr]</td>\n",
       "    </tr>\n",
       "    <tr>\n",
       "      <th>142888</th>\n",
       "      <td>&lt;p&gt;I used to use CShell (&lt;a href=\"/questions/t...</td>\n",
       "      <td>Make a Bash alias that takes a parameter?</td>\n",
       "      <td>&lt;bash&gt;&lt;alias&gt;</td>\n",
       "      <td>[bash, alias]</td>\n",
       "      <td>[use, use, cshell, csh, let, make, alias, take...</td>\n",
       "      <td>[make, bash, alias, take, parameter]</td>\n",
       "    </tr>\n",
       "    <tr>\n",
       "      <th>142889</th>\n",
       "      <td>&lt;p&gt;I currently have three modified files in my...</td>\n",
       "      <td>Hard reset of a single file</td>\n",
       "      <td>&lt;git&gt;</td>\n",
       "      <td>[git]</td>\n",
       "      <td>[currently, three, modify, file, work, directo...</td>\n",
       "      <td>[hard, reset, single, file]</td>\n",
       "    </tr>\n",
       "    <tr>\n",
       "      <th>142890</th>\n",
       "      <td>&lt;p&gt;So I have a Nginx running inside a docker c...</td>\n",
       "      <td>From inside of a Docker container, how do I co...</td>\n",
       "      <td>&lt;nginx&gt;&lt;docker&gt;&lt;reverse-proxy&gt;&lt;docker-networking&gt;</td>\n",
       "      <td>[nginx, docker, reverse proxy, docker networking]</td>\n",
       "      <td>[nginx, run, inside, docker, container, mysql,...</td>\n",
       "      <td>[inside, docker, container, connect, localhost...</td>\n",
       "    </tr>\n",
       "    <tr>\n",
       "      <th>142891</th>\n",
       "      <td>&lt;p&gt;I want to do some programming with the late...</td>\n",
       "      <td>How to install Java 8 on Mac</td>\n",
       "      <td>&lt;java&gt;&lt;macos&gt;&lt;java-8&gt;&lt;installation&gt;</td>\n",
       "      <td>[java, macos, java, installation]</td>\n",
       "      <td>[want, programming, late, javafx, require, jav...</td>\n",
       "      <td>[install, java, mac]</td>\n",
       "    </tr>\n",
       "  </tbody>\n",
       "</table>\n",
       "<p>142892 rows × 6 columns</p>\n",
       "</div>"
      ],
      "text/plain": [
       "                                                     Body  ...                                      Title_cleaned\n",
       "0       <p>Can linq somehow be used to find the index ...  ...                        [find, index, value, array]\n",
       "1       <p>I want to create my Rails application with ...  ...  [create, new, ruby, rails, application, use, m...\n",
       "2       <p>What are the libraries that support XPath? ...  ...                               [use, xpath, python]\n",
       "3       <p>I'm writing a web page in ASP.NET. I have s...  ...              [call, asp.net, function, javascript]\n",
       "4       <p>So I'm using an app that stores images heav...  ...                       [store, image, db, yea, nay]\n",
       "...                                                   ...  ...                                                ...\n",
       "142887  <p>So <a href=\"http://api.jquery.com/category/...  ...                                    [prop, v, attr]\n",
       "142888  <p>I used to use CShell (<a href=\"/questions/t...  ...               [make, bash, alias, take, parameter]\n",
       "142889  <p>I currently have three modified files in my...  ...                        [hard, reset, single, file]\n",
       "142890  <p>So I have a Nginx running inside a docker c...  ...  [inside, docker, container, connect, localhost...\n",
       "142891  <p>I want to do some programming with the late...  ...                               [install, java, mac]\n",
       "\n",
       "[142892 rows x 6 columns]"
      ]
     },
     "execution_count": 490,
     "metadata": {
      "tags": []
     },
     "output_type": "execute_result"
    }
   ],
   "source": [
    "stack[['Body', 'Title', 'Tags', 'Tags_c', 'Body_cleaned', 'Title_cleaned']]"
   ]
  },
  {
   "cell_type": "markdown",
   "metadata": {
    "id": "Fcv7KZZlFvyM"
   },
   "source": [
    "Concatenate body and title"
   ]
  },
  {
   "cell_type": "code",
   "execution_count": 491,
   "metadata": {
    "executionInfo": {
     "elapsed": 2351,
     "status": "ok",
     "timestamp": 1610821347075,
     "user": {
      "displayName": "Amine Fatmi",
      "photoUrl": "",
      "userId": "03089012490628162303"
     },
     "user_tz": -60
    },
    "id": "QNVxNB2SA0mb"
   },
   "outputs": [],
   "source": [
    "stack['Body_title_cleaned'] = stack['Body_cleaned'] + stack['Title_cleaned']"
   ]
  },
  {
   "cell_type": "markdown",
   "metadata": {
    "id": "VYfLYyZqGADo"
   },
   "source": [
    "Count in how many documents each word appears"
   ]
  },
  {
   "cell_type": "code",
   "execution_count": 492,
   "metadata": {
    "executionInfo": {
     "elapsed": 4099,
     "status": "ok",
     "timestamp": 1610821353765,
     "user": {
      "displayName": "Amine Fatmi",
      "photoUrl": "",
      "userId": "03089012490628162303"
     },
     "user_tz": -60
    },
    "id": "PGtn17kYBJGj"
   },
   "outputs": [],
   "source": [
    "count={}\n",
    "for i in range(len(stack)):\n",
    "  for w in set(stack['Body_title_cleaned'][i]):\n",
    "    if w in count:\n",
    "      count[w]+=1\n",
    "    else:\n",
    "      count[w]=1"
   ]
  },
  {
   "cell_type": "code",
   "execution_count": 1,
   "metadata": {
    "colab": {
     "base_uri": "https://localhost:8080/",
     "height": 186
    },
    "executionInfo": {
     "elapsed": 638,
     "status": "error",
     "timestamp": 1610835244286,
     "user": {
      "displayName": "Amine Fatmi",
      "photoUrl": "",
      "userId": "03089012490628162303"
     },
     "user_tz": -60
    },
    "id": "nbeBtao0ClN0",
    "outputId": "204caa35-4be5-4d01-dce8-6b4ba7ca427d"
   },
   "outputs": [
    {
     "ename": "NameError",
     "evalue": "ignored",
     "output_type": "error",
     "traceback": [
      "\u001b[0;31m---------------------------------------------------------------------------\u001b[0m",
      "\u001b[0;31mNameError\u001b[0m                                 Traceback (most recent call last)",
      "\u001b[0;32m<ipython-input-1-1918dddc253f>\u001b[0m in \u001b[0;36m<module>\u001b[0;34m()\u001b[0m\n\u001b[0;32m----> 1\u001b[0;31m \u001b[0mtitle_body_count\u001b[0m \u001b[0;34m=\u001b[0m \u001b[0;34m{\u001b[0m\u001b[0mk\u001b[0m\u001b[0;34m:\u001b[0m \u001b[0mv\u001b[0m \u001b[0;32mfor\u001b[0m \u001b[0mk\u001b[0m\u001b[0;34m,\u001b[0m \u001b[0mv\u001b[0m \u001b[0;32min\u001b[0m \u001b[0msorted\u001b[0m\u001b[0;34m(\u001b[0m\u001b[0mcount\u001b[0m\u001b[0;34m.\u001b[0m\u001b[0mitems\u001b[0m\u001b[0;34m(\u001b[0m\u001b[0;34m)\u001b[0m\u001b[0;34m,\u001b[0m \u001b[0mkey\u001b[0m\u001b[0;34m=\u001b[0m\u001b[0;32mlambda\u001b[0m \u001b[0mitem\u001b[0m\u001b[0;34m:\u001b[0m \u001b[0mitem\u001b[0m\u001b[0;34m[\u001b[0m\u001b[0;36m1\u001b[0m\u001b[0;34m]\u001b[0m\u001b[0;34m)\u001b[0m\u001b[0;34m}\u001b[0m\u001b[0;34m\u001b[0m\u001b[0;34m\u001b[0m\u001b[0m\n\u001b[0m\u001b[1;32m      2\u001b[0m \u001b[0mlist\u001b[0m\u001b[0;34m(\u001b[0m\u001b[0mtitle_body_count\u001b[0m\u001b[0;34m.\u001b[0m\u001b[0mitems\u001b[0m\u001b[0;34m(\u001b[0m\u001b[0;34m)\u001b[0m\u001b[0;34m)\u001b[0m\u001b[0;34m[\u001b[0m\u001b[0;34m-\u001b[0m\u001b[0;36m30\u001b[0m\u001b[0;34m:\u001b[0m\u001b[0;34m]\u001b[0m\u001b[0;34m\u001b[0m\u001b[0;34m\u001b[0m\u001b[0m\n",
      "\u001b[0;31mNameError\u001b[0m: name 'count' is not defined"
     ]
    }
   ],
   "source": [
    "title_body_count = {k: v for k, v in sorted(count.items(), key=lambda item: item[1])}\n",
    "list(title_body_count.items())[-30:]"
   ]
  },
  {
   "cell_type": "code",
   "execution_count": 497,
   "metadata": {
    "colab": {
     "base_uri": "https://localhost:8080/",
     "height": 278
    },
    "executionInfo": {
     "elapsed": 553,
     "status": "ok",
     "timestamp": 1610821996680,
     "user": {
      "displayName": "Amine Fatmi",
      "photoUrl": "",
      "userId": "03089012490628162303"
     },
     "user_tz": -60
    },
    "id": "GILll1zDb6t1",
    "outputId": "df903317-5524-416f-ed8a-a5c917bc5b63"
   },
   "outputs": [
    {
     "data": {
      "text/html": [
       "<div>\n",
       "<style scoped>\n",
       "    .dataframe tbody tr th:only-of-type {\n",
       "        vertical-align: middle;\n",
       "    }\n",
       "\n",
       "    .dataframe tbody tr th {\n",
       "        vertical-align: top;\n",
       "    }\n",
       "\n",
       "    .dataframe thead th {\n",
       "        text-align: right;\n",
       "    }\n",
       "</style>\n",
       "<table border=\"1\" class=\"dataframe\">\n",
       "  <thead>\n",
       "    <tr style=\"text-align: right;\">\n",
       "      <th></th>\n",
       "      <th>Body</th>\n",
       "      <th>Title</th>\n",
       "      <th>Tags</th>\n",
       "      <th>Tags_c</th>\n",
       "      <th>Body_cleaned</th>\n",
       "      <th>Title_cleaned</th>\n",
       "      <th>Body_title_cleaned</th>\n",
       "    </tr>\n",
       "  </thead>\n",
       "  <tbody>\n",
       "    <tr>\n",
       "      <th>0</th>\n",
       "      <td>&lt;p&gt;Can linq somehow be used to find the index ...</td>\n",
       "      <td>Find index of a value in an array</td>\n",
       "      <td>&lt;c#&gt;&lt;arrays&gt;&lt;linq&gt;</td>\n",
       "      <td>[c#, arrays, linq]</td>\n",
       "      <td>[linq, somehow, use, find, index, value, array...</td>\n",
       "      <td>[find, index, value, array]</td>\n",
       "      <td>[linq, somehow, use, find, index, value, array...</td>\n",
       "    </tr>\n",
       "    <tr>\n",
       "      <th>1</th>\n",
       "      <td>&lt;p&gt;I want to create my Rails application with ...</td>\n",
       "      <td>Create a new Ruby on Rails application using M...</td>\n",
       "      <td>&lt;mysql&gt;&lt;ruby-on-rails&gt;&lt;ruby&gt;</td>\n",
       "      <td>[mysql, ruby rails, ruby]</td>\n",
       "      <td>[want, create, rails, application, mysql, like...</td>\n",
       "      <td>[create, new, ruby, rails, application, use, m...</td>\n",
       "      <td>[want, create, rails, application, mysql, like...</td>\n",
       "    </tr>\n",
       "    <tr>\n",
       "      <th>2</th>\n",
       "      <td>&lt;p&gt;What are the libraries that support XPath? ...</td>\n",
       "      <td>How to use XPath in Python?</td>\n",
       "      <td>&lt;python&gt;&lt;xml&gt;&lt;dom&gt;&lt;xpath&gt;&lt;python-2.x&gt;</td>\n",
       "      <td>[python, xml, dom, xpath, python]</td>\n",
       "      <td>[library, support, xpath, full, implementation...</td>\n",
       "      <td>[use, xpath, python]</td>\n",
       "      <td>[library, support, xpath, full, implementation...</td>\n",
       "    </tr>\n",
       "    <tr>\n",
       "      <th>3</th>\n",
       "      <td>&lt;p&gt;I'm writing a web page in ASP.NET. I have s...</td>\n",
       "      <td>Call ASP.NET function from JavaScript?</td>\n",
       "      <td>&lt;javascript&gt;&lt;c#&gt;&lt;asp.net&gt;&lt;onclick&gt;</td>\n",
       "      <td>[javascript, c#, asp.net, onclick]</td>\n",
       "      <td>[write, web, page, asp.net, javascript, code, ...</td>\n",
       "      <td>[call, asp.net, function, javascript]</td>\n",
       "      <td>[write, web, page, asp.net, javascript, code, ...</td>\n",
       "    </tr>\n",
       "    <tr>\n",
       "      <th>4</th>\n",
       "      <td>&lt;p&gt;So I'm using an app that stores images heav...</td>\n",
       "      <td>Storing Images in DB - Yea or Nay?</td>\n",
       "      <td>&lt;database&gt;&lt;image&gt;&lt;theory&gt;&lt;storage&gt;&lt;blob&gt;</td>\n",
       "      <td>[database, image, theory, storage, blob]</td>\n",
       "      <td>[use, app, store, image, heavily, db, outlook,...</td>\n",
       "      <td>[store, image, db, yea, nay]</td>\n",
       "      <td>[use, app, store, image, heavily, db, outlook,...</td>\n",
       "    </tr>\n",
       "  </tbody>\n",
       "</table>\n",
       "</div>"
      ],
      "text/plain": [
       "                                                Body  ...                                 Body_title_cleaned\n",
       "0  <p>Can linq somehow be used to find the index ...  ...  [linq, somehow, use, find, index, value, array...\n",
       "1  <p>I want to create my Rails application with ...  ...  [want, create, rails, application, mysql, like...\n",
       "2  <p>What are the libraries that support XPath? ...  ...  [library, support, xpath, full, implementation...\n",
       "3  <p>I'm writing a web page in ASP.NET. I have s...  ...  [write, web, page, asp.net, javascript, code, ...\n",
       "4  <p>So I'm using an app that stores images heav...  ...  [use, app, store, image, heavily, db, outlook,...\n",
       "\n",
       "[5 rows x 7 columns]"
      ]
     },
     "execution_count": 497,
     "metadata": {
      "tags": []
     },
     "output_type": "execute_result"
    }
   ],
   "source": [
    "stack_cleaned = stack[['Body', 'Title', 'Tags', 'Tags_c', 'Body_cleaned', 'Title_cleaned', 'Body_title_cleaned']]\n",
    "stack_cleaned.head()"
   ]
  },
  {
   "cell_type": "markdown",
   "metadata": {
    "id": "h7kh1tmXZsGx"
   },
   "source": [
    "# Export the cleaned data"
   ]
  },
  {
   "cell_type": "markdown",
   "metadata": {
    "id": "x9Y_pGzShbfa"
   },
   "source": [
    "Save the dataframe into a csv file."
   ]
  },
  {
   "cell_type": "code",
   "execution_count": 501,
   "metadata": {
    "colab": {
     "base_uri": "https://localhost:8080/"
    },
    "executionInfo": {
     "elapsed": 549,
     "status": "ok",
     "timestamp": 1610824043672,
     "user": {
      "displayName": "Amine Fatmi",
      "photoUrl": "",
      "userId": "03089012490628162303"
     },
     "user_tz": -60
    },
    "id": "qZTRV-PBmDLt",
    "outputId": "1bc48f72-53c9-415b-f649-c83825debbab"
   },
   "outputs": [
    {
     "data": {
      "text/plain": [
       "0                                        [c#, arrays, linq]\n",
       "1                                 [mysql, ruby rails, ruby]\n",
       "2                         [python, xml, dom, xpath, python]\n",
       "3                        [javascript, c#, asp.net, onclick]\n",
       "4                  [database, image, theory, storage, blob]\n",
       "                                ...                        \n",
       "142887                [javascript, jquery, dom, attr, prop]\n",
       "142888                                        [bash, alias]\n",
       "142889                                                [git]\n",
       "142890    [nginx, docker, reverse proxy, docker networking]\n",
       "142891                    [java, macos, java, installation]\n",
       "Name: Tags_c, Length: 142892, dtype: object"
      ]
     },
     "execution_count": 501,
     "metadata": {
      "tags": []
     },
     "output_type": "execute_result"
    }
   ],
   "source": [
    "stack['Tags_c']"
   ]
  },
  {
   "cell_type": "code",
   "execution_count": 498,
   "metadata": {
    "executionInfo": {
     "elapsed": 538,
     "status": "ok",
     "timestamp": 1610822511181,
     "user": {
      "displayName": "Amine Fatmi",
      "photoUrl": "",
      "userId": "03089012490628162303"
     },
     "user_tz": -60
    },
    "id": "XH73hMBGDG61"
   },
   "outputs": [],
   "source": [
    "pd.Series(top_400_tags).to_csv('/top_400_tags.csv')"
   ]
  },
  {
   "cell_type": "code",
   "execution_count": 500,
   "metadata": {
    "executionInfo": {
     "elapsed": 774,
     "status": "ok",
     "timestamp": 1610823751279,
     "user": {
      "displayName": "Amine Fatmi",
      "photoUrl": "",
      "userId": "03089012490628162303"
     },
     "user_tz": -60
    },
    "id": "VBVNagXzkwTb"
   },
   "outputs": [],
   "source": [
    "pd.Series(single_word_top_400_tags).to_csv('/single_word_top_400_tags.csv')"
   ]
  },
  {
   "cell_type": "code",
   "execution_count": 499,
   "metadata": {
    "executionInfo": {
     "elapsed": 12849,
     "status": "ok",
     "timestamp": 1610822525060,
     "user": {
      "displayName": "Amine Fatmi",
      "photoUrl": "",
      "userId": "03089012490628162303"
     },
     "user_tz": -60
    },
    "id": "5paXiEynHAki"
   },
   "outputs": [],
   "source": [
    "stack_cleaned.to_csv('/stack_cleaned.csv')"
   ]
  }
 ],
 "metadata": {
  "colab": {
   "authorship_tag": "ABX9TyMdHbzvjml3RAqqBsBBbKzB",
   "collapsed_sections": [],
   "name": "PStackOverflow_01_eda_process_v2_add_ngrams.ipynb",
   "provenance": [
    {
     "file_id": "1o01n63bEDR777gNJxcCdcxiBN-IcjPRx",
     "timestamp": 1610795414570
    },
    {
     "file_id": "1P1RPDzU2AM8nygt4GbYLR3hnZWxPsk_Q",
     "timestamp": 1609875402995
    },
    {
     "file_id": "1fWjjkSY-Z3VssKVwM3Qj4gcHX1N2jE0u",
     "timestamp": 1609584129609
    },
    {
     "file_id": "1FFP7j-2MJnK3_s0NClPlLEj60XfVLvn5",
     "timestamp": 1609422091694
    },
    {
     "file_id": "18CiDRL-iRn8QrGuUCXCFtm8mHBhCtkmG",
     "timestamp": 1608738967039
    }
   ],
   "toc_visible": true
  },
  "kernelspec": {
   "display_name": "Python 3",
   "language": "python",
   "name": "python3"
  },
  "language_info": {
   "codemirror_mode": {
    "name": "ipython",
    "version": 3
   },
   "file_extension": ".py",
   "mimetype": "text/x-python",
   "name": "python",
   "nbconvert_exporter": "python",
   "pygments_lexer": "ipython3",
   "version": "3.7.6"
  }
 },
 "nbformat": 4,
 "nbformat_minor": 1
}
